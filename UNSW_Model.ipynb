{
  "metadata": {
    "kernelspec": {
      "language": "python",
      "display_name": "Python 3",
      "name": "python3"
    },
    "language_info": {
      "name": "python",
      "version": "3.10.12",
      "mimetype": "text/x-python",
      "codemirror_mode": {
        "name": "ipython",
        "version": 3
      },
      "pygments_lexer": "ipython3",
      "nbconvert_exporter": "python",
      "file_extension": ".py"
    },
    "kaggle": {
      "accelerator": "none",
      "dataSources": [
        {
          "sourceId": 267091,
          "sourceType": "datasetVersion",
          "datasetId": 111554
        }
      ],
      "dockerImageVersionId": 30558,
      "isInternetEnabled": true,
      "language": "python",
      "sourceType": "notebook",
      "isGpuEnabled": false
    },
    "colab": {
      "provenance": []
    }
  },
  "nbformat_minor": 0,
  "nbformat": 4,
  "cells": [
    {
      "source": [
        "\n",
        "# IMPORTANT: RUN THIS CELL IN ORDER TO IMPORT YOUR KAGGLE DATA SOURCES\n",
        "# TO THE CORRECT LOCATION (/kaggle/input) IN YOUR NOTEBOOK,\n",
        "# THEN FEEL FREE TO DELETE THIS CELL.\n",
        "# NOTE: THIS NOTEBOOK ENVIRONMENT DIFFERS FROM KAGGLE'S PYTHON\n",
        "# ENVIRONMENT SO THERE MAY BE MISSING LIBRARIES USED BY YOUR\n",
        "# NOTEBOOK.\n",
        "\n",
        "import os\n",
        "import sys\n",
        "from tempfile import NamedTemporaryFile\n",
        "from urllib.request import urlopen\n",
        "from urllib.parse import unquote, urlparse\n",
        "from urllib.error import HTTPError\n",
        "from zipfile import ZipFile\n",
        "import tarfile\n",
        "import shutil\n",
        "\n",
        "CHUNK_SIZE = 40960\n",
        "DATA_SOURCE_MAPPING = 'unsw-nb15:https%3A%2F%2Fstorage.googleapis.com%2Fkaggle-data-sets%2F111554%2F267091%2Fbundle%2Farchive.zip%3FX-Goog-Algorithm%3DGOOG4-RSA-SHA256%26X-Goog-Credential%3Dgcp-kaggle-com%2540kaggle-161607.iam.gserviceaccount.com%252F20240704%252Fauto%252Fstorage%252Fgoog4_request%26X-Goog-Date%3D20240704T033441Z%26X-Goog-Expires%3D259200%26X-Goog-SignedHeaders%3Dhost%26X-Goog-Signature%3D3ac2c7d6565145cb9940b80ea0d288f8a271a7fceabbfc506370bc15a5809dc3a56e9d55d6a29dab3940d3a22b4aeb7c834b78af606293735241d07238d98ecafb7416e0fe9bf883dc68317ae4d2276f2fb326a37c63c949ba922df5761b4c1d37f815b84060ea3b28dc85176224e69693a966d5144b5c3c21e240c8761f061f63366da6ac8fa615e8b1c149bb12e2d8eea17f85624c98693eb10869054ecab6b6a1c4cceb70c0b6cfb4c78391a9664c71fa84c939c1eae2796fef626293ccdc78b65dd871341bb8e4c50bc2719b6ea3da59933d4d1f0f681ccca58ef0b15dfbc155127cf5b700389cb4a52c2e5426f46fa00961c6817007b1f46b54a9e879ae'\n",
        "\n",
        "KAGGLE_INPUT_PATH='/kaggle/input'\n",
        "KAGGLE_WORKING_PATH='/kaggle/working'\n",
        "KAGGLE_SYMLINK='kaggle'\n",
        "\n",
        "!umount /kaggle/input/ 2> /dev/null\n",
        "shutil.rmtree('/kaggle/input', ignore_errors=True)\n",
        "os.makedirs(KAGGLE_INPUT_PATH, 0o777, exist_ok=True)\n",
        "os.makedirs(KAGGLE_WORKING_PATH, 0o777, exist_ok=True)\n",
        "\n",
        "try:\n",
        "  os.symlink(KAGGLE_INPUT_PATH, os.path.join(\"..\", 'input'), target_is_directory=True)\n",
        "except FileExistsError:\n",
        "  pass\n",
        "try:\n",
        "  os.symlink(KAGGLE_WORKING_PATH, os.path.join(\"..\", 'working'), target_is_directory=True)\n",
        "except FileExistsError:\n",
        "  pass\n",
        "\n",
        "for data_source_mapping in DATA_SOURCE_MAPPING.split(','):\n",
        "    directory, download_url_encoded = data_source_mapping.split(':')\n",
        "    download_url = unquote(download_url_encoded)\n",
        "    filename = urlparse(download_url).path\n",
        "    destination_path = os.path.join(KAGGLE_INPUT_PATH, directory)\n",
        "    try:\n",
        "        with urlopen(download_url) as fileres, NamedTemporaryFile() as tfile:\n",
        "            total_length = fileres.headers['content-length']\n",
        "            print(f'Downloading {directory}, {total_length} bytes compressed')\n",
        "            dl = 0\n",
        "            data = fileres.read(CHUNK_SIZE)\n",
        "            while len(data) > 0:\n",
        "                dl += len(data)\n",
        "                tfile.write(data)\n",
        "                done = int(50 * dl / int(total_length))\n",
        "                sys.stdout.write(f\"\\r[{'=' * done}{' ' * (50-done)}] {dl} bytes downloaded\")\n",
        "                sys.stdout.flush()\n",
        "                data = fileres.read(CHUNK_SIZE)\n",
        "            if filename.endswith('.zip'):\n",
        "              with ZipFile(tfile) as zfile:\n",
        "                zfile.extractall(destination_path)\n",
        "            else:\n",
        "              with tarfile.open(tfile.name) as tarfile:\n",
        "                tarfile.extractall(destination_path)\n",
        "            print(f'\\nDownloaded and uncompressed: {directory}')\n",
        "    except HTTPError as e:\n",
        "        print(f'Failed to load (likely expired) {download_url} to path {destination_path}')\n",
        "        continue\n",
        "    except OSError as e:\n",
        "        print(f'Failed to load {download_url} to path {destination_path}')\n",
        "        continue\n",
        "\n",
        "print('Data source import complete.')\n"
      ],
      "metadata": {
        "id": "efgdPjYszxvh",
        "colab": {
          "base_uri": "https://localhost:8080/"
        },
        "outputId": "2b476d73-9837-46b5-ade0-af24ed4eae36"
      },
      "cell_type": "code",
      "outputs": [
        {
          "output_type": "stream",
          "name": "stdout",
          "text": [
            "Downloading unsw-nb15, 156257637 bytes compressed\n",
            "[==================================================] 156257637 bytes downloaded\n",
            "Downloaded and uncompressed: unsw-nb15\n",
            "Data source import complete.\n"
          ]
        }
      ],
      "execution_count": 1
    },
    {
      "cell_type": "code",
      "source": [
        "# This Python 3 environment comes with many helpful analytics libraries installed\n",
        "# It is defined by the kaggle/python Docker image: https://github.com/kaggle/docker-python\n",
        "# For example, here's several helpful packages to load\n",
        "\n",
        "\n",
        "import numpy as np # linear algebra\n",
        "import pandas as pd # data processing, CSV file I/O (e.g. pd.read_csv)\n",
        "from sklearn.model_selection import train_test_split\n",
        "import matplotlib.pyplot as plt\n",
        "import seaborn as sns\n",
        "import time\n",
        "from sklearn.preprocessing import LabelEncoder\n",
        "from sklearn.preprocessing import StandardScaler\n",
        "from sklearn.ensemble import RandomForestClassifier\n",
        "from sklearn.linear_model import LogisticRegression\n",
        "from sklearn.cluster import KMeans\n",
        "from sklearn.metrics import accuracy_score, confusion_matrix, ConfusionMatrixDisplay, RocCurveDisplay, auc\n",
        "from sklearn.metrics import precision_score, recall_score, f1_score, roc_curve\n",
        "from sklearn.feature_selection import RFE\n",
        "from sklearn.tree import DecisionTreeClassifier\n",
        "from sklearn.naive_bayes import GaussianNB\n",
        "from sklearn.feature_selection import mutual_info_classif\n",
        "import xgboost as xgb\n",
        "\n",
        "import keras\n",
        "from numpy import array\n",
        "# Input data files are available in the read-only \"../input/\" directory\n",
        "# For example, running this (by clicking run or pressing Shift+Enter) will list all files under the input directory\n",
        "\n",
        "import os\n",
        "\n",
        "# You can write up to 20GB to the current directory (/kaggle/working/) that gets preserved as output when you create a version using \"Save & Run All\"\n",
        "# You can also write temporary files to /kaggle/temp/, but they won't be saved outside of the current session"
      ],
      "metadata": {
        "_uuid": "8f2839f25d086af736a60e9eeb907d3b93b6e0e5",
        "_cell_guid": "b1076dfc-b9ad-4769-8c92-a6c4dae69d19",
        "execution": {
          "iopub.status.busy": "2024-01-17T18:51:06.011041Z",
          "iopub.execute_input": "2024-01-17T18:51:06.011455Z",
          "iopub.status.idle": "2024-01-17T18:51:06.02105Z",
          "shell.execute_reply.started": "2024-01-17T18:51:06.011424Z",
          "shell.execute_reply": "2024-01-17T18:51:06.019249Z"
        },
        "trusted": true,
        "id": "hVc-yvMnzxvr"
      },
      "execution_count": 2,
      "outputs": []
    },
    {
      "cell_type": "markdown",
      "source": [
        "**Concatinate train and test to make some data precessing and cleaning before splitting**"
      ],
      "metadata": {
        "id": "oGEh0Jg7zxvs"
      }
    },
    {
      "cell_type": "code",
      "source": [
        "df_train = pd.read_csv(\"/kaggle/input/unsw-nb15/UNSW_NB15_testing-set.csv\")\n",
        "df_test = pd.read_csv(\"/kaggle/input/unsw-nb15/UNSW_NB15_training-set.csv\")\n",
        "df = pd.concat([df_train, df_test])\n",
        "# information about the dataset\n",
        "pd.set_option('display.max_columns', None)\n",
        "df"
      ],
      "metadata": {
        "execution": {
          "iopub.status.busy": "2024-01-17T18:51:06.024203Z",
          "iopub.execute_input": "2024-01-17T18:51:06.024928Z",
          "iopub.status.idle": "2024-01-17T18:51:07.39629Z",
          "shell.execute_reply.started": "2024-01-17T18:51:06.024855Z",
          "shell.execute_reply": "2024-01-17T18:51:07.394847Z"
        },
        "trusted": true,
        "id": "8Wfa2-LEzxvv",
        "colab": {
          "base_uri": "https://localhost:8080/",
          "height": 431
        },
        "outputId": "1b03d680-9b99-452b-8069-38e158f52f7c"
      },
      "execution_count": 3,
      "outputs": [
        {
          "output_type": "execute_result",
          "data": {
            "text/plain": [
              "          id       dur proto service state  spkts  dpkts  sbytes  dbytes  \\\n",
              "0          1  0.121478   tcp       -   FIN      6      4     258     172   \n",
              "1          2  0.649902   tcp       -   FIN     14     38     734   42014   \n",
              "2          3  1.623129   tcp       -   FIN      8     16     364   13186   \n",
              "3          4  1.681642   tcp     ftp   FIN     12     12     628     770   \n",
              "4          5  0.449454   tcp       -   FIN     10      6     534     268   \n",
              "...      ...       ...   ...     ...   ...    ...    ...     ...     ...   \n",
              "82327  82328  0.000005   udp       -   INT      2      0     104       0   \n",
              "82328  82329  1.106101   tcp       -   FIN     20      8   18062     354   \n",
              "82329  82330  0.000000   arp       -   INT      1      0      46       0   \n",
              "82330  82331  0.000000   arp       -   INT      1      0      46       0   \n",
              "82331  82332  0.000009   udp       -   INT      2      0     104       0   \n",
              "\n",
              "                rate  sttl  dttl         sload          dload  sloss  dloss  \\\n",
              "0          74.087490   252   254  1.415894e+04    8495.365234      0      0   \n",
              "1          78.473372    62   252  8.395112e+03  503571.312500      2     17   \n",
              "2          14.170161    62   252  1.572272e+03   60929.230470      1      6   \n",
              "3          13.677108    62   252  2.740179e+03    3358.622070      1      3   \n",
              "4          33.373826   254   252  8.561499e+03    3987.059814      2      1   \n",
              "...              ...   ...   ...           ...            ...    ...    ...   \n",
              "82327  200000.005100   254     0  8.320000e+07       0.000000      0      0   \n",
              "82328      24.410067   254   252  1.241044e+05    2242.109863      7      1   \n",
              "82329       0.000000     0     0  0.000000e+00       0.000000      0      0   \n",
              "82330       0.000000     0     0  0.000000e+00       0.000000      0      0   \n",
              "82331  111111.107200   254     0  4.622222e+07       0.000000      0      0   \n",
              "\n",
              "             sinpkt      dinpkt          sjit          djit  swin       stcpb  \\\n",
              "0         24.295600    8.375000     30.177547     11.830604   255   621772692   \n",
              "1         49.915000   15.432865     61.426934   1387.778330   255  1417884146   \n",
              "2        231.875571  102.737203  17179.586860  11420.926230   255  2116150707   \n",
              "3        152.876547   90.235726    259.080172   4991.784669   255  1107119177   \n",
              "4         47.750333   75.659602   2415.837634    115.807000   255  2436137549   \n",
              "...             ...         ...           ...           ...   ...         ...   \n",
              "82327      0.005000    0.000000      0.000000      0.000000     0           0   \n",
              "82328     55.880051  143.700000   4798.130981    190.980813   255  1072535109   \n",
              "82329  60000.720000    0.000000      0.000000      0.000000     0           0   \n",
              "82330  60000.732000    0.000000     10.954518      0.000000     0           0   \n",
              "82331      0.009000    0.000000      0.000000      0.000000     0           0   \n",
              "\n",
              "            dtcpb  dwin    tcprtt    synack    ackdat  smean  dmean  \\\n",
              "0      2202533631   255  0.000000  0.000000  0.000000     43     43   \n",
              "1      3077387971   255  0.000000  0.000000  0.000000     52   1106   \n",
              "2      2963114973   255  0.111897  0.061458  0.050439     46    824   \n",
              "3      1047442890   255  0.000000  0.000000  0.000000     52     64   \n",
              "4      1977154190   255  0.128381  0.071147  0.057234     53     45   \n",
              "...           ...   ...       ...       ...       ...    ...    ...   \n",
              "82327           0     0  0.000000  0.000000  0.000000     52      0   \n",
              "82328  3284291478   255  0.173208  0.100191  0.073017    903     44   \n",
              "82329           0     0  0.000000  0.000000  0.000000     46      0   \n",
              "82330           0     0  0.000000  0.000000  0.000000     46      0   \n",
              "82331           0     0  0.000000  0.000000  0.000000     52      0   \n",
              "\n",
              "       trans_depth  response_body_len  ct_srv_src  ct_state_ttl  ct_dst_ltm  \\\n",
              "0                0                  0           1             0           1   \n",
              "1                0                  0          43             1           1   \n",
              "2                0                  0           7             1           2   \n",
              "3                0                  0           1             1           2   \n",
              "4                0                  0          43             1           2   \n",
              "...            ...                ...         ...           ...         ...   \n",
              "82327            0                  0           1             2           2   \n",
              "82328            0                  0           1             1           2   \n",
              "82329            0                  0           1             2           1   \n",
              "82330            0                  0           1             2           1   \n",
              "82331            0                  0           1             2           1   \n",
              "\n",
              "       ct_src_dport_ltm  ct_dst_sport_ltm  ct_dst_src_ltm  is_ftp_login  \\\n",
              "0                     1                 1               1             0   \n",
              "1                     1                 1               2             0   \n",
              "2                     1                 1               3             0   \n",
              "3                     1                 1               3             1   \n",
              "4                     2                 1              40             0   \n",
              "...                 ...               ...             ...           ...   \n",
              "82327                 1                 1               2             0   \n",
              "82328                 1                 1               1             0   \n",
              "82329                 1                 1               1             0   \n",
              "82330                 1                 1               1             0   \n",
              "82331                 1                 1               1             0   \n",
              "\n",
              "       ct_ftp_cmd  ct_flw_http_mthd  ct_src_ltm  ct_srv_dst  is_sm_ips_ports  \\\n",
              "0               0                 0           1           1                0   \n",
              "1               0                 0           1           6                0   \n",
              "2               0                 0           2           6                0   \n",
              "3               1                 0           2           1                0   \n",
              "4               0                 0           2          39                0   \n",
              "...           ...               ...         ...         ...              ...   \n",
              "82327           0                 0           2           1                0   \n",
              "82328           0                 0           3           2                0   \n",
              "82329           0                 0           1           1                1   \n",
              "82330           0                 0           1           1                1   \n",
              "82331           0                 0           1           1                0   \n",
              "\n",
              "      attack_cat  label  \n",
              "0         Normal      0  \n",
              "1         Normal      0  \n",
              "2         Normal      0  \n",
              "3         Normal      0  \n",
              "4         Normal      0  \n",
              "...          ...    ...  \n",
              "82327     Normal      0  \n",
              "82328     Normal      0  \n",
              "82329     Normal      0  \n",
              "82330     Normal      0  \n",
              "82331     Normal      0  \n",
              "\n",
              "[257673 rows x 45 columns]"
            ],
            "text/html": [
              "\n",
              "  <div id=\"df-4c32ffe3-4107-42d5-87f7-3e00c86648dd\" class=\"colab-df-container\">\n",
              "    <div>\n",
              "<style scoped>\n",
              "    .dataframe tbody tr th:only-of-type {\n",
              "        vertical-align: middle;\n",
              "    }\n",
              "\n",
              "    .dataframe tbody tr th {\n",
              "        vertical-align: top;\n",
              "    }\n",
              "\n",
              "    .dataframe thead th {\n",
              "        text-align: right;\n",
              "    }\n",
              "</style>\n",
              "<table border=\"1\" class=\"dataframe\">\n",
              "  <thead>\n",
              "    <tr style=\"text-align: right;\">\n",
              "      <th></th>\n",
              "      <th>id</th>\n",
              "      <th>dur</th>\n",
              "      <th>proto</th>\n",
              "      <th>service</th>\n",
              "      <th>state</th>\n",
              "      <th>spkts</th>\n",
              "      <th>dpkts</th>\n",
              "      <th>sbytes</th>\n",
              "      <th>dbytes</th>\n",
              "      <th>rate</th>\n",
              "      <th>sttl</th>\n",
              "      <th>dttl</th>\n",
              "      <th>sload</th>\n",
              "      <th>dload</th>\n",
              "      <th>sloss</th>\n",
              "      <th>dloss</th>\n",
              "      <th>sinpkt</th>\n",
              "      <th>dinpkt</th>\n",
              "      <th>sjit</th>\n",
              "      <th>djit</th>\n",
              "      <th>swin</th>\n",
              "      <th>stcpb</th>\n",
              "      <th>dtcpb</th>\n",
              "      <th>dwin</th>\n",
              "      <th>tcprtt</th>\n",
              "      <th>synack</th>\n",
              "      <th>ackdat</th>\n",
              "      <th>smean</th>\n",
              "      <th>dmean</th>\n",
              "      <th>trans_depth</th>\n",
              "      <th>response_body_len</th>\n",
              "      <th>ct_srv_src</th>\n",
              "      <th>ct_state_ttl</th>\n",
              "      <th>ct_dst_ltm</th>\n",
              "      <th>ct_src_dport_ltm</th>\n",
              "      <th>ct_dst_sport_ltm</th>\n",
              "      <th>ct_dst_src_ltm</th>\n",
              "      <th>is_ftp_login</th>\n",
              "      <th>ct_ftp_cmd</th>\n",
              "      <th>ct_flw_http_mthd</th>\n",
              "      <th>ct_src_ltm</th>\n",
              "      <th>ct_srv_dst</th>\n",
              "      <th>is_sm_ips_ports</th>\n",
              "      <th>attack_cat</th>\n",
              "      <th>label</th>\n",
              "    </tr>\n",
              "  </thead>\n",
              "  <tbody>\n",
              "    <tr>\n",
              "      <th>0</th>\n",
              "      <td>1</td>\n",
              "      <td>0.121478</td>\n",
              "      <td>tcp</td>\n",
              "      <td>-</td>\n",
              "      <td>FIN</td>\n",
              "      <td>6</td>\n",
              "      <td>4</td>\n",
              "      <td>258</td>\n",
              "      <td>172</td>\n",
              "      <td>74.087490</td>\n",
              "      <td>252</td>\n",
              "      <td>254</td>\n",
              "      <td>1.415894e+04</td>\n",
              "      <td>8495.365234</td>\n",
              "      <td>0</td>\n",
              "      <td>0</td>\n",
              "      <td>24.295600</td>\n",
              "      <td>8.375000</td>\n",
              "      <td>30.177547</td>\n",
              "      <td>11.830604</td>\n",
              "      <td>255</td>\n",
              "      <td>621772692</td>\n",
              "      <td>2202533631</td>\n",
              "      <td>255</td>\n",
              "      <td>0.000000</td>\n",
              "      <td>0.000000</td>\n",
              "      <td>0.000000</td>\n",
              "      <td>43</td>\n",
              "      <td>43</td>\n",
              "      <td>0</td>\n",
              "      <td>0</td>\n",
              "      <td>1</td>\n",
              "      <td>0</td>\n",
              "      <td>1</td>\n",
              "      <td>1</td>\n",
              "      <td>1</td>\n",
              "      <td>1</td>\n",
              "      <td>0</td>\n",
              "      <td>0</td>\n",
              "      <td>0</td>\n",
              "      <td>1</td>\n",
              "      <td>1</td>\n",
              "      <td>0</td>\n",
              "      <td>Normal</td>\n",
              "      <td>0</td>\n",
              "    </tr>\n",
              "    <tr>\n",
              "      <th>1</th>\n",
              "      <td>2</td>\n",
              "      <td>0.649902</td>\n",
              "      <td>tcp</td>\n",
              "      <td>-</td>\n",
              "      <td>FIN</td>\n",
              "      <td>14</td>\n",
              "      <td>38</td>\n",
              "      <td>734</td>\n",
              "      <td>42014</td>\n",
              "      <td>78.473372</td>\n",
              "      <td>62</td>\n",
              "      <td>252</td>\n",
              "      <td>8.395112e+03</td>\n",
              "      <td>503571.312500</td>\n",
              "      <td>2</td>\n",
              "      <td>17</td>\n",
              "      <td>49.915000</td>\n",
              "      <td>15.432865</td>\n",
              "      <td>61.426934</td>\n",
              "      <td>1387.778330</td>\n",
              "      <td>255</td>\n",
              "      <td>1417884146</td>\n",
              "      <td>3077387971</td>\n",
              "      <td>255</td>\n",
              "      <td>0.000000</td>\n",
              "      <td>0.000000</td>\n",
              "      <td>0.000000</td>\n",
              "      <td>52</td>\n",
              "      <td>1106</td>\n",
              "      <td>0</td>\n",
              "      <td>0</td>\n",
              "      <td>43</td>\n",
              "      <td>1</td>\n",
              "      <td>1</td>\n",
              "      <td>1</td>\n",
              "      <td>1</td>\n",
              "      <td>2</td>\n",
              "      <td>0</td>\n",
              "      <td>0</td>\n",
              "      <td>0</td>\n",
              "      <td>1</td>\n",
              "      <td>6</td>\n",
              "      <td>0</td>\n",
              "      <td>Normal</td>\n",
              "      <td>0</td>\n",
              "    </tr>\n",
              "    <tr>\n",
              "      <th>2</th>\n",
              "      <td>3</td>\n",
              "      <td>1.623129</td>\n",
              "      <td>tcp</td>\n",
              "      <td>-</td>\n",
              "      <td>FIN</td>\n",
              "      <td>8</td>\n",
              "      <td>16</td>\n",
              "      <td>364</td>\n",
              "      <td>13186</td>\n",
              "      <td>14.170161</td>\n",
              "      <td>62</td>\n",
              "      <td>252</td>\n",
              "      <td>1.572272e+03</td>\n",
              "      <td>60929.230470</td>\n",
              "      <td>1</td>\n",
              "      <td>6</td>\n",
              "      <td>231.875571</td>\n",
              "      <td>102.737203</td>\n",
              "      <td>17179.586860</td>\n",
              "      <td>11420.926230</td>\n",
              "      <td>255</td>\n",
              "      <td>2116150707</td>\n",
              "      <td>2963114973</td>\n",
              "      <td>255</td>\n",
              "      <td>0.111897</td>\n",
              "      <td>0.061458</td>\n",
              "      <td>0.050439</td>\n",
              "      <td>46</td>\n",
              "      <td>824</td>\n",
              "      <td>0</td>\n",
              "      <td>0</td>\n",
              "      <td>7</td>\n",
              "      <td>1</td>\n",
              "      <td>2</td>\n",
              "      <td>1</td>\n",
              "      <td>1</td>\n",
              "      <td>3</td>\n",
              "      <td>0</td>\n",
              "      <td>0</td>\n",
              "      <td>0</td>\n",
              "      <td>2</td>\n",
              "      <td>6</td>\n",
              "      <td>0</td>\n",
              "      <td>Normal</td>\n",
              "      <td>0</td>\n",
              "    </tr>\n",
              "    <tr>\n",
              "      <th>3</th>\n",
              "      <td>4</td>\n",
              "      <td>1.681642</td>\n",
              "      <td>tcp</td>\n",
              "      <td>ftp</td>\n",
              "      <td>FIN</td>\n",
              "      <td>12</td>\n",
              "      <td>12</td>\n",
              "      <td>628</td>\n",
              "      <td>770</td>\n",
              "      <td>13.677108</td>\n",
              "      <td>62</td>\n",
              "      <td>252</td>\n",
              "      <td>2.740179e+03</td>\n",
              "      <td>3358.622070</td>\n",
              "      <td>1</td>\n",
              "      <td>3</td>\n",
              "      <td>152.876547</td>\n",
              "      <td>90.235726</td>\n",
              "      <td>259.080172</td>\n",
              "      <td>4991.784669</td>\n",
              "      <td>255</td>\n",
              "      <td>1107119177</td>\n",
              "      <td>1047442890</td>\n",
              "      <td>255</td>\n",
              "      <td>0.000000</td>\n",
              "      <td>0.000000</td>\n",
              "      <td>0.000000</td>\n",
              "      <td>52</td>\n",
              "      <td>64</td>\n",
              "      <td>0</td>\n",
              "      <td>0</td>\n",
              "      <td>1</td>\n",
              "      <td>1</td>\n",
              "      <td>2</td>\n",
              "      <td>1</td>\n",
              "      <td>1</td>\n",
              "      <td>3</td>\n",
              "      <td>1</td>\n",
              "      <td>1</td>\n",
              "      <td>0</td>\n",
              "      <td>2</td>\n",
              "      <td>1</td>\n",
              "      <td>0</td>\n",
              "      <td>Normal</td>\n",
              "      <td>0</td>\n",
              "    </tr>\n",
              "    <tr>\n",
              "      <th>4</th>\n",
              "      <td>5</td>\n",
              "      <td>0.449454</td>\n",
              "      <td>tcp</td>\n",
              "      <td>-</td>\n",
              "      <td>FIN</td>\n",
              "      <td>10</td>\n",
              "      <td>6</td>\n",
              "      <td>534</td>\n",
              "      <td>268</td>\n",
              "      <td>33.373826</td>\n",
              "      <td>254</td>\n",
              "      <td>252</td>\n",
              "      <td>8.561499e+03</td>\n",
              "      <td>3987.059814</td>\n",
              "      <td>2</td>\n",
              "      <td>1</td>\n",
              "      <td>47.750333</td>\n",
              "      <td>75.659602</td>\n",
              "      <td>2415.837634</td>\n",
              "      <td>115.807000</td>\n",
              "      <td>255</td>\n",
              "      <td>2436137549</td>\n",
              "      <td>1977154190</td>\n",
              "      <td>255</td>\n",
              "      <td>0.128381</td>\n",
              "      <td>0.071147</td>\n",
              "      <td>0.057234</td>\n",
              "      <td>53</td>\n",
              "      <td>45</td>\n",
              "      <td>0</td>\n",
              "      <td>0</td>\n",
              "      <td>43</td>\n",
              "      <td>1</td>\n",
              "      <td>2</td>\n",
              "      <td>2</td>\n",
              "      <td>1</td>\n",
              "      <td>40</td>\n",
              "      <td>0</td>\n",
              "      <td>0</td>\n",
              "      <td>0</td>\n",
              "      <td>2</td>\n",
              "      <td>39</td>\n",
              "      <td>0</td>\n",
              "      <td>Normal</td>\n",
              "      <td>0</td>\n",
              "    </tr>\n",
              "    <tr>\n",
              "      <th>...</th>\n",
              "      <td>...</td>\n",
              "      <td>...</td>\n",
              "      <td>...</td>\n",
              "      <td>...</td>\n",
              "      <td>...</td>\n",
              "      <td>...</td>\n",
              "      <td>...</td>\n",
              "      <td>...</td>\n",
              "      <td>...</td>\n",
              "      <td>...</td>\n",
              "      <td>...</td>\n",
              "      <td>...</td>\n",
              "      <td>...</td>\n",
              "      <td>...</td>\n",
              "      <td>...</td>\n",
              "      <td>...</td>\n",
              "      <td>...</td>\n",
              "      <td>...</td>\n",
              "      <td>...</td>\n",
              "      <td>...</td>\n",
              "      <td>...</td>\n",
              "      <td>...</td>\n",
              "      <td>...</td>\n",
              "      <td>...</td>\n",
              "      <td>...</td>\n",
              "      <td>...</td>\n",
              "      <td>...</td>\n",
              "      <td>...</td>\n",
              "      <td>...</td>\n",
              "      <td>...</td>\n",
              "      <td>...</td>\n",
              "      <td>...</td>\n",
              "      <td>...</td>\n",
              "      <td>...</td>\n",
              "      <td>...</td>\n",
              "      <td>...</td>\n",
              "      <td>...</td>\n",
              "      <td>...</td>\n",
              "      <td>...</td>\n",
              "      <td>...</td>\n",
              "      <td>...</td>\n",
              "      <td>...</td>\n",
              "      <td>...</td>\n",
              "      <td>...</td>\n",
              "      <td>...</td>\n",
              "    </tr>\n",
              "    <tr>\n",
              "      <th>82327</th>\n",
              "      <td>82328</td>\n",
              "      <td>0.000005</td>\n",
              "      <td>udp</td>\n",
              "      <td>-</td>\n",
              "      <td>INT</td>\n",
              "      <td>2</td>\n",
              "      <td>0</td>\n",
              "      <td>104</td>\n",
              "      <td>0</td>\n",
              "      <td>200000.005100</td>\n",
              "      <td>254</td>\n",
              "      <td>0</td>\n",
              "      <td>8.320000e+07</td>\n",
              "      <td>0.000000</td>\n",
              "      <td>0</td>\n",
              "      <td>0</td>\n",
              "      <td>0.005000</td>\n",
              "      <td>0.000000</td>\n",
              "      <td>0.000000</td>\n",
              "      <td>0.000000</td>\n",
              "      <td>0</td>\n",
              "      <td>0</td>\n",
              "      <td>0</td>\n",
              "      <td>0</td>\n",
              "      <td>0.000000</td>\n",
              "      <td>0.000000</td>\n",
              "      <td>0.000000</td>\n",
              "      <td>52</td>\n",
              "      <td>0</td>\n",
              "      <td>0</td>\n",
              "      <td>0</td>\n",
              "      <td>1</td>\n",
              "      <td>2</td>\n",
              "      <td>2</td>\n",
              "      <td>1</td>\n",
              "      <td>1</td>\n",
              "      <td>2</td>\n",
              "      <td>0</td>\n",
              "      <td>0</td>\n",
              "      <td>0</td>\n",
              "      <td>2</td>\n",
              "      <td>1</td>\n",
              "      <td>0</td>\n",
              "      <td>Normal</td>\n",
              "      <td>0</td>\n",
              "    </tr>\n",
              "    <tr>\n",
              "      <th>82328</th>\n",
              "      <td>82329</td>\n",
              "      <td>1.106101</td>\n",
              "      <td>tcp</td>\n",
              "      <td>-</td>\n",
              "      <td>FIN</td>\n",
              "      <td>20</td>\n",
              "      <td>8</td>\n",
              "      <td>18062</td>\n",
              "      <td>354</td>\n",
              "      <td>24.410067</td>\n",
              "      <td>254</td>\n",
              "      <td>252</td>\n",
              "      <td>1.241044e+05</td>\n",
              "      <td>2242.109863</td>\n",
              "      <td>7</td>\n",
              "      <td>1</td>\n",
              "      <td>55.880051</td>\n",
              "      <td>143.700000</td>\n",
              "      <td>4798.130981</td>\n",
              "      <td>190.980813</td>\n",
              "      <td>255</td>\n",
              "      <td>1072535109</td>\n",
              "      <td>3284291478</td>\n",
              "      <td>255</td>\n",
              "      <td>0.173208</td>\n",
              "      <td>0.100191</td>\n",
              "      <td>0.073017</td>\n",
              "      <td>903</td>\n",
              "      <td>44</td>\n",
              "      <td>0</td>\n",
              "      <td>0</td>\n",
              "      <td>1</td>\n",
              "      <td>1</td>\n",
              "      <td>2</td>\n",
              "      <td>1</td>\n",
              "      <td>1</td>\n",
              "      <td>1</td>\n",
              "      <td>0</td>\n",
              "      <td>0</td>\n",
              "      <td>0</td>\n",
              "      <td>3</td>\n",
              "      <td>2</td>\n",
              "      <td>0</td>\n",
              "      <td>Normal</td>\n",
              "      <td>0</td>\n",
              "    </tr>\n",
              "    <tr>\n",
              "      <th>82329</th>\n",
              "      <td>82330</td>\n",
              "      <td>0.000000</td>\n",
              "      <td>arp</td>\n",
              "      <td>-</td>\n",
              "      <td>INT</td>\n",
              "      <td>1</td>\n",
              "      <td>0</td>\n",
              "      <td>46</td>\n",
              "      <td>0</td>\n",
              "      <td>0.000000</td>\n",
              "      <td>0</td>\n",
              "      <td>0</td>\n",
              "      <td>0.000000e+00</td>\n",
              "      <td>0.000000</td>\n",
              "      <td>0</td>\n",
              "      <td>0</td>\n",
              "      <td>60000.720000</td>\n",
              "      <td>0.000000</td>\n",
              "      <td>0.000000</td>\n",
              "      <td>0.000000</td>\n",
              "      <td>0</td>\n",
              "      <td>0</td>\n",
              "      <td>0</td>\n",
              "      <td>0</td>\n",
              "      <td>0.000000</td>\n",
              "      <td>0.000000</td>\n",
              "      <td>0.000000</td>\n",
              "      <td>46</td>\n",
              "      <td>0</td>\n",
              "      <td>0</td>\n",
              "      <td>0</td>\n",
              "      <td>1</td>\n",
              "      <td>2</td>\n",
              "      <td>1</td>\n",
              "      <td>1</td>\n",
              "      <td>1</td>\n",
              "      <td>1</td>\n",
              "      <td>0</td>\n",
              "      <td>0</td>\n",
              "      <td>0</td>\n",
              "      <td>1</td>\n",
              "      <td>1</td>\n",
              "      <td>1</td>\n",
              "      <td>Normal</td>\n",
              "      <td>0</td>\n",
              "    </tr>\n",
              "    <tr>\n",
              "      <th>82330</th>\n",
              "      <td>82331</td>\n",
              "      <td>0.000000</td>\n",
              "      <td>arp</td>\n",
              "      <td>-</td>\n",
              "      <td>INT</td>\n",
              "      <td>1</td>\n",
              "      <td>0</td>\n",
              "      <td>46</td>\n",
              "      <td>0</td>\n",
              "      <td>0.000000</td>\n",
              "      <td>0</td>\n",
              "      <td>0</td>\n",
              "      <td>0.000000e+00</td>\n",
              "      <td>0.000000</td>\n",
              "      <td>0</td>\n",
              "      <td>0</td>\n",
              "      <td>60000.732000</td>\n",
              "      <td>0.000000</td>\n",
              "      <td>10.954518</td>\n",
              "      <td>0.000000</td>\n",
              "      <td>0</td>\n",
              "      <td>0</td>\n",
              "      <td>0</td>\n",
              "      <td>0</td>\n",
              "      <td>0.000000</td>\n",
              "      <td>0.000000</td>\n",
              "      <td>0.000000</td>\n",
              "      <td>46</td>\n",
              "      <td>0</td>\n",
              "      <td>0</td>\n",
              "      <td>0</td>\n",
              "      <td>1</td>\n",
              "      <td>2</td>\n",
              "      <td>1</td>\n",
              "      <td>1</td>\n",
              "      <td>1</td>\n",
              "      <td>1</td>\n",
              "      <td>0</td>\n",
              "      <td>0</td>\n",
              "      <td>0</td>\n",
              "      <td>1</td>\n",
              "      <td>1</td>\n",
              "      <td>1</td>\n",
              "      <td>Normal</td>\n",
              "      <td>0</td>\n",
              "    </tr>\n",
              "    <tr>\n",
              "      <th>82331</th>\n",
              "      <td>82332</td>\n",
              "      <td>0.000009</td>\n",
              "      <td>udp</td>\n",
              "      <td>-</td>\n",
              "      <td>INT</td>\n",
              "      <td>2</td>\n",
              "      <td>0</td>\n",
              "      <td>104</td>\n",
              "      <td>0</td>\n",
              "      <td>111111.107200</td>\n",
              "      <td>254</td>\n",
              "      <td>0</td>\n",
              "      <td>4.622222e+07</td>\n",
              "      <td>0.000000</td>\n",
              "      <td>0</td>\n",
              "      <td>0</td>\n",
              "      <td>0.009000</td>\n",
              "      <td>0.000000</td>\n",
              "      <td>0.000000</td>\n",
              "      <td>0.000000</td>\n",
              "      <td>0</td>\n",
              "      <td>0</td>\n",
              "      <td>0</td>\n",
              "      <td>0</td>\n",
              "      <td>0.000000</td>\n",
              "      <td>0.000000</td>\n",
              "      <td>0.000000</td>\n",
              "      <td>52</td>\n",
              "      <td>0</td>\n",
              "      <td>0</td>\n",
              "      <td>0</td>\n",
              "      <td>1</td>\n",
              "      <td>2</td>\n",
              "      <td>1</td>\n",
              "      <td>1</td>\n",
              "      <td>1</td>\n",
              "      <td>1</td>\n",
              "      <td>0</td>\n",
              "      <td>0</td>\n",
              "      <td>0</td>\n",
              "      <td>1</td>\n",
              "      <td>1</td>\n",
              "      <td>0</td>\n",
              "      <td>Normal</td>\n",
              "      <td>0</td>\n",
              "    </tr>\n",
              "  </tbody>\n",
              "</table>\n",
              "<p>257673 rows × 45 columns</p>\n",
              "</div>\n",
              "    <div class=\"colab-df-buttons\">\n",
              "\n",
              "  <div class=\"colab-df-container\">\n",
              "    <button class=\"colab-df-convert\" onclick=\"convertToInteractive('df-4c32ffe3-4107-42d5-87f7-3e00c86648dd')\"\n",
              "            title=\"Convert this dataframe to an interactive table.\"\n",
              "            style=\"display:none;\">\n",
              "\n",
              "  <svg xmlns=\"http://www.w3.org/2000/svg\" height=\"24px\" viewBox=\"0 -960 960 960\">\n",
              "    <path d=\"M120-120v-720h720v720H120Zm60-500h600v-160H180v160Zm220 220h160v-160H400v160Zm0 220h160v-160H400v160ZM180-400h160v-160H180v160Zm440 0h160v-160H620v160ZM180-180h160v-160H180v160Zm440 0h160v-160H620v160Z\"/>\n",
              "  </svg>\n",
              "    </button>\n",
              "\n",
              "  <style>\n",
              "    .colab-df-container {\n",
              "      display:flex;\n",
              "      gap: 12px;\n",
              "    }\n",
              "\n",
              "    .colab-df-convert {\n",
              "      background-color: #E8F0FE;\n",
              "      border: none;\n",
              "      border-radius: 50%;\n",
              "      cursor: pointer;\n",
              "      display: none;\n",
              "      fill: #1967D2;\n",
              "      height: 32px;\n",
              "      padding: 0 0 0 0;\n",
              "      width: 32px;\n",
              "    }\n",
              "\n",
              "    .colab-df-convert:hover {\n",
              "      background-color: #E2EBFA;\n",
              "      box-shadow: 0px 1px 2px rgba(60, 64, 67, 0.3), 0px 1px 3px 1px rgba(60, 64, 67, 0.15);\n",
              "      fill: #174EA6;\n",
              "    }\n",
              "\n",
              "    .colab-df-buttons div {\n",
              "      margin-bottom: 4px;\n",
              "    }\n",
              "\n",
              "    [theme=dark] .colab-df-convert {\n",
              "      background-color: #3B4455;\n",
              "      fill: #D2E3FC;\n",
              "    }\n",
              "\n",
              "    [theme=dark] .colab-df-convert:hover {\n",
              "      background-color: #434B5C;\n",
              "      box-shadow: 0px 1px 3px 1px rgba(0, 0, 0, 0.15);\n",
              "      filter: drop-shadow(0px 1px 2px rgba(0, 0, 0, 0.3));\n",
              "      fill: #FFFFFF;\n",
              "    }\n",
              "  </style>\n",
              "\n",
              "    <script>\n",
              "      const buttonEl =\n",
              "        document.querySelector('#df-4c32ffe3-4107-42d5-87f7-3e00c86648dd button.colab-df-convert');\n",
              "      buttonEl.style.display =\n",
              "        google.colab.kernel.accessAllowed ? 'block' : 'none';\n",
              "\n",
              "      async function convertToInteractive(key) {\n",
              "        const element = document.querySelector('#df-4c32ffe3-4107-42d5-87f7-3e00c86648dd');\n",
              "        const dataTable =\n",
              "          await google.colab.kernel.invokeFunction('convertToInteractive',\n",
              "                                                    [key], {});\n",
              "        if (!dataTable) return;\n",
              "\n",
              "        const docLinkHtml = 'Like what you see? Visit the ' +\n",
              "          '<a target=\"_blank\" href=https://colab.research.google.com/notebooks/data_table.ipynb>data table notebook</a>'\n",
              "          + ' to learn more about interactive tables.';\n",
              "        element.innerHTML = '';\n",
              "        dataTable['output_type'] = 'display_data';\n",
              "        await google.colab.output.renderOutput(dataTable, element);\n",
              "        const docLink = document.createElement('div');\n",
              "        docLink.innerHTML = docLinkHtml;\n",
              "        element.appendChild(docLink);\n",
              "      }\n",
              "    </script>\n",
              "  </div>\n",
              "\n",
              "\n",
              "<div id=\"df-fd3f6d79-6ae8-4c7d-89b2-30b8db7bd0b7\">\n",
              "  <button class=\"colab-df-quickchart\" onclick=\"quickchart('df-fd3f6d79-6ae8-4c7d-89b2-30b8db7bd0b7')\"\n",
              "            title=\"Suggest charts\"\n",
              "            style=\"display:none;\">\n",
              "\n",
              "<svg xmlns=\"http://www.w3.org/2000/svg\" height=\"24px\"viewBox=\"0 0 24 24\"\n",
              "     width=\"24px\">\n",
              "    <g>\n",
              "        <path d=\"M19 3H5c-1.1 0-2 .9-2 2v14c0 1.1.9 2 2 2h14c1.1 0 2-.9 2-2V5c0-1.1-.9-2-2-2zM9 17H7v-7h2v7zm4 0h-2V7h2v10zm4 0h-2v-4h2v4z\"/>\n",
              "    </g>\n",
              "</svg>\n",
              "  </button>\n",
              "\n",
              "<style>\n",
              "  .colab-df-quickchart {\n",
              "      --bg-color: #E8F0FE;\n",
              "      --fill-color: #1967D2;\n",
              "      --hover-bg-color: #E2EBFA;\n",
              "      --hover-fill-color: #174EA6;\n",
              "      --disabled-fill-color: #AAA;\n",
              "      --disabled-bg-color: #DDD;\n",
              "  }\n",
              "\n",
              "  [theme=dark] .colab-df-quickchart {\n",
              "      --bg-color: #3B4455;\n",
              "      --fill-color: #D2E3FC;\n",
              "      --hover-bg-color: #434B5C;\n",
              "      --hover-fill-color: #FFFFFF;\n",
              "      --disabled-bg-color: #3B4455;\n",
              "      --disabled-fill-color: #666;\n",
              "  }\n",
              "\n",
              "  .colab-df-quickchart {\n",
              "    background-color: var(--bg-color);\n",
              "    border: none;\n",
              "    border-radius: 50%;\n",
              "    cursor: pointer;\n",
              "    display: none;\n",
              "    fill: var(--fill-color);\n",
              "    height: 32px;\n",
              "    padding: 0;\n",
              "    width: 32px;\n",
              "  }\n",
              "\n",
              "  .colab-df-quickchart:hover {\n",
              "    background-color: var(--hover-bg-color);\n",
              "    box-shadow: 0 1px 2px rgba(60, 64, 67, 0.3), 0 1px 3px 1px rgba(60, 64, 67, 0.15);\n",
              "    fill: var(--button-hover-fill-color);\n",
              "  }\n",
              "\n",
              "  .colab-df-quickchart-complete:disabled,\n",
              "  .colab-df-quickchart-complete:disabled:hover {\n",
              "    background-color: var(--disabled-bg-color);\n",
              "    fill: var(--disabled-fill-color);\n",
              "    box-shadow: none;\n",
              "  }\n",
              "\n",
              "  .colab-df-spinner {\n",
              "    border: 2px solid var(--fill-color);\n",
              "    border-color: transparent;\n",
              "    border-bottom-color: var(--fill-color);\n",
              "    animation:\n",
              "      spin 1s steps(1) infinite;\n",
              "  }\n",
              "\n",
              "  @keyframes spin {\n",
              "    0% {\n",
              "      border-color: transparent;\n",
              "      border-bottom-color: var(--fill-color);\n",
              "      border-left-color: var(--fill-color);\n",
              "    }\n",
              "    20% {\n",
              "      border-color: transparent;\n",
              "      border-left-color: var(--fill-color);\n",
              "      border-top-color: var(--fill-color);\n",
              "    }\n",
              "    30% {\n",
              "      border-color: transparent;\n",
              "      border-left-color: var(--fill-color);\n",
              "      border-top-color: var(--fill-color);\n",
              "      border-right-color: var(--fill-color);\n",
              "    }\n",
              "    40% {\n",
              "      border-color: transparent;\n",
              "      border-right-color: var(--fill-color);\n",
              "      border-top-color: var(--fill-color);\n",
              "    }\n",
              "    60% {\n",
              "      border-color: transparent;\n",
              "      border-right-color: var(--fill-color);\n",
              "    }\n",
              "    80% {\n",
              "      border-color: transparent;\n",
              "      border-right-color: var(--fill-color);\n",
              "      border-bottom-color: var(--fill-color);\n",
              "    }\n",
              "    90% {\n",
              "      border-color: transparent;\n",
              "      border-bottom-color: var(--fill-color);\n",
              "    }\n",
              "  }\n",
              "</style>\n",
              "\n",
              "  <script>\n",
              "    async function quickchart(key) {\n",
              "      const quickchartButtonEl =\n",
              "        document.querySelector('#' + key + ' button');\n",
              "      quickchartButtonEl.disabled = true;  // To prevent multiple clicks.\n",
              "      quickchartButtonEl.classList.add('colab-df-spinner');\n",
              "      try {\n",
              "        const charts = await google.colab.kernel.invokeFunction(\n",
              "            'suggestCharts', [key], {});\n",
              "      } catch (error) {\n",
              "        console.error('Error during call to suggestCharts:', error);\n",
              "      }\n",
              "      quickchartButtonEl.classList.remove('colab-df-spinner');\n",
              "      quickchartButtonEl.classList.add('colab-df-quickchart-complete');\n",
              "    }\n",
              "    (() => {\n",
              "      let quickchartButtonEl =\n",
              "        document.querySelector('#df-fd3f6d79-6ae8-4c7d-89b2-30b8db7bd0b7 button');\n",
              "      quickchartButtonEl.style.display =\n",
              "        google.colab.kernel.accessAllowed ? 'block' : 'none';\n",
              "    })();\n",
              "  </script>\n",
              "</div>\n",
              "\n",
              "  <div id=\"id_76af665b-41a9-40aa-8a69-10dd98587ff2\">\n",
              "    <style>\n",
              "      .colab-df-generate {\n",
              "        background-color: #E8F0FE;\n",
              "        border: none;\n",
              "        border-radius: 50%;\n",
              "        cursor: pointer;\n",
              "        display: none;\n",
              "        fill: #1967D2;\n",
              "        height: 32px;\n",
              "        padding: 0 0 0 0;\n",
              "        width: 32px;\n",
              "      }\n",
              "\n",
              "      .colab-df-generate:hover {\n",
              "        background-color: #E2EBFA;\n",
              "        box-shadow: 0px 1px 2px rgba(60, 64, 67, 0.3), 0px 1px 3px 1px rgba(60, 64, 67, 0.15);\n",
              "        fill: #174EA6;\n",
              "      }\n",
              "\n",
              "      [theme=dark] .colab-df-generate {\n",
              "        background-color: #3B4455;\n",
              "        fill: #D2E3FC;\n",
              "      }\n",
              "\n",
              "      [theme=dark] .colab-df-generate:hover {\n",
              "        background-color: #434B5C;\n",
              "        box-shadow: 0px 1px 3px 1px rgba(0, 0, 0, 0.15);\n",
              "        filter: drop-shadow(0px 1px 2px rgba(0, 0, 0, 0.3));\n",
              "        fill: #FFFFFF;\n",
              "      }\n",
              "    </style>\n",
              "    <button class=\"colab-df-generate\" onclick=\"generateWithVariable('df')\"\n",
              "            title=\"Generate code using this dataframe.\"\n",
              "            style=\"display:none;\">\n",
              "\n",
              "  <svg xmlns=\"http://www.w3.org/2000/svg\" height=\"24px\"viewBox=\"0 0 24 24\"\n",
              "       width=\"24px\">\n",
              "    <path d=\"M7,19H8.4L18.45,9,17,7.55,7,17.6ZM5,21V16.75L18.45,3.32a2,2,0,0,1,2.83,0l1.4,1.43a1.91,1.91,0,0,1,.58,1.4,1.91,1.91,0,0,1-.58,1.4L9.25,21ZM18.45,9,17,7.55Zm-12,3A5.31,5.31,0,0,0,4.9,8.1,5.31,5.31,0,0,0,1,6.5,5.31,5.31,0,0,0,4.9,4.9,5.31,5.31,0,0,0,6.5,1,5.31,5.31,0,0,0,8.1,4.9,5.31,5.31,0,0,0,12,6.5,5.46,5.46,0,0,0,6.5,12Z\"/>\n",
              "  </svg>\n",
              "    </button>\n",
              "    <script>\n",
              "      (() => {\n",
              "      const buttonEl =\n",
              "        document.querySelector('#id_76af665b-41a9-40aa-8a69-10dd98587ff2 button.colab-df-generate');\n",
              "      buttonEl.style.display =\n",
              "        google.colab.kernel.accessAllowed ? 'block' : 'none';\n",
              "\n",
              "      buttonEl.onclick = () => {\n",
              "        google.colab.notebook.generateWithVariable('df');\n",
              "      }\n",
              "      })();\n",
              "    </script>\n",
              "  </div>\n",
              "\n",
              "    </div>\n",
              "  </div>\n"
            ],
            "application/vnd.google.colaboratory.intrinsic+json": {
              "type": "dataframe",
              "variable_name": "df"
            }
          },
          "metadata": {},
          "execution_count": 3
        }
      ]
    },
    {
      "cell_type": "markdown",
      "source": [
        "**Get all Data with \"Backdoor Attack\"\n",
        "and get 2329 Normal data as the same number as the Backdoor Attack**"
      ],
      "metadata": {
        "id": "ScC7qPkJzxvw"
      }
    },
    {
      "cell_type": "code",
      "source": [
        "# Filter the DataFrame to include only \"Backdoor\" and \"Normal\" rows\n",
        "backdoor_data = df[df['attack_cat'] == 'Backdoor']\n",
        "normal_data = df[df['attack_cat'] == 'Normal']\n",
        "\n",
        "# Randomly sample 2329 rows from the \"Normal\" category\n",
        "sampled_normal_data = normal_data.sample(n=2329, random_state=42)  # You can adjust the random_state if needed\n",
        "\n",
        "# Combine the \"Backdoor\" and sampled \"Normal\" data\n",
        "balanced_data = pd.concat([backdoor_data, sampled_normal_data])\n",
        "\n",
        "# Shuffle the balanced data\n",
        "balanced_data_shuffled = balanced_data.sample(frac=1, random_state=42)  # Shuffle with random_state for reproducibility\n",
        "unique_sttl_values = balanced_data_shuffled['state'].unique()\n",
        "unique_sttl_values"
      ],
      "metadata": {
        "execution": {
          "iopub.status.busy": "2024-01-17T18:51:07.39833Z",
          "iopub.execute_input": "2024-01-17T18:51:07.39873Z",
          "iopub.status.idle": "2024-01-17T18:51:07.489622Z",
          "shell.execute_reply.started": "2024-01-17T18:51:07.398694Z",
          "shell.execute_reply": "2024-01-17T18:51:07.488682Z"
        },
        "trusted": true,
        "id": "M7S4jYmrzxvx",
        "colab": {
          "base_uri": "https://localhost:8080/"
        },
        "outputId": "b1c39711-f1df-45ad-fe92-40d1467fcadc"
      },
      "execution_count": 4,
      "outputs": [
        {
          "output_type": "execute_result",
          "data": {
            "text/plain": [
              "array(['INT', 'FIN', 'CON', 'REQ', 'RST'], dtype=object)"
            ]
          },
          "metadata": {},
          "execution_count": 4
        }
      ]
    },
    {
      "cell_type": "markdown",
      "source": [
        "**Check Any missing Value**"
      ],
      "metadata": {
        "id": "2VqAUZWNzxvy"
      }
    },
    {
      "cell_type": "code",
      "source": [
        "# Check for missing values in the dataset\n",
        "missing_values = balanced_data_shuffled.isnull().sum()\n",
        "print(\"Missing values in the dataset:\")\n",
        "print(missing_values)\n"
      ],
      "metadata": {
        "execution": {
          "iopub.status.busy": "2024-01-17T18:51:07.490962Z",
          "iopub.execute_input": "2024-01-17T18:51:07.491603Z",
          "iopub.status.idle": "2024-01-17T18:51:07.502511Z",
          "shell.execute_reply.started": "2024-01-17T18:51:07.491557Z",
          "shell.execute_reply": "2024-01-17T18:51:07.501065Z"
        },
        "trusted": true,
        "id": "QkAjJvenzxvy",
        "colab": {
          "base_uri": "https://localhost:8080/"
        },
        "outputId": "f2221282-809b-47a8-c054-a81ce41d167f"
      },
      "execution_count": 5,
      "outputs": [
        {
          "output_type": "stream",
          "name": "stdout",
          "text": [
            "Missing values in the dataset:\n",
            "id                   0\n",
            "dur                  0\n",
            "proto                0\n",
            "service              0\n",
            "state                0\n",
            "spkts                0\n",
            "dpkts                0\n",
            "sbytes               0\n",
            "dbytes               0\n",
            "rate                 0\n",
            "sttl                 0\n",
            "dttl                 0\n",
            "sload                0\n",
            "dload                0\n",
            "sloss                0\n",
            "dloss                0\n",
            "sinpkt               0\n",
            "dinpkt               0\n",
            "sjit                 0\n",
            "djit                 0\n",
            "swin                 0\n",
            "stcpb                0\n",
            "dtcpb                0\n",
            "dwin                 0\n",
            "tcprtt               0\n",
            "synack               0\n",
            "ackdat               0\n",
            "smean                0\n",
            "dmean                0\n",
            "trans_depth          0\n",
            "response_body_len    0\n",
            "ct_srv_src           0\n",
            "ct_state_ttl         0\n",
            "ct_dst_ltm           0\n",
            "ct_src_dport_ltm     0\n",
            "ct_dst_sport_ltm     0\n",
            "ct_dst_src_ltm       0\n",
            "is_ftp_login         0\n",
            "ct_ftp_cmd           0\n",
            "ct_flw_http_mthd     0\n",
            "ct_src_ltm           0\n",
            "ct_srv_dst           0\n",
            "is_sm_ips_ports      0\n",
            "attack_cat           0\n",
            "label                0\n",
            "dtype: int64\n"
          ]
        }
      ]
    },
    {
      "cell_type": "code",
      "source": [
        "target_variable = balanced_data_shuffled['label']\n",
        "plt.figure(figsize=(12, 8))\n",
        "sns.boxplot(x=target_variable, y=balanced_data_shuffled['sttl'], data=balanced_data_shuffled)\n",
        "plt.title('Box Plot for sttl')\n",
        "plt.show()\n"
      ],
      "metadata": {
        "execution": {
          "iopub.status.busy": "2024-01-17T18:51:07.505811Z",
          "iopub.execute_input": "2024-01-17T18:51:07.506407Z",
          "iopub.status.idle": "2024-01-17T18:51:07.773288Z",
          "shell.execute_reply.started": "2024-01-17T18:51:07.506368Z",
          "shell.execute_reply": "2024-01-17T18:51:07.772015Z"
        },
        "trusted": true,
        "id": "kUj6qWWyzxvz",
        "colab": {
          "base_uri": "https://localhost:8080/",
          "height": 717
        },
        "outputId": "44ede0ec-4a27-40db-f948-ca61340e98a7"
      },
      "execution_count": 6,
      "outputs": [
        {
          "output_type": "display_data",
          "data": {
            "text/plain": [
              "<Figure size 1200x800 with 1 Axes>"
            ],
            "image/png": "[encoded data removed]"
          },
          "metadata": {}
        }
      ]
    },
    {
      "cell_type": "code",
      "source": [
        "\n",
        "plt.hist(backdoor_data['sttl'], bins=20, color='red', alpha=0.7, label='Backdoor', edgecolor='black')\n",
        "plt.hist(normal_data['sttl'], bins=20, color='blue', alpha=0.5, label='Normal', edgecolor='black')\n",
        "plt.title('Histogram of sttl')\n",
        "plt.xlabel('Total TTL')\n",
        "plt.ylabel('Frequency')\n",
        "plt.legend()\n",
        "\n",
        "plt.tight_layout()\n",
        "plt.show()"
      ],
      "metadata": {
        "execution": {
          "iopub.status.busy": "2024-01-17T18:51:07.774892Z",
          "iopub.execute_input": "2024-01-17T18:51:07.775258Z",
          "iopub.status.idle": "2024-01-17T18:51:08.210273Z",
          "shell.execute_reply.started": "2024-01-17T18:51:07.775226Z",
          "shell.execute_reply": "2024-01-17T18:51:08.209304Z"
        },
        "trusted": true,
        "id": "ShgdL7J8zxv0",
        "colab": {
          "base_uri": "https://localhost:8080/",
          "height": 487
        },
        "outputId": "ae20e5cb-3da9-4cd7-9ff8-4421847fbc67"
      },
      "execution_count": 7,
      "outputs": [
        {
          "output_type": "display_data",
          "data": {
            "text/plain": [
              "<Figure size 640x480 with 1 Axes>"
            ],
            "image/png": "[encoded data removed]"
          },
          "metadata": {}
        }
      ]
    },
    {
      "cell_type": "code",
      "source": [
        "plt.hist(backdoor_data['dttl'], bins=20, color='red', alpha=0.7, label='Backdoor', edgecolor='black')\n",
        "plt.hist(normal_data['dttl'], bins=20, color='blue', alpha=0.5, label='Normal', edgecolor='black')\n",
        "plt.title('Histogram of dttl')\n",
        "plt.xlabel('Total TTL')\n",
        "plt.ylabel('Frequency')\n",
        "plt.legend()\n",
        "\n",
        "plt.tight_layout()\n",
        "plt.show()"
      ],
      "metadata": {
        "execution": {
          "iopub.status.busy": "2024-01-17T18:51:08.211774Z",
          "iopub.execute_input": "2024-01-17T18:51:08.212401Z",
          "iopub.status.idle": "2024-01-17T18:51:08.640539Z",
          "shell.execute_reply.started": "2024-01-17T18:51:08.212367Z",
          "shell.execute_reply": "2024-01-17T18:51:08.639351Z"
        },
        "trusted": true,
        "id": "4zmvaC5Gzxv0",
        "colab": {
          "base_uri": "https://localhost:8080/",
          "height": 487
        },
        "outputId": "52e05bd5-44d2-41b3-a1b6-42cf97c4704a"
      },
      "execution_count": 8,
      "outputs": [
        {
          "output_type": "display_data",
          "data": {
            "text/plain": [
              "<Figure size 640x480 with 1 Axes>"
            ],
            "image/png": "[encoded data removed]"
          },
          "metadata": {}
        }
      ]
    },
    {
      "cell_type": "code",
      "source": [
        "normal_data = balanced_data_shuffled[balanced_data_shuffled['label'] == 0]\n",
        "backdoor_data = balanced_data_shuffled[balanced_data_shuffled['label'] == 1]\n",
        "# Scatter plot for Duration vs Packet Count\n",
        "plt.figure(figsize=(10, 6))\n",
        "\n",
        "# Backdoor traffic\n",
        "plt.scatter(backdoor_data['dur'], backdoor_data['sbytes'], color='red', label='Backdoor', alpha=0.7)\n",
        "\n",
        "# Normal traffic\n",
        "plt.scatter(normal_data['dur'], normal_data['sbytes'], color='blue', label='Normal', alpha=0.5)\n",
        "\n",
        "plt.title('Scatter Plot - Duration vs sbytes')\n",
        "plt.xlabel('Duration')\n",
        "plt.ylabel('Packet Count')\n",
        "plt.legend()\n",
        "plt.grid(True)\n",
        "plt.show()"
      ],
      "metadata": {
        "execution": {
          "iopub.status.busy": "2024-01-17T18:51:08.643769Z",
          "iopub.execute_input": "2024-01-17T18:51:08.644383Z",
          "iopub.status.idle": "2024-01-17T18:51:09.045703Z",
          "shell.execute_reply.started": "2024-01-17T18:51:08.644348Z",
          "shell.execute_reply": "2024-01-17T18:51:09.044406Z"
        },
        "trusted": true,
        "id": "Bz4Aq9JWzxv1",
        "colab": {
          "base_uri": "https://localhost:8080/",
          "height": 563
        },
        "outputId": "380245b6-f2e9-4e48-9c90-e58ead7e0ab2"
      },
      "execution_count": 9,
      "outputs": [
        {
          "output_type": "display_data",
          "data": {
            "text/plain": [
              "<Figure size 1000x600 with 1 Axes>"
            ],
            "image/png": "[encoded data removed]"
          },
          "metadata": {}
        }
      ]
    },
    {
      "cell_type": "code",
      "source": [
        "normal_data = balanced_data_shuffled[balanced_data_shuffled['label'] == 0]['proto'].value_counts()\n",
        "print ( balanced_data_shuffled[balanced_data_shuffled['label'] == 1]['proto'].unique())\n",
        "backdoor_data = balanced_data_shuffled[balanced_data_shuffled['label'] == 1]['proto'].value_counts()\n",
        "\n",
        "# Calculate percentages\n",
        "total_normal = normal_data.sum()\n",
        "normal_percentages = [(count / total_normal) * 100 for count in normal_data]\n",
        "\n",
        "total_backdoor = backdoor_data.sum()\n",
        "backdoor_percentages = [(count / total_backdoor) * 100 for count in backdoor_data]\n",
        "\n",
        "# Create Pie Charts\n",
        "fig, axes = plt.subplots(nrows=1, ncols=2, figsize=(10, 5))\n",
        "\n",
        "# Pie chart for Normal Traffic\n",
        "axes[0].pie(normal_percentages, labels=normal_data.index, autopct='%1.1f%%', startangle=90)\n",
        "axes[0].set_title('Normal Traffic Distribution')\n",
        "\n",
        "# Pie chart for Backdoor Traffic\n",
        "axes[1].pie(backdoor_percentages, labels=backdoor_data.index, autopct='%1.1f%%', startangle=90)\n",
        "axes[1].set_title('Backdoor Traffic Distribution')\n",
        "\n",
        "plt.show()\n"
      ],
      "metadata": {
        "execution": {
          "iopub.status.busy": "2024-01-17T18:51:09.047491Z",
          "iopub.execute_input": "2024-01-17T18:51:09.048239Z",
          "iopub.status.idle": "2024-01-17T18:51:10.521238Z",
          "shell.execute_reply.started": "2024-01-17T18:51:09.048194Z",
          "shell.execute_reply": "2024-01-17T18:51:10.520172Z"
        },
        "trusted": true,
        "id": "xZhJkW7mzxv2",
        "colab": {
          "base_uri": "https://localhost:8080/",
          "height": 641
        },
        "outputId": "426d9ca2-d95b-48b2-fb7d-627192f9b5d0"
      },
      "execution_count": 10,
      "outputs": [
        {
          "output_type": "stream",
          "name": "stdout",
          "text": [
            "['unas' 'nvp' 'ddx' 'pup' 'tcp' 'irtp' 'idpr' 'bna' 'ospf' 'sctp' 'snp'\n",
            " 'vmtp' 'cpnx' 'a/n' 'any' 'zero' 'ip' 'leaf-1' 'kryptolan' 'compaq-peer'\n",
            " 'ipcv' 'aes-sp3-d' 'pim' 'i-nlsp' 'ippc' 'mtp' 'sat-mon' 'hmp' 'xnet'\n",
            " 'qnx' 'udp' 'ipx-n-ip' 'gre' 'wsn' 'uti' 'pipe' 'narp' 'argus' 'ipv6-no'\n",
            " 'ib' 'xtp' 'emcon' 'vrrp' 'igp' 'tp++' 'iso-ip' 'cphb' 'ipnip' 'encap'\n",
            " 'etherip' 'ipv6-route' 'l2tp' 'crudp' 'trunk-1' 'rvd' 'sat-expak'\n",
            " 'mobile' 'prm' 'eigrp' 'rsvp' 'pgm' 'merit-inp' 'sdrp' 'sep' 'ipv6'\n",
            " 'ax.25' 'smp' 'sun-nd' 'iplt' 'netblt' 'fire' 'isis' 'wb-expak' 'srp'\n",
            " 'idrp' 'rdp' 'trunk-2' 'ipip' 'skip' 'sprite-rpc' 'bbn-rcc' 'ipv6-opts'\n",
            " 'visa' 'dgp' 'mhrp' 'leaf-2' 'iatp' 'br-sat-mon' 'iso-tp4' 'cftp' 'ddp'\n",
            " 'pnni' 'nsfnet-igp' 'sps' 'chaos' 'sccopmce' 'secure-vmtp' 'ggp' 'scps'\n",
            " 'dcn' 'tcf' 'tlsp' 'wb-mon' 'crtp' '3pc' 'stp' 'swipe' 'cbt' 'sm' 'pvp'\n",
            " 'ttp' 'egp' 'ipcomp' 'ptp' 'larp' 'ipv6-frag' 'idpr-cmtp' 'st2' 'vines'\n",
            " 'fc' 'aris' 'mux' 'pri-enc' 'gmtp' 'micp' 'ifmp' 'mfe-nsp' 'xns-idp' 'il']\n"
          ]
        },
        {
          "output_type": "display_data",
          "data": {
            "text/plain": [
              "<Figure size 1000x500 with 2 Axes>"
            ],
            "image/png": "[encoded data removed]"
          },
          "metadata": {}
        }
      ]
    },
    {
      "cell_type": "code",
      "source": [
        "target_variable = balanced_data_shuffled['label']\n",
        "plt.figure(figsize=(12, 8))\n",
        "sns.violinplot(x=target_variable, y=balanced_data_shuffled['sttl'], data=balanced_data_shuffled)\n",
        "plt.title('Box Plot for sttl')\n",
        "plt.show()\n"
      ],
      "metadata": {
        "execution": {
          "iopub.status.busy": "2024-01-17T18:51:10.522728Z",
          "iopub.execute_input": "2024-01-17T18:51:10.523405Z",
          "iopub.status.idle": "2024-01-17T18:51:10.86264Z",
          "shell.execute_reply.started": "2024-01-17T18:51:10.523364Z",
          "shell.execute_reply": "2024-01-17T18:51:10.861407Z"
        },
        "trusted": true,
        "id": "ZDzt5-W0zxv3",
        "colab": {
          "base_uri": "https://localhost:8080/",
          "height": 717
        },
        "outputId": "3869a261-ce18-4bea-c00f-00d0a5e815c9"
      },
      "execution_count": 11,
      "outputs": [
        {
          "output_type": "display_data",
          "data": {
            "text/plain": [
              "<Figure size 1200x800 with 1 Axes>"
            ],
            "image/png": "[encoded data removed]"
          },
          "metadata": {}
        }
      ]
    },
    {
      "cell_type": "code",
      "source": [
        "unique_sttl_values = balanced_data_shuffled['ackdat'].unique()\n",
        "unique_sttl_values"
      ],
      "metadata": {
        "execution": {
          "iopub.status.busy": "2024-01-17T18:51:10.867461Z",
          "iopub.execute_input": "2024-01-17T18:51:10.867951Z",
          "iopub.status.idle": "2024-01-17T18:51:10.876373Z",
          "shell.execute_reply.started": "2024-01-17T18:51:10.867917Z",
          "shell.execute_reply": "2024-01-17T18:51:10.87484Z"
        },
        "trusted": true,
        "id": "QGUyU_Pdzxv3",
        "colab": {
          "base_uri": "https://localhost:8080/"
        },
        "outputId": "ced04f63-0e6e-4f5e-8a9f-72a7a532ec48"
      },
      "execution_count": 12,
      "outputs": [
        {
          "output_type": "execute_result",
          "data": {
            "text/plain": [
              "array([0.      , 0.000129, 0.000161, ..., 0.06085 , 0.054865, 0.125041])"
            ]
          },
          "metadata": {},
          "execution_count": 12
        }
      ]
    },
    {
      "cell_type": "code",
      "source": [
        "target_variable = balanced_data_shuffled['label']\n",
        "plt.figure(figsize=(12, 8))\n",
        "sns.boxplot(x=target_variable, y=balanced_data_shuffled['ct_state_ttl'], data=balanced_data_shuffled)\n",
        "plt.title('Box Plot for ct_state_ttl')\n",
        "plt.show()\n"
      ],
      "metadata": {
        "execution": {
          "iopub.status.busy": "2024-01-17T18:51:10.877862Z",
          "iopub.execute_input": "2024-01-17T18:51:10.878228Z",
          "iopub.status.idle": "2024-01-17T18:51:11.149473Z",
          "shell.execute_reply.started": "2024-01-17T18:51:10.878197Z",
          "shell.execute_reply": "2024-01-17T18:51:11.148104Z"
        },
        "trusted": true,
        "id": "UqW0PA3Fzxv4",
        "colab": {
          "base_uri": "https://localhost:8080/",
          "height": 717
        },
        "outputId": "763e87da-a5fb-41e0-800c-48bc8335b663"
      },
      "execution_count": 13,
      "outputs": [
        {
          "output_type": "display_data",
          "data": {
            "text/plain": [
              "<Figure size 1200x800 with 1 Axes>"
            ],
            "image/png": "[encoded data removed]"
          },
          "metadata": {}
        }
      ]
    },
    {
      "cell_type": "code",
      "source": [
        "unique_sttl_values = balanced_data_shuffled['state'].unique()\n",
        "unique_sttl_values"
      ],
      "metadata": {
        "execution": {
          "iopub.status.busy": "2024-01-17T18:51:11.151017Z",
          "iopub.execute_input": "2024-01-17T18:51:11.151362Z",
          "iopub.status.idle": "2024-01-17T18:51:11.15908Z",
          "shell.execute_reply.started": "2024-01-17T18:51:11.151331Z",
          "shell.execute_reply": "2024-01-17T18:51:11.157908Z"
        },
        "trusted": true,
        "id": "aLcqpbaqzxv4",
        "colab": {
          "base_uri": "https://localhost:8080/"
        },
        "outputId": "df3bc452-832f-40d8-8417-f09928d0def4"
      },
      "execution_count": 14,
      "outputs": [
        {
          "output_type": "execute_result",
          "data": {
            "text/plain": [
              "array(['INT', 'FIN', 'CON', 'REQ', 'RST'], dtype=object)"
            ]
          },
          "metadata": {},
          "execution_count": 14
        }
      ]
    },
    {
      "cell_type": "code",
      "source": [
        "df.columns"
      ],
      "metadata": {
        "execution": {
          "iopub.status.busy": "2024-01-17T18:51:11.16091Z",
          "iopub.execute_input": "2024-01-17T18:51:11.162532Z",
          "iopub.status.idle": "2024-01-17T18:51:11.17051Z",
          "shell.execute_reply.started": "2024-01-17T18:51:11.162494Z",
          "shell.execute_reply": "2024-01-17T18:51:11.169374Z"
        },
        "trusted": true,
        "id": "IXdTrXGszxv5",
        "colab": {
          "base_uri": "https://localhost:8080/"
        },
        "outputId": "9edb680b-1ddb-4d35-d91b-ddac996511b7"
      },
      "execution_count": 15,
      "outputs": [
        {
          "output_type": "execute_result",
          "data": {
            "text/plain": [
              "Index(['id', 'dur', 'proto', 'service', 'state', 'spkts', 'dpkts', 'sbytes',\n",
              "       'dbytes', 'rate', 'sttl', 'dttl', 'sload', 'dload', 'sloss', 'dloss',\n",
              "       'sinpkt', 'dinpkt', 'sjit', 'djit', 'swin', 'stcpb', 'dtcpb', 'dwin',\n",
              "       'tcprtt', 'synack', 'ackdat', 'smean', 'dmean', 'trans_depth',\n",
              "       'response_body_len', 'ct_srv_src', 'ct_state_ttl', 'ct_dst_ltm',\n",
              "       'ct_src_dport_ltm', 'ct_dst_sport_ltm', 'ct_dst_src_ltm',\n",
              "       'is_ftp_login', 'ct_ftp_cmd', 'ct_flw_http_mthd', 'ct_src_ltm',\n",
              "       'ct_srv_dst', 'is_sm_ips_ports', 'attack_cat', 'label'],\n",
              "      dtype='object')"
            ]
          },
          "metadata": {},
          "execution_count": 15
        }
      ]
    },
    {
      "cell_type": "code",
      "source": [
        "import pandas as pd\n",
        "import statsmodels.api as sm\n",
        "\n",
        "# Assuming your DataFrame is named 'df'\n",
        "# Replace 'YourColumnName' with the actual column names in your DataFrame\n",
        "\n",
        "# Select the columns of interest\n",
        "selected_columns = ['state', 'sttl', 'dttl', 'ct_state_ttl']\n",
        "\n",
        "# Create a new DataFrame with only the selected columns\n",
        "selected_df = balanced_data_shuffled[selected_columns]\n",
        "\n",
        "# Convert 'state' column to numeric\n",
        "selected_df['state'] = pd.to_numeric(selected_df['state'], errors='coerce')\n",
        "\n",
        "# Encode categorical variable 'state' into numerical values\n",
        "selected_df = pd.get_dummies(selected_df, columns=['state'], prefix='state', drop_first=True)\n",
        "\n",
        "# Convert all columns to numeric, handle any non-numeric values\n",
        "selected_df = selected_df.apply(pd.to_numeric, errors='coerce')\n",
        "\n",
        "# Drop rows with missing values\n",
        "selected_df = selected_df.dropna()\n",
        "\n",
        "# Add a constant term for the intercept\n",
        "selected_df = sm.add_constant(selected_df)\n",
        "\n",
        "# Separate independent variables (X) and dependent variable (y)\n",
        "X = selected_df.drop('ct_state_ttl', axis=1)  # Exclude the dependent variable\n",
        "y = selected_df['ct_state_ttl']\n",
        "\n",
        "# Fit the linear regression model\n",
        "model = sm.OLS(y, X).fit()\n",
        "\n",
        "# Print the model summary\n",
        "print(model.summary())\n"
      ],
      "metadata": {
        "execution": {
          "iopub.status.busy": "2024-01-17T18:51:11.171961Z",
          "iopub.execute_input": "2024-01-17T18:51:11.172358Z",
          "iopub.status.idle": "2024-01-17T18:51:11.218037Z",
          "shell.execute_reply.started": "2024-01-17T18:51:11.172316Z",
          "shell.execute_reply": "2024-01-17T18:51:11.216832Z"
        },
        "trusted": true,
        "id": "uG67Puvlzxv5",
        "colab": {
          "base_uri": "https://localhost:8080/"
        },
        "outputId": "f0b92400-446b-4fe3-bc83-72fb709898f8"
      },
      "execution_count": 16,
      "outputs": [
        {
          "output_type": "stream",
          "name": "stdout",
          "text": [
            "                            OLS Regression Results                            \n",
            "==============================================================================\n",
            "Dep. Variable:           ct_state_ttl   R-squared:                       0.471\n",
            "Model:                            OLS   Adj. R-squared:                  0.471\n",
            "Method:                 Least Squares   F-statistic:                     2074.\n",
            "Date:                Thu, 04 Jul 2024   Prob (F-statistic):               0.00\n",
            "Time:                        03:54:16   Log-Likelihood:                -5835.8\n",
            "No. Observations:                4658   AIC:                         1.168e+04\n",
            "Df Residuals:                    4655   BIC:                         1.170e+04\n",
            "Df Model:                           2                                         \n",
            "Covariance Type:            nonrobust                                         \n",
            "==============================================================================\n",
            "                 coef    std err          t      P>|t|      [0.025      0.975]\n",
            "------------------------------------------------------------------------------\n",
            "const          0.2183      0.024      9.100      0.000       0.171       0.265\n",
            "sttl           0.0072      0.000     62.339      0.000       0.007       0.007\n",
            "dttl          -0.0027      0.000    -20.695      0.000      -0.003      -0.002\n",
            "==============================================================================\n",
            "Omnibus:                     3089.305   Durbin-Watson:                   2.030\n",
            "Prob(Omnibus):                  0.000   Jarque-Bera (JB):            32898.264\n",
            "Skew:                           3.149   Prob(JB):                         0.00\n",
            "Kurtosis:                      14.395   Cond. No.                         406.\n",
            "==============================================================================\n",
            "\n",
            "Notes:\n",
            "[1] Standard Errors assume that the covariance matrix of the errors is correctly specified.\n"
          ]
        },
        {
          "output_type": "stream",
          "name": "stderr",
          "text": [
            "<ipython-input-16-0718612f28ea>:14: SettingWithCopyWarning: \n",
            "A value is trying to be set on a copy of a slice from a DataFrame.\n",
            "Try using .loc[row_indexer,col_indexer] = value instead\n",
            "\n",
            "See the caveats in the documentation: https://pandas.pydata.org/pandas-docs/stable/user_guide/indexing.html#returning-a-view-versus-a-copy\n",
            "  selected_df['state'] = pd.to_numeric(selected_df['state'], errors='coerce')\n"
          ]
        }
      ]
    },
    {
      "cell_type": "markdown",
      "source": [
        "**Drop unecessary Features**"
      ],
      "metadata": {
        "id": "Gibvwinuzxv6"
      }
    },
    {
      "cell_type": "code",
      "source": [
        "# # Drop features that don't belong to the \"Backdoor\" attack category\n",
        "# balanced_data_shuffled =  balanced_data_shuffled.drop(['swin', 'dwin', 'stcpb', 'dtcpb',\n",
        "#            'trans_depth', 'tcprtt', 'synack', 'ackdat', 'is_sm_ips_ports',\n",
        "#            'ct_flw_http_mthd', 'is_ftp_login', 'ct_ftp_cmd',\n",
        "#            'attack_cat','id'], axis=1)\n",
        "# balanced_data_shuffled.info()\n",
        "# Drop features that don't belong to the \"Backdoor\" attack category\n",
        "balanced_data_shuffled =  balanced_data_shuffled.drop(['attack_cat','id'], axis=1)\n",
        "balanced_data_shuffled.info()"
      ],
      "metadata": {
        "execution": {
          "iopub.status.busy": "2024-01-17T18:51:11.224469Z",
          "iopub.execute_input": "2024-01-17T18:51:11.225028Z",
          "iopub.status.idle": "2024-01-17T18:51:11.24975Z",
          "shell.execute_reply.started": "2024-01-17T18:51:11.224978Z",
          "shell.execute_reply": "2024-01-17T18:51:11.248579Z"
        },
        "trusted": true,
        "id": "NOeTWHMVzxv7",
        "colab": {
          "base_uri": "https://localhost:8080/"
        },
        "outputId": "608df277-d1c1-4df5-e7ab-0e4dd7c1c589"
      },
      "execution_count": 17,
      "outputs": [
        {
          "output_type": "stream",
          "name": "stdout",
          "text": [
            "<class 'pandas.core.frame.DataFrame'>\n",
            "Index: 4658 entries, 109826 to 90614\n",
            "Data columns (total 43 columns):\n",
            " #   Column             Non-Null Count  Dtype  \n",
            "---  ------             --------------  -----  \n",
            " 0   dur                4658 non-null   float64\n",
            " 1   proto              4658 non-null   object \n",
            " 2   service            4658 non-null   object \n",
            " 3   state              4658 non-null   object \n",
            " 4   spkts              4658 non-null   int64  \n",
            " 5   dpkts              4658 non-null   int64  \n",
            " 6   sbytes             4658 non-null   int64  \n",
            " 7   dbytes             4658 non-null   int64  \n",
            " 8   rate               4658 non-null   float64\n",
            " 9   sttl               4658 non-null   int64  \n",
            " 10  dttl               4658 non-null   int64  \n",
            " 11  sload              4658 non-null   float64\n",
            " 12  dload              4658 non-null   float64\n",
            " 13  sloss              4658 non-null   int64  \n",
            " 14  dloss              4658 non-null   int64  \n",
            " 15  sinpkt             4658 non-null   float64\n",
            " 16  dinpkt             4658 non-null   float64\n",
            " 17  sjit               4658 non-null   float64\n",
            " 18  djit               4658 non-null   float64\n",
            " 19  swin               4658 non-null   int64  \n",
            " 20  stcpb              4658 non-null   int64  \n",
            " 21  dtcpb              4658 non-null   int64  \n",
            " 22  dwin               4658 non-null   int64  \n",
            " 23  tcprtt             4658 non-null   float64\n",
            " 24  synack             4658 non-null   float64\n",
            " 25  ackdat             4658 non-null   float64\n",
            " 26  smean              4658 non-null   int64  \n",
            " 27  dmean              4658 non-null   int64  \n",
            " 28  trans_depth        4658 non-null   int64  \n",
            " 29  response_body_len  4658 non-null   int64  \n",
            " 30  ct_srv_src         4658 non-null   int64  \n",
            " 31  ct_state_ttl       4658 non-null   int64  \n",
            " 32  ct_dst_ltm         4658 non-null   int64  \n",
            " 33  ct_src_dport_ltm   4658 non-null   int64  \n",
            " 34  ct_dst_sport_ltm   4658 non-null   int64  \n",
            " 35  ct_dst_src_ltm     4658 non-null   int64  \n",
            " 36  is_ftp_login       4658 non-null   int64  \n",
            " 37  ct_ftp_cmd         4658 non-null   int64  \n",
            " 38  ct_flw_http_mthd   4658 non-null   int64  \n",
            " 39  ct_src_ltm         4658 non-null   int64  \n",
            " 40  ct_srv_dst         4658 non-null   int64  \n",
            " 41  is_sm_ips_ports    4658 non-null   int64  \n",
            " 42  label              4658 non-null   int64  \n",
            "dtypes: float64(11), int64(29), object(3)\n",
            "memory usage: 1.6+ MB\n"
          ]
        }
      ]
    },
    {
      "cell_type": "markdown",
      "source": [
        "Shuffel"
      ],
      "metadata": {
        "id": "lv9h0fhPzxv8"
      }
    },
    {
      "cell_type": "code",
      "source": [
        "balanced_data_shuffled['service'].unique() #Here, we'll deal with the type of service that is '-'\n",
        "balanced_data_shuffled['service']= np.where(balanced_data_shuffled['service'] == '-', 'None', balanced_data_shuffled['service'])\n",
        "print(balanced_data_shuffled['service'].unique())\n"
      ],
      "metadata": {
        "execution": {
          "iopub.status.busy": "2024-01-17T18:51:11.251563Z",
          "iopub.execute_input": "2024-01-17T18:51:11.252335Z",
          "iopub.status.idle": "2024-01-17T18:51:11.266361Z",
          "shell.execute_reply.started": "2024-01-17T18:51:11.252288Z",
          "shell.execute_reply": "2024-01-17T18:51:11.264914Z"
        },
        "trusted": true,
        "id": "TG78aal-zxv8",
        "colab": {
          "base_uri": "https://localhost:8080/"
        },
        "outputId": "3c080ea2-738b-49ba-a5f8-ef30077980c3"
      },
      "execution_count": 18,
      "outputs": [
        {
          "output_type": "stream",
          "name": "stdout",
          "text": [
            "['None' 'dns' 'ftp' 'smtp' 'http' 'ftp-data' 'irc' 'ssh']\n"
          ]
        }
      ]
    },
    {
      "cell_type": "code",
      "source": [
        "balanced_data_shuffled['proto'].unique() #This is definitely a categorical feature."
      ],
      "metadata": {
        "execution": {
          "iopub.status.busy": "2024-01-17T18:51:11.268613Z",
          "iopub.execute_input": "2024-01-17T18:51:11.269384Z",
          "iopub.status.idle": "2024-01-17T18:51:11.281017Z",
          "shell.execute_reply.started": "2024-01-17T18:51:11.269337Z",
          "shell.execute_reply": "2024-01-17T18:51:11.278896Z"
        },
        "trusted": true,
        "id": "hgJeLpcizxv9",
        "colab": {
          "base_uri": "https://localhost:8080/"
        },
        "outputId": "c1ae6bca-6750-4ebb-ec01-0f0d73e412be"
      },
      "execution_count": 19,
      "outputs": [
        {
          "output_type": "execute_result",
          "data": {
            "text/plain": [
              "array(['unas', 'tcp', 'nvp', 'udp', 'arp', 'ddx', 'pup', 'irtp', 'idpr',\n",
              "       'bna', 'ospf', 'sctp', 'snp', 'vmtp', 'cpnx', 'a/n', 'any', 'zero',\n",
              "       'ip', 'leaf-1', 'kryptolan', 'compaq-peer', 'ipcv', 'aes-sp3-d',\n",
              "       'pim', 'i-nlsp', 'ippc', 'mtp', 'sat-mon', 'hmp', 'xnet', 'qnx',\n",
              "       'ipx-n-ip', 'gre', 'wsn', 'uti', 'pipe', 'narp', 'argus',\n",
              "       'ipv6-no', 'ib', 'xtp', 'emcon', 'vrrp', 'igp', 'tp++', 'iso-ip',\n",
              "       'cphb', 'ipnip', 'encap', 'etherip', 'igmp', 'ipv6-route', 'l2tp',\n",
              "       'crudp', 'trunk-1', 'rvd', 'sat-expak', 'mobile', 'prm', 'eigrp',\n",
              "       'rsvp', 'pgm', 'merit-inp', 'sdrp', 'sep', 'ipv6', 'ax.25', 'smp',\n",
              "       'sun-nd', 'iplt', 'netblt', 'fire', 'isis', 'wb-expak', 'srp',\n",
              "       'idrp', 'rdp', 'trunk-2', 'ipip', 'skip', 'sprite-rpc', 'bbn-rcc',\n",
              "       'ipv6-opts', 'visa', 'dgp', 'mhrp', 'leaf-2', 'iatp', 'br-sat-mon',\n",
              "       'iso-tp4', 'cftp', 'ddp', 'pnni', 'nsfnet-igp', 'sps', 'chaos',\n",
              "       'sccopmce', 'secure-vmtp', 'ggp', 'scps', 'dcn', 'tcf', 'tlsp',\n",
              "       'wb-mon', 'crtp', '3pc', 'stp', 'swipe', 'cbt', 'sm', 'pvp', 'ttp',\n",
              "       'egp', 'ipcomp', 'ptp', 'larp', 'ipv6-frag', 'idpr-cmtp', 'st2',\n",
              "       'vines', 'fc', 'aris', 'mux', 'pri-enc', 'gmtp', 'micp', 'ifmp',\n",
              "       'mfe-nsp', 'xns-idp', 'il'], dtype=object)"
            ]
          },
          "metadata": {},
          "execution_count": 19
        }
      ]
    },
    {
      "cell_type": "code",
      "source": [
        "balanced_data_shuffled['state'].unique() #Keep it."
      ],
      "metadata": {
        "execution": {
          "iopub.status.busy": "2024-01-17T18:51:11.283258Z",
          "iopub.execute_input": "2024-01-17T18:51:11.284113Z",
          "iopub.status.idle": "2024-01-17T18:51:11.293513Z",
          "shell.execute_reply.started": "2024-01-17T18:51:11.284034Z",
          "shell.execute_reply": "2024-01-17T18:51:11.292268Z"
        },
        "trusted": true,
        "id": "W1TdtK4Mzxv-",
        "colab": {
          "base_uri": "https://localhost:8080/"
        },
        "outputId": "79d17e41-26d2-4fcb-b563-095039580174"
      },
      "execution_count": 20,
      "outputs": [
        {
          "output_type": "execute_result",
          "data": {
            "text/plain": [
              "array(['INT', 'FIN', 'CON', 'REQ', 'RST'], dtype=object)"
            ]
          },
          "metadata": {},
          "execution_count": 20
        }
      ]
    },
    {
      "cell_type": "code",
      "source": [
        "def Remove_dump_values(data, cols):\n",
        "    for col in cols:\n",
        "        data[col] = np.where(data[col] == '-', 'None', data[col])\n",
        "    return data"
      ],
      "metadata": {
        "execution": {
          "iopub.status.busy": "2024-01-17T18:51:11.294757Z",
          "iopub.execute_input": "2024-01-17T18:51:11.295195Z",
          "iopub.status.idle": "2024-01-17T18:51:11.304286Z",
          "shell.execute_reply.started": "2024-01-17T18:51:11.295154Z",
          "shell.execute_reply": "2024-01-17T18:51:11.302879Z"
        },
        "trusted": true,
        "id": "FeSgGSjizxv-"
      },
      "execution_count": 21,
      "outputs": []
    },
    {
      "cell_type": "code",
      "source": [
        "cols = balanced_data_shuffled.columns\n",
        "data_bin = Remove_dump_values(balanced_data_shuffled, cols)"
      ],
      "metadata": {
        "execution": {
          "iopub.status.busy": "2024-01-17T18:51:11.306385Z",
          "iopub.execute_input": "2024-01-17T18:51:11.307183Z",
          "iopub.status.idle": "2024-01-17T18:51:11.464344Z",
          "shell.execute_reply.started": "2024-01-17T18:51:11.307134Z",
          "shell.execute_reply": "2024-01-17T18:51:11.463266Z"
        },
        "trusted": true,
        "id": "fTtNoA9Tzxv_"
      },
      "execution_count": 22,
      "outputs": []
    },
    {
      "cell_type": "markdown",
      "source": [
        " **I need OneHotEncoding Proto, Service, state**"
      ],
      "metadata": {
        "id": "BA5iN9Jezxv_"
      }
    },
    {
      "cell_type": "code",
      "source": [
        "df_cat = data_bin.select_dtypes(exclude=[np.number])\n",
        "from sklearn.preprocessing import LabelEncoder\n",
        "import joblib\n",
        "\n",
        "# Assuming df_cat is your DataFrame with categorical columns\n",
        "for feature in df_cat.columns:\n",
        "    le = LabelEncoder()\n",
        "    data_bin[feature] = le.fit_transform(data_bin[feature])\n",
        "\n",
        "    # Save the LabelEncoder\n",
        "    encoder_filename = f'{feature}_encoder.joblib'\n",
        "    joblib.dump(le, encoder_filename)\n",
        "\n",
        "# Now you can use encoder_filename to load the encoder later"
      ],
      "metadata": {
        "execution": {
          "iopub.status.busy": "2024-01-17T18:51:11.466166Z",
          "iopub.execute_input": "2024-01-17T18:51:11.466641Z",
          "iopub.status.idle": "2024-01-17T18:51:11.631223Z",
          "shell.execute_reply.started": "2024-01-17T18:51:11.466596Z",
          "shell.execute_reply": "2024-01-17T18:51:11.630134Z"
        },
        "trusted": true,
        "id": "RUrLZv0hzxwA"
      },
      "execution_count": 23,
      "outputs": []
    },
    {
      "cell_type": "code",
      "source": [
        "data_bin.head()"
      ],
      "metadata": {
        "execution": {
          "iopub.status.busy": "2024-01-17T18:51:11.632681Z",
          "iopub.execute_input": "2024-01-17T18:51:11.633559Z",
          "iopub.status.idle": "2024-01-17T18:51:11.658872Z",
          "shell.execute_reply.started": "2024-01-17T18:51:11.633499Z",
          "shell.execute_reply": "2024-01-17T18:51:11.657607Z"
        },
        "trusted": true,
        "id": "twnVXyyszxwA",
        "colab": {
          "base_uri": "https://localhost:8080/",
          "height": 221
        },
        "outputId": "fd9aa1b9-223e-4317-ad09-a581dffc00fe"
      },
      "execution_count": 24,
      "outputs": [
        {
          "output_type": "execute_result",
          "data": {
            "text/plain": [
              "         dur  proto  service  state  spkts  dpkts  sbytes  dbytes  rate  sttl  \\\n",
              "109826  2393    118        0      2     20      0     161       0  1015     2   \n",
              "5930     499    111        0      1     16     15     107     133   570     4   \n",
              "4293    2463    111        0      1     64     60     193      22   757     4   \n",
              "50552   2012     76        0      2     20      0     132       0  2466     2   \n",
              "27365    500    111        0      1     16     15     107     133   569     4   \n",
              "\n",
              "        dttl  sload  dload  sloss  dloss  sinpkt  dinpkt  sjit  djit  swin  \\\n",
              "109826     0    762      0      0      0       4       0     0     0     0   \n",
              "5930       2   2100   1876     24     37     560     542  1920   875     1   \n",
              "4293       2   1161    285     22     36     922    1746  1653  1355     1   \n",
              "50552      0   2169      0      0      0      11       0     0     0     0   \n",
              "27365      2   2098   1874     24     37     561     544  1919   890     1   \n",
              "\n",
              "        stcpb  dtcpb  dwin  tcprtt  synack  ackdat  smean  dmean  trans_depth  \\\n",
              "109826      0      0     0       0       0       0      0      0            0   \n",
              "5930     1262    217     1      33      17      26    245    212            0   \n",
              "4293     1365    339     1     288     228      58    154     28            0   \n",
              "50552       0      0     0       0       0       0    235      0            0   \n",
              "27365      33   1069     1      26      16      20    245    212            0   \n",
              "\n",
              "        response_body_len  ct_srv_src  ct_state_ttl  ct_dst_ltm  \\\n",
              "109826                  0          33             2          17   \n",
              "5930                    0           5             0          28   \n",
              "4293                    0          37             0          29   \n",
              "50552                   0          38             2          11   \n",
              "27365                   0          35             0          26   \n",
              "\n",
              "        ct_src_dport_ltm  ct_dst_sport_ltm  ct_dst_src_ltm  is_ftp_login  \\\n",
              "109826                11                 5              33             0   \n",
              "5930                  17                 0               1             0   \n",
              "4293                   8                 0              35             0   \n",
              "50552                  8                 3              11             0   \n",
              "27365                 17                 0              35             0   \n",
              "\n",
              "        ct_ftp_cmd  ct_flw_http_mthd  ct_src_ltm  ct_srv_dst  is_sm_ips_ports  \\\n",
              "109826           0                 0          20          32                0   \n",
              "5930             0                 0          32           3                0   \n",
              "4293             0                 0          20           3                0   \n",
              "50552            0                 0          11          34                0   \n",
              "27365            0                 0          32          35                0   \n",
              "\n",
              "        label  \n",
              "109826      1  \n",
              "5930        0  \n",
              "4293        0  \n",
              "50552       1  \n",
              "27365       0  "
            ],
            "text/html": [
              "\n",
              "  <div id=\"df-69323d6f-4ffb-4983-8498-beaff4ef0652\" class=\"colab-df-container\">\n",
              "    <div>\n",
              "<style scoped>\n",
              "    .dataframe tbody tr th:only-of-type {\n",
              "        vertical-align: middle;\n",
              "    }\n",
              "\n",
              "    .dataframe tbody tr th {\n",
              "        vertical-align: top;\n",
              "    }\n",
              "\n",
              "    .dataframe thead th {\n",
              "        text-align: right;\n",
              "    }\n",
              "</style>\n",
              "<table border=\"1\" class=\"dataframe\">\n",
              "  <thead>\n",
              "    <tr style=\"text-align: right;\">\n",
              "      <th></th>\n",
              "      <th>dur</th>\n",
              "      <th>proto</th>\n",
              "      <th>service</th>\n",
              "      <th>state</th>\n",
              "      <th>spkts</th>\n",
              "      <th>dpkts</th>\n",
              "      <th>sbytes</th>\n",
              "      <th>dbytes</th>\n",
              "      <th>rate</th>\n",
              "      <th>sttl</th>\n",
              "      <th>dttl</th>\n",
              "      <th>sload</th>\n",
              "      <th>dload</th>\n",
              "      <th>sloss</th>\n",
              "      <th>dloss</th>\n",
              "      <th>sinpkt</th>\n",
              "      <th>dinpkt</th>\n",
              "      <th>sjit</th>\n",
              "      <th>djit</th>\n",
              "      <th>swin</th>\n",
              "      <th>stcpb</th>\n",
              "      <th>dtcpb</th>\n",
              "      <th>dwin</th>\n",
              "      <th>tcprtt</th>\n",
              "      <th>synack</th>\n",
              "      <th>ackdat</th>\n",
              "      <th>smean</th>\n",
              "      <th>dmean</th>\n",
              "      <th>trans_depth</th>\n",
              "      <th>response_body_len</th>\n",
              "      <th>ct_srv_src</th>\n",
              "      <th>ct_state_ttl</th>\n",
              "      <th>ct_dst_ltm</th>\n",
              "      <th>ct_src_dport_ltm</th>\n",
              "      <th>ct_dst_sport_ltm</th>\n",
              "      <th>ct_dst_src_ltm</th>\n",
              "      <th>is_ftp_login</th>\n",
              "      <th>ct_ftp_cmd</th>\n",
              "      <th>ct_flw_http_mthd</th>\n",
              "      <th>ct_src_ltm</th>\n",
              "      <th>ct_srv_dst</th>\n",
              "      <th>is_sm_ips_ports</th>\n",
              "      <th>label</th>\n",
              "    </tr>\n",
              "  </thead>\n",
              "  <tbody>\n",
              "    <tr>\n",
              "      <th>109826</th>\n",
              "      <td>2393</td>\n",
              "      <td>118</td>\n",
              "      <td>0</td>\n",
              "      <td>2</td>\n",
              "      <td>20</td>\n",
              "      <td>0</td>\n",
              "      <td>161</td>\n",
              "      <td>0</td>\n",
              "      <td>1015</td>\n",
              "      <td>2</td>\n",
              "      <td>0</td>\n",
              "      <td>762</td>\n",
              "      <td>0</td>\n",
              "      <td>0</td>\n",
              "      <td>0</td>\n",
              "      <td>4</td>\n",
              "      <td>0</td>\n",
              "      <td>0</td>\n",
              "      <td>0</td>\n",
              "      <td>0</td>\n",
              "      <td>0</td>\n",
              "      <td>0</td>\n",
              "      <td>0</td>\n",
              "      <td>0</td>\n",
              "      <td>0</td>\n",
              "      <td>0</td>\n",
              "      <td>0</td>\n",
              "      <td>0</td>\n",
              "      <td>0</td>\n",
              "      <td>0</td>\n",
              "      <td>33</td>\n",
              "      <td>2</td>\n",
              "      <td>17</td>\n",
              "      <td>11</td>\n",
              "      <td>5</td>\n",
              "      <td>33</td>\n",
              "      <td>0</td>\n",
              "      <td>0</td>\n",
              "      <td>0</td>\n",
              "      <td>20</td>\n",
              "      <td>32</td>\n",
              "      <td>0</td>\n",
              "      <td>1</td>\n",
              "    </tr>\n",
              "    <tr>\n",
              "      <th>5930</th>\n",
              "      <td>499</td>\n",
              "      <td>111</td>\n",
              "      <td>0</td>\n",
              "      <td>1</td>\n",
              "      <td>16</td>\n",
              "      <td>15</td>\n",
              "      <td>107</td>\n",
              "      <td>133</td>\n",
              "      <td>570</td>\n",
              "      <td>4</td>\n",
              "      <td>2</td>\n",
              "      <td>2100</td>\n",
              "      <td>1876</td>\n",
              "      <td>24</td>\n",
              "      <td>37</td>\n",
              "      <td>560</td>\n",
              "      <td>542</td>\n",
              "      <td>1920</td>\n",
              "      <td>875</td>\n",
              "      <td>1</td>\n",
              "      <td>1262</td>\n",
              "      <td>217</td>\n",
              "      <td>1</td>\n",
              "      <td>33</td>\n",
              "      <td>17</td>\n",
              "      <td>26</td>\n",
              "      <td>245</td>\n",
              "      <td>212</td>\n",
              "      <td>0</td>\n",
              "      <td>0</td>\n",
              "      <td>5</td>\n",
              "      <td>0</td>\n",
              "      <td>28</td>\n",
              "      <td>17</td>\n",
              "      <td>0</td>\n",
              "      <td>1</td>\n",
              "      <td>0</td>\n",
              "      <td>0</td>\n",
              "      <td>0</td>\n",
              "      <td>32</td>\n",
              "      <td>3</td>\n",
              "      <td>0</td>\n",
              "      <td>0</td>\n",
              "    </tr>\n",
              "    <tr>\n",
              "      <th>4293</th>\n",
              "      <td>2463</td>\n",
              "      <td>111</td>\n",
              "      <td>0</td>\n",
              "      <td>1</td>\n",
              "      <td>64</td>\n",
              "      <td>60</td>\n",
              "      <td>193</td>\n",
              "      <td>22</td>\n",
              "      <td>757</td>\n",
              "      <td>4</td>\n",
              "      <td>2</td>\n",
              "      <td>1161</td>\n",
              "      <td>285</td>\n",
              "      <td>22</td>\n",
              "      <td>36</td>\n",
              "      <td>922</td>\n",
              "      <td>1746</td>\n",
              "      <td>1653</td>\n",
              "      <td>1355</td>\n",
              "      <td>1</td>\n",
              "      <td>1365</td>\n",
              "      <td>339</td>\n",
              "      <td>1</td>\n",
              "      <td>288</td>\n",
              "      <td>228</td>\n",
              "      <td>58</td>\n",
              "      <td>154</td>\n",
              "      <td>28</td>\n",
              "      <td>0</td>\n",
              "      <td>0</td>\n",
              "      <td>37</td>\n",
              "      <td>0</td>\n",
              "      <td>29</td>\n",
              "      <td>8</td>\n",
              "      <td>0</td>\n",
              "      <td>35</td>\n",
              "      <td>0</td>\n",
              "      <td>0</td>\n",
              "      <td>0</td>\n",
              "      <td>20</td>\n",
              "      <td>3</td>\n",
              "      <td>0</td>\n",
              "      <td>0</td>\n",
              "    </tr>\n",
              "    <tr>\n",
              "      <th>50552</th>\n",
              "      <td>2012</td>\n",
              "      <td>76</td>\n",
              "      <td>0</td>\n",
              "      <td>2</td>\n",
              "      <td>20</td>\n",
              "      <td>0</td>\n",
              "      <td>132</td>\n",
              "      <td>0</td>\n",
              "      <td>2466</td>\n",
              "      <td>2</td>\n",
              "      <td>0</td>\n",
              "      <td>2169</td>\n",
              "      <td>0</td>\n",
              "      <td>0</td>\n",
              "      <td>0</td>\n",
              "      <td>11</td>\n",
              "      <td>0</td>\n",
              "      <td>0</td>\n",
              "      <td>0</td>\n",
              "      <td>0</td>\n",
              "      <td>0</td>\n",
              "      <td>0</td>\n",
              "      <td>0</td>\n",
              "      <td>0</td>\n",
              "      <td>0</td>\n",
              "      <td>0</td>\n",
              "      <td>235</td>\n",
              "      <td>0</td>\n",
              "      <td>0</td>\n",
              "      <td>0</td>\n",
              "      <td>38</td>\n",
              "      <td>2</td>\n",
              "      <td>11</td>\n",
              "      <td>8</td>\n",
              "      <td>3</td>\n",
              "      <td>11</td>\n",
              "      <td>0</td>\n",
              "      <td>0</td>\n",
              "      <td>0</td>\n",
              "      <td>11</td>\n",
              "      <td>34</td>\n",
              "      <td>0</td>\n",
              "      <td>1</td>\n",
              "    </tr>\n",
              "    <tr>\n",
              "      <th>27365</th>\n",
              "      <td>500</td>\n",
              "      <td>111</td>\n",
              "      <td>0</td>\n",
              "      <td>1</td>\n",
              "      <td>16</td>\n",
              "      <td>15</td>\n",
              "      <td>107</td>\n",
              "      <td>133</td>\n",
              "      <td>569</td>\n",
              "      <td>4</td>\n",
              "      <td>2</td>\n",
              "      <td>2098</td>\n",
              "      <td>1874</td>\n",
              "      <td>24</td>\n",
              "      <td>37</td>\n",
              "      <td>561</td>\n",
              "      <td>544</td>\n",
              "      <td>1919</td>\n",
              "      <td>890</td>\n",
              "      <td>1</td>\n",
              "      <td>33</td>\n",
              "      <td>1069</td>\n",
              "      <td>1</td>\n",
              "      <td>26</td>\n",
              "      <td>16</td>\n",
              "      <td>20</td>\n",
              "      <td>245</td>\n",
              "      <td>212</td>\n",
              "      <td>0</td>\n",
              "      <td>0</td>\n",
              "      <td>35</td>\n",
              "      <td>0</td>\n",
              "      <td>26</td>\n",
              "      <td>17</td>\n",
              "      <td>0</td>\n",
              "      <td>35</td>\n",
              "      <td>0</td>\n",
              "      <td>0</td>\n",
              "      <td>0</td>\n",
              "      <td>32</td>\n",
              "      <td>35</td>\n",
              "      <td>0</td>\n",
              "      <td>0</td>\n",
              "    </tr>\n",
              "  </tbody>\n",
              "</table>\n",
              "</div>\n",
              "    <div class=\"colab-df-buttons\">\n",
              "\n",
              "  <div class=\"colab-df-container\">\n",
              "    <button class=\"colab-df-convert\" onclick=\"convertToInteractive('df-69323d6f-4ffb-4983-8498-beaff4ef0652')\"\n",
              "            title=\"Convert this dataframe to an interactive table.\"\n",
              "            style=\"display:none;\">\n",
              "\n",
              "  <svg xmlns=\"http://www.w3.org/2000/svg\" height=\"24px\" viewBox=\"0 -960 960 960\">\n",
              "    <path d=\"M120-120v-720h720v720H120Zm60-500h600v-160H180v160Zm220 220h160v-160H400v160Zm0 220h160v-160H400v160ZM180-400h160v-160H180v160Zm440 0h160v-160H620v160ZM180-180h160v-160H180v160Zm440 0h160v-160H620v160Z\"/>\n",
              "  </svg>\n",
              "    </button>\n",
              "\n",
              "  <style>\n",
              "    .colab-df-container {\n",
              "      display:flex;\n",
              "      gap: 12px;\n",
              "    }\n",
              "\n",
              "    .colab-df-convert {\n",
              "      background-color: #E8F0FE;\n",
              "      border: none;\n",
              "      border-radius: 50%;\n",
              "      cursor: pointer;\n",
              "      display: none;\n",
              "      fill: #1967D2;\n",
              "      height: 32px;\n",
              "      padding: 0 0 0 0;\n",
              "      width: 32px;\n",
              "    }\n",
              "\n",
              "    .colab-df-convert:hover {\n",
              "      background-color: #E2EBFA;\n",
              "      box-shadow: 0px 1px 2px rgba(60, 64, 67, 0.3), 0px 1px 3px 1px rgba(60, 64, 67, 0.15);\n",
              "      fill: #174EA6;\n",
              "    }\n",
              "\n",
              "    .colab-df-buttons div {\n",
              "      margin-bottom: 4px;\n",
              "    }\n",
              "\n",
              "    [theme=dark] .colab-df-convert {\n",
              "      background-color: #3B4455;\n",
              "      fill: #D2E3FC;\n",
              "    }\n",
              "\n",
              "    [theme=dark] .colab-df-convert:hover {\n",
              "      background-color: #434B5C;\n",
              "      box-shadow: 0px 1px 3px 1px rgba(0, 0, 0, 0.15);\n",
              "      filter: drop-shadow(0px 1px 2px rgba(0, 0, 0, 0.3));\n",
              "      fill: #FFFFFF;\n",
              "    }\n",
              "  </style>\n",
              "\n",
              "    <script>\n",
              "      const buttonEl =\n",
              "        document.querySelector('#df-69323d6f-4ffb-4983-8498-beaff4ef0652 button.colab-df-convert');\n",
              "      buttonEl.style.display =\n",
              "        google.colab.kernel.accessAllowed ? 'block' : 'none';\n",
              "\n",
              "      async function convertToInteractive(key) {\n",
              "        const element = document.querySelector('#df-69323d6f-4ffb-4983-8498-beaff4ef0652');\n",
              "        const dataTable =\n",
              "          await google.colab.kernel.invokeFunction('convertToInteractive',\n",
              "                                                    [key], {});\n",
              "        if (!dataTable) return;\n",
              "\n",
              "        const docLinkHtml = 'Like what you see? Visit the ' +\n",
              "          '<a target=\"_blank\" href=https://colab.research.google.com/notebooks/data_table.ipynb>data table notebook</a>'\n",
              "          + ' to learn more about interactive tables.';\n",
              "        element.innerHTML = '';\n",
              "        dataTable['output_type'] = 'display_data';\n",
              "        await google.colab.output.renderOutput(dataTable, element);\n",
              "        const docLink = document.createElement('div');\n",
              "        docLink.innerHTML = docLinkHtml;\n",
              "        element.appendChild(docLink);\n",
              "      }\n",
              "    </script>\n",
              "  </div>\n",
              "\n",
              "\n",
              "<div id=\"df-6ec418d9-da06-4b59-ab86-75ca9b357ea3\">\n",
              "  <button class=\"colab-df-quickchart\" onclick=\"quickchart('df-6ec418d9-da06-4b59-ab86-75ca9b357ea3')\"\n",
              "            title=\"Suggest charts\"\n",
              "            style=\"display:none;\">\n",
              "\n",
              "<svg xmlns=\"http://www.w3.org/2000/svg\" height=\"24px\"viewBox=\"0 0 24 24\"\n",
              "     width=\"24px\">\n",
              "    <g>\n",
              "        <path d=\"M19 3H5c-1.1 0-2 .9-2 2v14c0 1.1.9 2 2 2h14c1.1 0 2-.9 2-2V5c0-1.1-.9-2-2-2zM9 17H7v-7h2v7zm4 0h-2V7h2v10zm4 0h-2v-4h2v4z\"/>\n",
              "    </g>\n",
              "</svg>\n",
              "  </button>\n",
              "\n",
              "<style>\n",
              "  .colab-df-quickchart {\n",
              "      --bg-color: #E8F0FE;\n",
              "      --fill-color: #1967D2;\n",
              "      --hover-bg-color: #E2EBFA;\n",
              "      --hover-fill-color: #174EA6;\n",
              "      --disabled-fill-color: #AAA;\n",
              "      --disabled-bg-color: #DDD;\n",
              "  }\n",
              "\n",
              "  [theme=dark] .colab-df-quickchart {\n",
              "      --bg-color: #3B4455;\n",
              "      --fill-color: #D2E3FC;\n",
              "      --hover-bg-color: #434B5C;\n",
              "      --hover-fill-color: #FFFFFF;\n",
              "      --disabled-bg-color: #3B4455;\n",
              "      --disabled-fill-color: #666;\n",
              "  }\n",
              "\n",
              "  .colab-df-quickchart {\n",
              "    background-color: var(--bg-color);\n",
              "    border: none;\n",
              "    border-radius: 50%;\n",
              "    cursor: pointer;\n",
              "    display: none;\n",
              "    fill: var(--fill-color);\n",
              "    height: 32px;\n",
              "    padding: 0;\n",
              "    width: 32px;\n",
              "  }\n",
              "\n",
              "  .colab-df-quickchart:hover {\n",
              "    background-color: var(--hover-bg-color);\n",
              "    box-shadow: 0 1px 2px rgba(60, 64, 67, 0.3), 0 1px 3px 1px rgba(60, 64, 67, 0.15);\n",
              "    fill: var(--button-hover-fill-color);\n",
              "  }\n",
              "\n",
              "  .colab-df-quickchart-complete:disabled,\n",
              "  .colab-df-quickchart-complete:disabled:hover {\n",
              "    background-color: var(--disabled-bg-color);\n",
              "    fill: var(--disabled-fill-color);\n",
              "    box-shadow: none;\n",
              "  }\n",
              "\n",
              "  .colab-df-spinner {\n",
              "    border: 2px solid var(--fill-color);\n",
              "    border-color: transparent;\n",
              "    border-bottom-color: var(--fill-color);\n",
              "    animation:\n",
              "      spin 1s steps(1) infinite;\n",
              "  }\n",
              "\n",
              "  @keyframes spin {\n",
              "    0% {\n",
              "      border-color: transparent;\n",
              "      border-bottom-color: var(--fill-color);\n",
              "      border-left-color: var(--fill-color);\n",
              "    }\n",
              "    20% {\n",
              "      border-color: transparent;\n",
              "      border-left-color: var(--fill-color);\n",
              "      border-top-color: var(--fill-color);\n",
              "    }\n",
              "    30% {\n",
              "      border-color: transparent;\n",
              "      border-left-color: var(--fill-color);\n",
              "      border-top-color: var(--fill-color);\n",
              "      border-right-color: var(--fill-color);\n",
              "    }\n",
              "    40% {\n",
              "      border-color: transparent;\n",
              "      border-right-color: var(--fill-color);\n",
              "      border-top-color: var(--fill-color);\n",
              "    }\n",
              "    60% {\n",
              "      border-color: transparent;\n",
              "      border-right-color: var(--fill-color);\n",
              "    }\n",
              "    80% {\n",
              "      border-color: transparent;\n",
              "      border-right-color: var(--fill-color);\n",
              "      border-bottom-color: var(--fill-color);\n",
              "    }\n",
              "    90% {\n",
              "      border-color: transparent;\n",
              "      border-bottom-color: var(--fill-color);\n",
              "    }\n",
              "  }\n",
              "</style>\n",
              "\n",
              "  <script>\n",
              "    async function quickchart(key) {\n",
              "      const quickchartButtonEl =\n",
              "        document.querySelector('#' + key + ' button');\n",
              "      quickchartButtonEl.disabled = true;  // To prevent multiple clicks.\n",
              "      quickchartButtonEl.classList.add('colab-df-spinner');\n",
              "      try {\n",
              "        const charts = await google.colab.kernel.invokeFunction(\n",
              "            'suggestCharts', [key], {});\n",
              "      } catch (error) {\n",
              "        console.error('Error during call to suggestCharts:', error);\n",
              "      }\n",
              "      quickchartButtonEl.classList.remove('colab-df-spinner');\n",
              "      quickchartButtonEl.classList.add('colab-df-quickchart-complete');\n",
              "    }\n",
              "    (() => {\n",
              "      let quickchartButtonEl =\n",
              "        document.querySelector('#df-6ec418d9-da06-4b59-ab86-75ca9b357ea3 button');\n",
              "      quickchartButtonEl.style.display =\n",
              "        google.colab.kernel.accessAllowed ? 'block' : 'none';\n",
              "    })();\n",
              "  </script>\n",
              "</div>\n",
              "\n",
              "    </div>\n",
              "  </div>\n"
            ],
            "application/vnd.google.colaboratory.intrinsic+json": {
              "type": "dataframe",
              "variable_name": "data_bin"
            }
          },
          "metadata": {},
          "execution_count": 24
        }
      ]
    },
    {
      "cell_type": "markdown",
      "source": [
        "**Corrolation Matrix**"
      ],
      "metadata": {
        "id": "9ht18Xx0zxwB"
      }
    },
    {
      "cell_type": "code",
      "source": [
        "sns.heatmap(data_bin.corr())\n",
        "plt.show()"
      ],
      "metadata": {
        "execution": {
          "iopub.status.busy": "2024-01-17T18:51:11.660875Z",
          "iopub.execute_input": "2024-01-17T18:51:11.661209Z",
          "iopub.status.idle": "2024-01-17T18:51:12.1923Z",
          "shell.execute_reply.started": "2024-01-17T18:51:11.661182Z",
          "shell.execute_reply": "2024-01-17T18:51:12.19118Z"
        },
        "trusted": true,
        "id": "aoG_r6QuzxwB",
        "colab": {
          "base_uri": "https://localhost:8080/",
          "height": 540
        },
        "outputId": "8440d533-d9aa-4744-ba3c-5b40a7dcebb8"
      },
      "execution_count": 25,
      "outputs": [
        {
          "output_type": "display_data",
          "data": {
            "text/plain": [
              "<Figure size 640x480 with 2 Axes>"
            ],
            "image/png": "[encoded data removed]"
          },
          "metadata": {}
        }
      ]
    },
    {
      "cell_type": "code",
      "source": [
        "columns = data_bin.columns.tolist()\n",
        "corr = data_bin.corr()\n",
        "correlated_vars = []\n",
        "for i in range(len(columns) - 1):\n",
        "    for j in range(i+1, len(columns)):\n",
        "        if corr[columns[i]][columns[j]] > 0.95:\n",
        "            print(columns[i], columns[j], corr[columns[i]][columns[j]])\n",
        "            correlated_vars.append(columns[j])"
      ],
      "metadata": {
        "execution": {
          "iopub.status.busy": "2024-01-17T18:51:12.19389Z",
          "iopub.execute_input": "2024-01-17T18:51:12.194937Z",
          "iopub.status.idle": "2024-01-17T18:51:12.235134Z",
          "shell.execute_reply.started": "2024-01-17T18:51:12.194898Z",
          "shell.execute_reply": "2024-01-17T18:51:12.234184Z"
        },
        "trusted": true,
        "id": "-1OMgeAVzxwC",
        "colab": {
          "base_uri": "https://localhost:8080/"
        },
        "outputId": "a3cd0a93-47be-43f2-8f03-a6757878a61a"
      },
      "execution_count": 26,
      "outputs": [
        {
          "output_type": "stream",
          "name": "stdout",
          "text": [
            "swin dwin 0.9717936124274676\n",
            "tcprtt synack 0.9828973866750446\n",
            "is_ftp_login ct_ftp_cmd 1.0\n"
          ]
        }
      ]
    },
    {
      "cell_type": "code",
      "source": [
        "data_bin = data_bin.drop(columns=correlated_vars)\n",
        "data_bin.info()"
      ],
      "metadata": {
        "execution": {
          "iopub.status.busy": "2024-01-17T18:51:12.236209Z",
          "iopub.execute_input": "2024-01-17T18:51:12.236998Z",
          "iopub.status.idle": "2024-01-17T18:51:12.258955Z",
          "shell.execute_reply.started": "2024-01-17T18:51:12.236964Z",
          "shell.execute_reply": "2024-01-17T18:51:12.257682Z"
        },
        "trusted": true,
        "id": "x4YTMZNqzxwD",
        "colab": {
          "base_uri": "https://localhost:8080/"
        },
        "outputId": "7d689b78-51df-4ca7-afba-57d76b557899"
      },
      "execution_count": 27,
      "outputs": [
        {
          "output_type": "stream",
          "name": "stdout",
          "text": [
            "<class 'pandas.core.frame.DataFrame'>\n",
            "Index: 4658 entries, 109826 to 90614\n",
            "Data columns (total 40 columns):\n",
            " #   Column             Non-Null Count  Dtype\n",
            "---  ------             --------------  -----\n",
            " 0   dur                4658 non-null   int64\n",
            " 1   proto              4658 non-null   int64\n",
            " 2   service            4658 non-null   int64\n",
            " 3   state              4658 non-null   int64\n",
            " 4   spkts              4658 non-null   int64\n",
            " 5   dpkts              4658 non-null   int64\n",
            " 6   sbytes             4658 non-null   int64\n",
            " 7   dbytes             4658 non-null   int64\n",
            " 8   rate               4658 non-null   int64\n",
            " 9   sttl               4658 non-null   int64\n",
            " 10  dttl               4658 non-null   int64\n",
            " 11  sload              4658 non-null   int64\n",
            " 12  dload              4658 non-null   int64\n",
            " 13  sloss              4658 non-null   int64\n",
            " 14  dloss              4658 non-null   int64\n",
            " 15  sinpkt             4658 non-null   int64\n",
            " 16  dinpkt             4658 non-null   int64\n",
            " 17  sjit               4658 non-null   int64\n",
            " 18  djit               4658 non-null   int64\n",
            " 19  swin               4658 non-null   int64\n",
            " 20  stcpb              4658 non-null   int64\n",
            " 21  dtcpb              4658 non-null   int64\n",
            " 22  tcprtt             4658 non-null   int64\n",
            " 23  ackdat             4658 non-null   int64\n",
            " 24  smean              4658 non-null   int64\n",
            " 25  dmean              4658 non-null   int64\n",
            " 26  trans_depth        4658 non-null   int64\n",
            " 27  response_body_len  4658 non-null   int64\n",
            " 28  ct_srv_src         4658 non-null   int64\n",
            " 29  ct_state_ttl       4658 non-null   int64\n",
            " 30  ct_dst_ltm         4658 non-null   int64\n",
            " 31  ct_src_dport_ltm   4658 non-null   int64\n",
            " 32  ct_dst_sport_ltm   4658 non-null   int64\n",
            " 33  ct_dst_src_ltm     4658 non-null   int64\n",
            " 34  is_ftp_login       4658 non-null   int64\n",
            " 35  ct_flw_http_mthd   4658 non-null   int64\n",
            " 36  ct_src_ltm         4658 non-null   int64\n",
            " 37  ct_srv_dst         4658 non-null   int64\n",
            " 38  is_sm_ips_ports    4658 non-null   int64\n",
            " 39  label              4658 non-null   int64\n",
            "dtypes: int64(40)\n",
            "memory usage: 1.5 MB\n"
          ]
        }
      ]
    },
    {
      "cell_type": "markdown",
      "source": [
        "**Mutual Information**"
      ],
      "metadata": {
        "id": "-19EsdXMzxwE"
      }
    },
    {
      "cell_type": "code",
      "source": [
        "x = data_bin.drop(columns=['label'])\n",
        "y = data_bin['label']"
      ],
      "metadata": {
        "execution": {
          "iopub.status.busy": "2024-01-17T18:51:12.260733Z",
          "iopub.execute_input": "2024-01-17T18:51:12.261184Z",
          "iopub.status.idle": "2024-01-17T18:51:12.273201Z",
          "shell.execute_reply.started": "2024-01-17T18:51:12.261141Z",
          "shell.execute_reply": "2024-01-17T18:51:12.271982Z"
        },
        "trusted": true,
        "id": "kz0gW0l0zxwF"
      },
      "execution_count": 28,
      "outputs": []
    },
    {
      "cell_type": "code",
      "source": [
        "mi_scores = mutual_info_classif(x, y)\n",
        "mi_df = pd.DataFrame(mi_scores, index=x.columns, columns=['MI Score'])\n",
        "mi_df = mi_df.sort_values(by='MI Score', ascending=False)\n",
        "\n",
        "print(mi_df)"
      ],
      "metadata": {
        "execution": {
          "iopub.status.busy": "2024-01-17T18:51:12.274777Z",
          "iopub.execute_input": "2024-01-17T18:51:12.275244Z",
          "iopub.status.idle": "2024-01-17T18:51:13.07792Z",
          "shell.execute_reply.started": "2024-01-17T18:51:12.2752Z",
          "shell.execute_reply": "2024-01-17T18:51:13.076829Z"
        },
        "trusted": true,
        "id": "EgXw7eakzxwG",
        "colab": {
          "base_uri": "https://localhost:8080/"
        },
        "outputId": "456a3e06-64ff-4761-b1f7-a1fa2a55a6f8"
      },
      "execution_count": 29,
      "outputs": [
        {
          "output_type": "stream",
          "name": "stdout",
          "text": [
            "                   MI Score\n",
            "sttl               0.327026\n",
            "dttl               0.286671\n",
            "state              0.280733\n",
            "ct_state_ttl       0.280321\n",
            "dur                0.229297\n",
            "dbytes             0.212076\n",
            "ct_dst_sport_ltm   0.198208\n",
            "swin               0.184312\n",
            "dmean              0.176455\n",
            "sloss              0.170125\n",
            "smean              0.167500\n",
            "sbytes             0.151906\n",
            "dload              0.144671\n",
            "proto              0.120096\n",
            "djit               0.105108\n",
            "dtcpb              0.101872\n",
            "dloss              0.095446\n",
            "stcpb              0.089793\n",
            "dpkts              0.080821\n",
            "ct_src_dport_ltm   0.076125\n",
            "sjit               0.074997\n",
            "dinpkt             0.060002\n",
            "spkts              0.059024\n",
            "rate               0.052819\n",
            "service            0.034447\n",
            "ct_dst_src_ltm     0.033650\n",
            "sinpkt             0.028059\n",
            "response_body_len  0.019727\n",
            "ct_flw_http_mthd   0.017947\n",
            "ackdat             0.015852\n",
            "tcprtt             0.013220\n",
            "trans_depth        0.012275\n",
            "sload              0.010114\n",
            "ct_srv_src         0.007704\n",
            "ct_dst_ltm         0.007365\n",
            "ct_srv_dst         0.007339\n",
            "is_ftp_login       0.005631\n",
            "is_sm_ips_ports    0.003268\n",
            "ct_src_ltm         0.000440\n"
          ]
        }
      ]
    },
    {
      "cell_type": "code",
      "source": [
        "mi_df_sorted = mi_df.sort_values(by='MI Score', ascending=True)\n",
        "\n",
        "plt.figure(figsize=(10, 8))\n",
        "sns.barplot(x='MI Score', y=mi_df_sorted.index, data=mi_df_sorted, palette='mako')\n",
        "plt.xlabel('Mutual Information Score')\n",
        "plt.ylabel('Features')\n",
        "plt.title('Mutual Information Scores per Feature')\n",
        "plt.tight_layout()\n",
        "plt.show()"
      ],
      "metadata": {
        "execution": {
          "iopub.status.busy": "2024-01-17T18:51:13.084041Z",
          "iopub.execute_input": "2024-01-17T18:51:13.084601Z",
          "iopub.status.idle": "2024-01-17T18:51:13.833601Z",
          "shell.execute_reply.started": "2024-01-17T18:51:13.084566Z",
          "shell.execute_reply": "2024-01-17T18:51:13.830179Z"
        },
        "trusted": true,
        "id": "StpEmZgdzxwH",
        "colab": {
          "base_uri": "https://localhost:8080/",
          "height": 889
        },
        "outputId": "9a81d1b7-bb1d-4fa5-ae3c-5b1a2589a766"
      },
      "execution_count": 30,
      "outputs": [
        {
          "output_type": "stream",
          "name": "stderr",
          "text": [
            "<ipython-input-30-857cbf82e5cd>:4: FutureWarning: \n",
            "\n",
            "Passing `palette` without assigning `hue` is deprecated and will be removed in v0.14.0. Assign the `y` variable to `hue` and set `legend=False` for the same effect.\n",
            "\n",
            "  sns.barplot(x='MI Score', y=mi_df_sorted.index, data=mi_df_sorted, palette='mako')\n"
          ]
        },
        {
          "output_type": "display_data",
          "data": {
            "text/plain": [
              "<Figure size 1000x800 with 1 Axes>"
            ],
            "image/png": "[encoded data removed]"
          },
          "metadata": {}
        }
      ]
    },
    {
      "cell_type": "code",
      "source": [
        "data_bin =  data_bin.drop(['trans_depth','ct_src_ltm','tcprtt','rate','ct_state_ttl'], axis=1)\n",
        "data_bin.info()"
      ],
      "metadata": {
        "execution": {
          "iopub.status.busy": "2024-01-17T18:51:13.835221Z",
          "iopub.execute_input": "2024-01-17T18:51:13.835641Z",
          "iopub.status.idle": "2024-01-17T18:51:13.858043Z",
          "shell.execute_reply.started": "2024-01-17T18:51:13.835596Z",
          "shell.execute_reply": "2024-01-17T18:51:13.856614Z"
        },
        "trusted": true,
        "id": "ZqGHdD51zxwI",
        "colab": {
          "base_uri": "https://localhost:8080/"
        },
        "outputId": "48294955-b4ff-4e79-dc4b-cb2205886d76"
      },
      "execution_count": 31,
      "outputs": [
        {
          "output_type": "stream",
          "name": "stdout",
          "text": [
            "<class 'pandas.core.frame.DataFrame'>\n",
            "Index: 4658 entries, 109826 to 90614\n",
            "Data columns (total 35 columns):\n",
            " #   Column             Non-Null Count  Dtype\n",
            "---  ------             --------------  -----\n",
            " 0   dur                4658 non-null   int64\n",
            " 1   proto              4658 non-null   int64\n",
            " 2   service            4658 non-null   int64\n",
            " 3   state              4658 non-null   int64\n",
            " 4   spkts              4658 non-null   int64\n",
            " 5   dpkts              4658 non-null   int64\n",
            " 6   sbytes             4658 non-null   int64\n",
            " 7   dbytes             4658 non-null   int64\n",
            " 8   sttl               4658 non-null   int64\n",
            " 9   dttl               4658 non-null   int64\n",
            " 10  sload              4658 non-null   int64\n",
            " 11  dload              4658 non-null   int64\n",
            " 12  sloss              4658 non-null   int64\n",
            " 13  dloss              4658 non-null   int64\n",
            " 14  sinpkt             4658 non-null   int64\n",
            " 15  dinpkt             4658 non-null   int64\n",
            " 16  sjit               4658 non-null   int64\n",
            " 17  djit               4658 non-null   int64\n",
            " 18  swin               4658 non-null   int64\n",
            " 19  stcpb              4658 non-null   int64\n",
            " 20  dtcpb              4658 non-null   int64\n",
            " 21  ackdat             4658 non-null   int64\n",
            " 22  smean              4658 non-null   int64\n",
            " 23  dmean              4658 non-null   int64\n",
            " 24  response_body_len  4658 non-null   int64\n",
            " 25  ct_srv_src         4658 non-null   int64\n",
            " 26  ct_dst_ltm         4658 non-null   int64\n",
            " 27  ct_src_dport_ltm   4658 non-null   int64\n",
            " 28  ct_dst_sport_ltm   4658 non-null   int64\n",
            " 29  ct_dst_src_ltm     4658 non-null   int64\n",
            " 30  is_ftp_login       4658 non-null   int64\n",
            " 31  ct_flw_http_mthd   4658 non-null   int64\n",
            " 32  ct_srv_dst         4658 non-null   int64\n",
            " 33  is_sm_ips_ports    4658 non-null   int64\n",
            " 34  label              4658 non-null   int64\n",
            "dtypes: int64(35)\n",
            "memory usage: 1.3 MB\n"
          ]
        }
      ]
    },
    {
      "cell_type": "markdown",
      "source": [
        "**Splitting training and testing sets**"
      ],
      "metadata": {
        "id": "UT37AabgzxwJ"
      }
    },
    {
      "cell_type": "code",
      "source": [
        "selected_columns = ['dur', 'proto', 'spkts', 'dpkts', 'sbytes', 'dbytes',\n",
        "       'dload', 'sloss', 'dinpkt', 'ackdat', 'smean', 'dmean', 'ct_srv_src',\n",
        "       'ct_dst_src_ltm', 'ct_srv_dst','label']\n",
        "\n",
        "dtt = data_bin[selected_columns]\n",
        "X = dtt.drop(columns=['label'])\n",
        "feature_list = list(X.columns)\n",
        "X = np.array(X)\n",
        "y = dtt['label']\n",
        "X_train, X_test, y_train, y_test = train_test_split(X, y, test_size = 0.25)\n"
      ],
      "metadata": {
        "execution": {
          "iopub.status.busy": "2024-01-17T18:51:13.859368Z",
          "iopub.execute_input": "2024-01-17T18:51:13.859727Z",
          "iopub.status.idle": "2024-01-17T18:51:13.877066Z",
          "shell.execute_reply.started": "2024-01-17T18:51:13.859695Z",
          "shell.execute_reply": "2024-01-17T18:51:13.875768Z"
        },
        "trusted": true,
        "id": "bM2k_g42zxwK"
      },
      "execution_count": 32,
      "outputs": []
    },
    {
      "cell_type": "code",
      "source": [
        "print(\"Training set:\", len(X_train))\n",
        "print(\"Testing set:\", len(X_test))"
      ],
      "metadata": {
        "execution": {
          "iopub.status.busy": "2024-01-17T18:51:13.878674Z",
          "iopub.execute_input": "2024-01-17T18:51:13.879416Z",
          "iopub.status.idle": "2024-01-17T18:51:13.888939Z",
          "shell.execute_reply.started": "2024-01-17T18:51:13.879368Z",
          "shell.execute_reply": "2024-01-17T18:51:13.887669Z"
        },
        "trusted": true,
        "id": "TbkkLY7RzxwL",
        "colab": {
          "base_uri": "https://localhost:8080/"
        },
        "outputId": "de17f95a-ba3c-40c0-f66d-dd550cd050da"
      },
      "execution_count": 33,
      "outputs": [
        {
          "output_type": "stream",
          "name": "stdout",
          "text": [
            "Training set: 3493\n",
            "Testing set: 1165\n"
          ]
        }
      ]
    },
    {
      "cell_type": "markdown",
      "source": [
        "# **Algorithms**"
      ],
      "metadata": {
        "id": "IlBFC7CWzxwO"
      }
    },
    {
      "cell_type": "code",
      "source": [
        "params = {\n",
        "    'max_depth': 10,\n",
        "    'objective': 'multi:softmax',  # error evaluation for multiclass training\n",
        "    'num_class': 2,                # Number of classes\n",
        "    'n_gpus': 4\n",
        "}\n",
        "models = {}\n",
        "models['Decision Tree Classifier'] = DecisionTreeClassifier()\n",
        "models['Random Forest Classifier'] =random_forest= RandomForestClassifier()\n",
        "models['Gaussian Naive Bayes'] = GaussianNB()\n",
        "models['xgb_classifier'] = xgb_classifier = xgb.XGBClassifier(**params)"
      ],
      "metadata": {
        "execution": {
          "iopub.status.busy": "2024-01-17T18:51:13.890969Z",
          "iopub.execute_input": "2024-01-17T18:51:13.892422Z",
          "iopub.status.idle": "2024-01-17T18:51:13.902211Z",
          "shell.execute_reply.started": "2024-01-17T18:51:13.892367Z",
          "shell.execute_reply": "2024-01-17T18:51:13.901171Z"
        },
        "trusted": true,
        "id": "Z78YBi1ezxwP"
      },
      "execution_count": 34,
      "outputs": []
    },
    {
      "cell_type": "code",
      "source": [
        "train_score, accuracy, precision, recall, training_time, y_pred = {}, {}, {}, {}, {}, {}\n",
        "for key in models.keys():\n",
        "    start_time = time.time()\n",
        "    models[key].fit(X_train, y_train)\n",
        "    training_time[key] = time.time() - start_time\n",
        "    y_pred[key] = models[key].predict(X_test)\n",
        "    train_score[key] = models[key].score(X_train, y_train)\n",
        "    accuracy[key] = models[key].score(X_test, y_test)\n",
        "    precision[key] = precision_score(y_test, y_pred[key])\n",
        "    recall[key] = recall_score(y_test, y_pred[key])"
      ],
      "metadata": {
        "execution": {
          "iopub.status.busy": "2024-01-17T18:51:13.903737Z",
          "iopub.execute_input": "2024-01-17T18:51:13.904364Z",
          "iopub.status.idle": "2024-01-17T18:51:15.454903Z",
          "shell.execute_reply.started": "2024-01-17T18:51:13.904328Z",
          "shell.execute_reply": "2024-01-17T18:51:15.45411Z"
        },
        "trusted": true,
        "id": "W3qClcKNzxwQ",
        "colab": {
          "base_uri": "https://localhost:8080/"
        },
        "outputId": "fa074a27-e209-43ff-f248-30ea2f576bfa"
      },
      "execution_count": 35,
      "outputs": [
        {
          "output_type": "stream",
          "name": "stderr",
          "text": [
            "/usr/local/lib/python3.10/dist-packages/xgboost/core.py:160: UserWarning: [03:54:20] WARNING: /workspace/src/learner.cc:742: \n",
            "Parameters: { \"n_gpus\" } are not used.\n",
            "\n",
            "  warnings.warn(smsg, UserWarning)\n"
          ]
        }
      ]
    },
    {
      "cell_type": "code",
      "source": [
        "df_models = pd.DataFrame(index=models.keys(), columns=['Training score', 'Accuracy', 'Precision', 'Recall', 'Training time'])\n",
        "df_models['Training score'] = train_score.values()\n",
        "df_models['Accuracy'] = accuracy.values()\n",
        "df_models['Precision'] = precision.values()\n",
        "df_models['Recall'] = recall.values()\n",
        "df_models['Training time'] = training_time.values()"
      ],
      "metadata": {
        "execution": {
          "iopub.status.busy": "2024-01-17T18:51:15.458238Z",
          "iopub.execute_input": "2024-01-17T18:51:15.458774Z",
          "iopub.status.idle": "2024-01-17T18:51:15.470145Z",
          "shell.execute_reply.started": "2024-01-17T18:51:15.458738Z",
          "shell.execute_reply": "2024-01-17T18:51:15.469052Z"
        },
        "trusted": true,
        "id": "NdEGVJAhzxwQ"
      },
      "execution_count": 36,
      "outputs": []
    },
    {
      "cell_type": "code",
      "source": [
        "df_models"
      ],
      "metadata": {
        "execution": {
          "iopub.status.busy": "2024-01-17T18:51:15.471429Z",
          "iopub.execute_input": "2024-01-17T18:51:15.471786Z",
          "iopub.status.idle": "2024-01-17T18:51:15.486334Z",
          "shell.execute_reply.started": "2024-01-17T18:51:15.471754Z",
          "shell.execute_reply": "2024-01-17T18:51:15.485163Z"
        },
        "trusted": true,
        "id": "54MaGelczxwR",
        "colab": {
          "base_uri": "https://localhost:8080/",
          "height": 170
        },
        "outputId": "aacb97b5-692a-4ad9-a97a-6d5239d463f6"
      },
      "execution_count": 37,
      "outputs": [
        {
          "output_type": "execute_result",
          "data": {
            "text/plain": [
              "                          Training score  Accuracy  Precision    Recall  \\\n",
              "Decision Tree Classifier        1.000000  0.970815   0.960345  0.980634   \n",
              "Random Forest Classifier        1.000000  0.980258   0.975567  0.984155   \n",
              "Gaussian Naive Bayes            0.853707  0.848927   0.857664  0.827465   \n",
              "xgb_classifier                  1.000000  0.978541   0.977153  0.978873   \n",
              "\n",
              "                          Training time  \n",
              "Decision Tree Classifier       0.021585  \n",
              "Random Forest Classifier       0.419535  \n",
              "Gaussian Naive Bayes           0.002205  \n",
              "xgb_classifier                 2.819196  "
            ],
            "text/html": [
              "\n",
              "  <div id=\"df-fc18a9e0-98c5-4ffa-a4a3-0f11ca022813\" class=\"colab-df-container\">\n",
              "    <div>\n",
              "<style scoped>\n",
              "    .dataframe tbody tr th:only-of-type {\n",
              "        vertical-align: middle;\n",
              "    }\n",
              "\n",
              "    .dataframe tbody tr th {\n",
              "        vertical-align: top;\n",
              "    }\n",
              "\n",
              "    .dataframe thead th {\n",
              "        text-align: right;\n",
              "    }\n",
              "</style>\n",
              "<table border=\"1\" class=\"dataframe\">\n",
              "  <thead>\n",
              "    <tr style=\"text-align: right;\">\n",
              "      <th></th>\n",
              "      <th>Training score</th>\n",
              "      <th>Accuracy</th>\n",
              "      <th>Precision</th>\n",
              "      <th>Recall</th>\n",
              "      <th>Training time</th>\n",
              "    </tr>\n",
              "  </thead>\n",
              "  <tbody>\n",
              "    <tr>\n",
              "      <th>Decision Tree Classifier</th>\n",
              "      <td>1.000000</td>\n",
              "      <td>0.970815</td>\n",
              "      <td>0.960345</td>\n",
              "      <td>0.980634</td>\n",
              "      <td>0.021585</td>\n",
              "    </tr>\n",
              "    <tr>\n",
              "      <th>Random Forest Classifier</th>\n",
              "      <td>1.000000</td>\n",
              "      <td>0.980258</td>\n",
              "      <td>0.975567</td>\n",
              "      <td>0.984155</td>\n",
              "      <td>0.419535</td>\n",
              "    </tr>\n",
              "    <tr>\n",
              "      <th>Gaussian Naive Bayes</th>\n",
              "      <td>0.853707</td>\n",
              "      <td>0.848927</td>\n",
              "      <td>0.857664</td>\n",
              "      <td>0.827465</td>\n",
              "      <td>0.002205</td>\n",
              "    </tr>\n",
              "    <tr>\n",
              "      <th>xgb_classifier</th>\n",
              "      <td>1.000000</td>\n",
              "      <td>0.978541</td>\n",
              "      <td>0.977153</td>\n",
              "      <td>0.978873</td>\n",
              "      <td>2.819196</td>\n",
              "    </tr>\n",
              "  </tbody>\n",
              "</table>\n",
              "</div>\n",
              "    <div class=\"colab-df-buttons\">\n",
              "\n",
              "  <div class=\"colab-df-container\">\n",
              "    <button class=\"colab-df-convert\" onclick=\"convertToInteractive('df-fc18a9e0-98c5-4ffa-a4a3-0f11ca022813')\"\n",
              "            title=\"Convert this dataframe to an interactive table.\"\n",
              "            style=\"display:none;\">\n",
              "\n",
              "  <svg xmlns=\"http://www.w3.org/2000/svg\" height=\"24px\" viewBox=\"0 -960 960 960\">\n",
              "    <path d=\"M120-120v-720h720v720H120Zm60-500h600v-160H180v160Zm220 220h160v-160H400v160Zm0 220h160v-160H400v160ZM180-400h160v-160H180v160Zm440 0h160v-160H620v160ZM180-180h160v-160H180v160Zm440 0h160v-160H620v160Z\"/>\n",
              "  </svg>\n",
              "    </button>\n",
              "\n",
              "  <style>\n",
              "    .colab-df-container {\n",
              "      display:flex;\n",
              "      gap: 12px;\n",
              "    }\n",
              "\n",
              "    .colab-df-convert {\n",
              "      background-color: #E8F0FE;\n",
              "      border: none;\n",
              "      border-radius: 50%;\n",
              "      cursor: pointer;\n",
              "      display: none;\n",
              "      fill: #1967D2;\n",
              "      height: 32px;\n",
              "      padding: 0 0 0 0;\n",
              "      width: 32px;\n",
              "    }\n",
              "\n",
              "    .colab-df-convert:hover {\n",
              "      background-color: #E2EBFA;\n",
              "      box-shadow: 0px 1px 2px rgba(60, 64, 67, 0.3), 0px 1px 3px 1px rgba(60, 64, 67, 0.15);\n",
              "      fill: #174EA6;\n",
              "    }\n",
              "\n",
              "    .colab-df-buttons div {\n",
              "      margin-bottom: 4px;\n",
              "    }\n",
              "\n",
              "    [theme=dark] .colab-df-convert {\n",
              "      background-color: #3B4455;\n",
              "      fill: #D2E3FC;\n",
              "    }\n",
              "\n",
              "    [theme=dark] .colab-df-convert:hover {\n",
              "      background-color: #434B5C;\n",
              "      box-shadow: 0px 1px 3px 1px rgba(0, 0, 0, 0.15);\n",
              "      filter: drop-shadow(0px 1px 2px rgba(0, 0, 0, 0.3));\n",
              "      fill: #FFFFFF;\n",
              "    }\n",
              "  </style>\n",
              "\n",
              "    <script>\n",
              "      const buttonEl =\n",
              "        document.querySelector('#df-fc18a9e0-98c5-4ffa-a4a3-0f11ca022813 button.colab-df-convert');\n",
              "      buttonEl.style.display =\n",
              "        google.colab.kernel.accessAllowed ? 'block' : 'none';\n",
              "\n",
              "      async function convertToInteractive(key) {\n",
              "        const element = document.querySelector('#df-fc18a9e0-98c5-4ffa-a4a3-0f11ca022813');\n",
              "        const dataTable =\n",
              "          await google.colab.kernel.invokeFunction('convertToInteractive',\n",
              "                                                    [key], {});\n",
              "        if (!dataTable) return;\n",
              "\n",
              "        const docLinkHtml = 'Like what you see? Visit the ' +\n",
              "          '<a target=\"_blank\" href=https://colab.research.google.com/notebooks/data_table.ipynb>data table notebook</a>'\n",
              "          + ' to learn more about interactive tables.';\n",
              "        element.innerHTML = '';\n",
              "        dataTable['output_type'] = 'display_data';\n",
              "        await google.colab.output.renderOutput(dataTable, element);\n",
              "        const docLink = document.createElement('div');\n",
              "        docLink.innerHTML = docLinkHtml;\n",
              "        element.appendChild(docLink);\n",
              "      }\n",
              "    </script>\n",
              "  </div>\n",
              "\n",
              "\n",
              "<div id=\"df-5f8f8498-aecf-41c4-b471-6ffc82f7e079\">\n",
              "  <button class=\"colab-df-quickchart\" onclick=\"quickchart('df-5f8f8498-aecf-41c4-b471-6ffc82f7e079')\"\n",
              "            title=\"Suggest charts\"\n",
              "            style=\"display:none;\">\n",
              "\n",
              "<svg xmlns=\"http://www.w3.org/2000/svg\" height=\"24px\"viewBox=\"0 0 24 24\"\n",
              "     width=\"24px\">\n",
              "    <g>\n",
              "        <path d=\"M19 3H5c-1.1 0-2 .9-2 2v14c0 1.1.9 2 2 2h14c1.1 0 2-.9 2-2V5c0-1.1-.9-2-2-2zM9 17H7v-7h2v7zm4 0h-2V7h2v10zm4 0h-2v-4h2v4z\"/>\n",
              "    </g>\n",
              "</svg>\n",
              "  </button>\n",
              "\n",
              "<style>\n",
              "  .colab-df-quickchart {\n",
              "      --bg-color: #E8F0FE;\n",
              "      --fill-color: #1967D2;\n",
              "      --hover-bg-color: #E2EBFA;\n",
              "      --hover-fill-color: #174EA6;\n",
              "      --disabled-fill-color: #AAA;\n",
              "      --disabled-bg-color: #DDD;\n",
              "  }\n",
              "\n",
              "  [theme=dark] .colab-df-quickchart {\n",
              "      --bg-color: #3B4455;\n",
              "      --fill-color: #D2E3FC;\n",
              "      --hover-bg-color: #434B5C;\n",
              "      --hover-fill-color: #FFFFFF;\n",
              "      --disabled-bg-color: #3B4455;\n",
              "      --disabled-fill-color: #666;\n",
              "  }\n",
              "\n",
              "  .colab-df-quickchart {\n",
              "    background-color: var(--bg-color);\n",
              "    border: none;\n",
              "    border-radius: 50%;\n",
              "    cursor: pointer;\n",
              "    display: none;\n",
              "    fill: var(--fill-color);\n",
              "    height: 32px;\n",
              "    padding: 0;\n",
              "    width: 32px;\n",
              "  }\n",
              "\n",
              "  .colab-df-quickchart:hover {\n",
              "    background-color: var(--hover-bg-color);\n",
              "    box-shadow: 0 1px 2px rgba(60, 64, 67, 0.3), 0 1px 3px 1px rgba(60, 64, 67, 0.15);\n",
              "    fill: var(--button-hover-fill-color);\n",
              "  }\n",
              "\n",
              "  .colab-df-quickchart-complete:disabled,\n",
              "  .colab-df-quickchart-complete:disabled:hover {\n",
              "    background-color: var(--disabled-bg-color);\n",
              "    fill: var(--disabled-fill-color);\n",
              "    box-shadow: none;\n",
              "  }\n",
              "\n",
              "  .colab-df-spinner {\n",
              "    border: 2px solid var(--fill-color);\n",
              "    border-color: transparent;\n",
              "    border-bottom-color: var(--fill-color);\n",
              "    animation:\n",
              "      spin 1s steps(1) infinite;\n",
              "  }\n",
              "\n",
              "  @keyframes spin {\n",
              "    0% {\n",
              "      border-color: transparent;\n",
              "      border-bottom-color: var(--fill-color);\n",
              "      border-left-color: var(--fill-color);\n",
              "    }\n",
              "    20% {\n",
              "      border-color: transparent;\n",
              "      border-left-color: var(--fill-color);\n",
              "      border-top-color: var(--fill-color);\n",
              "    }\n",
              "    30% {\n",
              "      border-color: transparent;\n",
              "      border-left-color: var(--fill-color);\n",
              "      border-top-color: var(--fill-color);\n",
              "      border-right-color: var(--fill-color);\n",
              "    }\n",
              "    40% {\n",
              "      border-color: transparent;\n",
              "      border-right-color: var(--fill-color);\n",
              "      border-top-color: var(--fill-color);\n",
              "    }\n",
              "    60% {\n",
              "      border-color: transparent;\n",
              "      border-right-color: var(--fill-color);\n",
              "    }\n",
              "    80% {\n",
              "      border-color: transparent;\n",
              "      border-right-color: var(--fill-color);\n",
              "      border-bottom-color: var(--fill-color);\n",
              "    }\n",
              "    90% {\n",
              "      border-color: transparent;\n",
              "      border-bottom-color: var(--fill-color);\n",
              "    }\n",
              "  }\n",
              "</style>\n",
              "\n",
              "  <script>\n",
              "    async function quickchart(key) {\n",
              "      const quickchartButtonEl =\n",
              "        document.querySelector('#' + key + ' button');\n",
              "      quickchartButtonEl.disabled = true;  // To prevent multiple clicks.\n",
              "      quickchartButtonEl.classList.add('colab-df-spinner');\n",
              "      try {\n",
              "        const charts = await google.colab.kernel.invokeFunction(\n",
              "            'suggestCharts', [key], {});\n",
              "      } catch (error) {\n",
              "        console.error('Error during call to suggestCharts:', error);\n",
              "      }\n",
              "      quickchartButtonEl.classList.remove('colab-df-spinner');\n",
              "      quickchartButtonEl.classList.add('colab-df-quickchart-complete');\n",
              "    }\n",
              "    (() => {\n",
              "      let quickchartButtonEl =\n",
              "        document.querySelector('#df-5f8f8498-aecf-41c4-b471-6ffc82f7e079 button');\n",
              "      quickchartButtonEl.style.display =\n",
              "        google.colab.kernel.accessAllowed ? 'block' : 'none';\n",
              "    })();\n",
              "  </script>\n",
              "</div>\n",
              "\n",
              "  <div id=\"id_04550335-4007-4186-8419-1a0f5d10f5fc\">\n",
              "    <style>\n",
              "      .colab-df-generate {\n",
              "        background-color: #E8F0FE;\n",
              "        border: none;\n",
              "        border-radius: 50%;\n",
              "        cursor: pointer;\n",
              "        display: none;\n",
              "        fill: #1967D2;\n",
              "        height: 32px;\n",
              "        padding: 0 0 0 0;\n",
              "        width: 32px;\n",
              "      }\n",
              "\n",
              "      .colab-df-generate:hover {\n",
              "        background-color: #E2EBFA;\n",
              "        box-shadow: 0px 1px 2px rgba(60, 64, 67, 0.3), 0px 1px 3px 1px rgba(60, 64, 67, 0.15);\n",
              "        fill: #174EA6;\n",
              "      }\n",
              "\n",
              "      [theme=dark] .colab-df-generate {\n",
              "        background-color: #3B4455;\n",
              "        fill: #D2E3FC;\n",
              "      }\n",
              "\n",
              "      [theme=dark] .colab-df-generate:hover {\n",
              "        background-color: #434B5C;\n",
              "        box-shadow: 0px 1px 3px 1px rgba(0, 0, 0, 0.15);\n",
              "        filter: drop-shadow(0px 1px 2px rgba(0, 0, 0, 0.3));\n",
              "        fill: #FFFFFF;\n",
              "      }\n",
              "    </style>\n",
              "    <button class=\"colab-df-generate\" onclick=\"generateWithVariable('df_models')\"\n",
              "            title=\"Generate code using this dataframe.\"\n",
              "            style=\"display:none;\">\n",
              "\n",
              "  <svg xmlns=\"http://www.w3.org/2000/svg\" height=\"24px\"viewBox=\"0 0 24 24\"\n",
              "       width=\"24px\">\n",
              "    <path d=\"M7,19H8.4L18.45,9,17,7.55,7,17.6ZM5,21V16.75L18.45,3.32a2,2,0,0,1,2.83,0l1.4,1.43a1.91,1.91,0,0,1,.58,1.4,1.91,1.91,0,0,1-.58,1.4L9.25,21ZM18.45,9,17,7.55Zm-12,3A5.31,5.31,0,0,0,4.9,8.1,5.31,5.31,0,0,0,1,6.5,5.31,5.31,0,0,0,4.9,4.9,5.31,5.31,0,0,0,6.5,1,5.31,5.31,0,0,0,8.1,4.9,5.31,5.31,0,0,0,12,6.5,5.46,5.46,0,0,0,6.5,12Z\"/>\n",
              "  </svg>\n",
              "    </button>\n",
              "    <script>\n",
              "      (() => {\n",
              "      const buttonEl =\n",
              "        document.querySelector('#id_04550335-4007-4186-8419-1a0f5d10f5fc button.colab-df-generate');\n",
              "      buttonEl.style.display =\n",
              "        google.colab.kernel.accessAllowed ? 'block' : 'none';\n",
              "\n",
              "      buttonEl.onclick = () => {\n",
              "        google.colab.notebook.generateWithVariable('df_models');\n",
              "      }\n",
              "      })();\n",
              "    </script>\n",
              "  </div>\n",
              "\n",
              "    </div>\n",
              "  </div>\n"
            ],
            "application/vnd.google.colaboratory.intrinsic+json": {
              "type": "dataframe",
              "variable_name": "df_models",
              "summary": "{\n  \"name\": \"df_models\",\n  \"rows\": 4,\n  \"fields\": [\n    {\n      \"column\": \"Training score\",\n      \"properties\": {\n        \"dtype\": \"number\",\n        \"std\": 0.07314629258517036,\n        \"min\": 0.8537074148296593,\n        \"max\": 1.0,\n        \"num_unique_values\": 2,\n        \"samples\": [\n          0.8537074148296593,\n          1.0\n        ],\n        \"semantic_type\": \"\",\n        \"description\": \"\"\n      }\n    },\n    {\n      \"column\": \"Accuracy\",\n      \"properties\": {\n        \"dtype\": \"number\",\n        \"std\": 0.06393745523999327,\n        \"min\": 0.8489270386266095,\n        \"max\": 0.9802575107296138,\n        \"num_unique_values\": 4,\n        \"samples\": [\n          0.9802575107296138,\n          0.9785407725321889\n        ],\n        \"semantic_type\": \"\",\n        \"description\": \"\"\n      }\n    },\n    {\n      \"column\": \"Precision\",\n      \"properties\": {\n        \"dtype\": \"number\",\n        \"std\": 0.05718296586856634,\n        \"min\": 0.8576642335766423,\n        \"max\": 0.9771528998242531,\n        \"num_unique_values\": 4,\n        \"samples\": [\n          0.9755671902268761,\n          0.9771528998242531\n        ],\n        \"semantic_type\": \"\",\n        \"description\": \"\"\n      }\n    },\n    {\n      \"column\": \"Recall\",\n      \"properties\": {\n        \"dtype\": \"number\",\n        \"std\": 0.07690928651456076,\n        \"min\": 0.8274647887323944,\n        \"max\": 0.9841549295774648,\n        \"num_unique_values\": 4,\n        \"samples\": [\n          0.9841549295774648,\n          0.9788732394366197\n        ],\n        \"semantic_type\": \"\",\n        \"description\": \"\"\n      }\n    },\n    {\n      \"column\": \"Training time\",\n      \"properties\": {\n        \"dtype\": \"number\",\n        \"std\": 1.3494855750846737,\n        \"min\": 0.0022046566009521484,\n        \"max\": 2.819195508956909,\n        \"num_unique_values\": 4,\n        \"samples\": [\n          0.41953492164611816,\n          2.819195508956909\n        ],\n        \"semantic_type\": \"\",\n        \"description\": \"\"\n      }\n    }\n  ]\n}"
            }
          },
          "metadata": {},
          "execution_count": 37
        }
      ]
    },
    {
      "cell_type": "code",
      "source": [
        "joblib.dump(random_forest, 'random_forest.joblib')\n",
        "joblib.dump(xgb_classifier, 'xgb_classifier.joblib')"
      ],
      "metadata": {
        "execution": {
          "iopub.status.busy": "2024-01-17T18:51:15.487766Z",
          "iopub.execute_input": "2024-01-17T18:51:15.488117Z",
          "iopub.status.idle": "2024-01-17T18:51:15.557763Z",
          "shell.execute_reply.started": "2024-01-17T18:51:15.488072Z",
          "shell.execute_reply": "2024-01-17T18:51:15.556524Z"
        },
        "trusted": true,
        "id": "DJ-01LZfzxwR",
        "colab": {
          "base_uri": "https://localhost:8080/"
        },
        "outputId": "86a9cbf0-cc78-4923-c69f-59a92dcc11b2"
      },
      "execution_count": 38,
      "outputs": [
        {
          "output_type": "execute_result",
          "data": {
            "text/plain": [
              "['xgb_classifier.joblib']"
            ]
          },
          "metadata": {},
          "execution_count": 38
        }
      ]
    },
    {
      "cell_type": "markdown",
      "source": [
        "**Random Forest Classifier + Recursive Feature Elimination**"
      ],
      "metadata": {
        "id": "zyyY5QUvzxwR"
      }
    },
    {
      "cell_type": "code",
      "source": [
        "rfc_rfe = 'Random Forest Classifier + Recursive Feature Elimination'\n",
        "models[rfc_rfe] = RandomForestClassifier()\n",
        "rfe = RFE(models[rfc_rfe])\n",
        "start_time = time.time()\n",
        "rfe.fit(X_train, y_train)\n",
        "training_time[rfc_rfe] = time.time() - start_time\n",
        "\n",
        "X_train_rfe = rfe.transform(X_train)\n",
        "X_test_rfe = rfe.transform(X_test)\n",
        "\n",
        "start_time = time.time()\n",
        "models[rfc_rfe].fit(X_train_rfe, y_train)\n",
        "training_time[rfc_rfe] = training_time[rfc_rfe] + (time.time() - start_time)\n",
        "\n",
        "y_pred[key] = models[rfc_rfe].predict(X_test_rfe)\n",
        "\n",
        "train_score[rfc_rfe] = models[rfc_rfe].score(X_train_rfe, y_train)\n",
        "accuracy[rfc_rfe] = models[rfc_rfe].score(X_test_rfe, y_test)\n",
        "precision[rfc_rfe] = precision_score(y_test, y_pred[key])\n",
        "recall[rfc_rfe] = recall_score(y_test, y_pred[key])"
      ],
      "metadata": {
        "execution": {
          "iopub.status.busy": "2024-01-17T18:51:15.558974Z",
          "iopub.execute_input": "2024-01-17T18:51:15.559322Z",
          "iopub.status.idle": "2024-01-17T18:51:19.955217Z",
          "shell.execute_reply.started": "2024-01-17T18:51:15.559292Z",
          "shell.execute_reply": "2024-01-17T18:51:19.953963Z"
        },
        "trusted": true,
        "id": "daNyxsTYzxwS"
      },
      "execution_count": 39,
      "outputs": []
    },
    {
      "cell_type": "code",
      "source": [
        "print(\"Old number of features:\", X.shape[1])\n",
        "print(\"New number of features:\", len(rfe.estimator_.feature_importances_))\n",
        "#print(\"new features:\",rfe.estimator_.feature_importances_)\n",
        "# Access the support_ attribute to get the boolean mask of selected features\n",
        "selected_features_mask = rfe.support_\n",
        "test = data_bin.drop(columns=['label'])\n",
        "# Get the indices of the selected features\n",
        "selected_feature_indices = [i for i, selected in enumerate(selected_features_mask) if selected]\n",
        "\n",
        "# Get the names of the selected features (assuming X_train is a NumPy array)\n",
        "selected_feature_names = test.columns[selected_feature_indices]\n",
        "\n",
        "# Print or use the selected feature names as needed\n",
        "print(\"Selected Features:\", selected_feature_names)\n",
        "\n",
        "y_pred[key] = models[rfc_rfe].predict(X_test_rfe)\n",
        "\n",
        "# Confusion matrix\n",
        "conf_matrix = confusion_matrix(y_test, y_pred[key], labels=models[rfc_rfe].classes_)\n",
        "disp = ConfusionMatrixDisplay(confusion_matrix=conf_matrix, display_labels=models[rfc_rfe].classes_)\n",
        "disp.plot(cmap='Blues')\n",
        "plt.show()"
      ],
      "metadata": {
        "execution": {
          "iopub.status.busy": "2024-01-17T18:51:19.956903Z",
          "iopub.execute_input": "2024-01-17T18:51:19.957614Z",
          "iopub.status.idle": "2024-01-17T18:51:20.747275Z",
          "shell.execute_reply.started": "2024-01-17T18:51:19.957569Z",
          "shell.execute_reply": "2024-01-17T18:51:20.746053Z"
        },
        "trusted": true,
        "id": "JhwZ7ouBzxwS",
        "colab": {
          "base_uri": "https://localhost:8080/",
          "height": 497
        },
        "outputId": "157e1701-430a-466b-abc4-ab7c6168e61f"
      },
      "execution_count": 40,
      "outputs": [
        {
          "output_type": "stream",
          "name": "stdout",
          "text": [
            "Old number of features: 15\n",
            "New number of features: 7\n",
            "Selected Features: Index(['proto', 'state', 'dpkts', 'sttl', 'sload', 'dload', 'sinpkt'], dtype='object')\n"
          ]
        },
        {
          "output_type": "display_data",
          "data": {
            "text/plain": [
              "<Figure size 640x480 with 2 Axes>"
            ],
            "image/png": "[encoded data removed]"
          },
          "metadata": {}
        }
      ]
    },
    {
      "cell_type": "code",
      "source": [
        "from sklearn.ensemble import RandomForestClassifier\n",
        "from sklearn.metrics import recall_score, f1_score\n",
        "import numpy as np\n",
        "import pandas as pd\n",
        "from sklearn.model_selection import StratifiedKFold\n",
        "\n",
        "# Assuming 'models' is a dictionary of classifiers\n",
        "\n",
        "\n",
        "# Assuming 'data_bin' is your DataFrame\n",
        "X = dtt.drop(columns=['label'])\n",
        "feature_list = list(X.columns)\n",
        "X = np.array(X)\n",
        "y = dtt['label'].values  # Convert to NumPy array\n",
        "assert X.shape[0] == y.shape[0], \"X and y must have the same number of rows\"\n",
        "\n",
        "# Check for missing values\n",
        "assert not np.isnan(X).any(), \"X contains missing values\"\n",
        "assert not pd.isnull(y).any(), \"y contains missing values\"\n",
        "\n",
        "stratified_kfold = StratifiedKFold(n_splits=5, shuffle=True, random_state=42)\n",
        "\n",
        "recall_scores = []\n",
        "f1_scores = []\n",
        "\n",
        "for train_index, test_index in stratified_kfold.split(X, y):\n",
        "    X_train, X_test = X[train_index], X[test_index]\n",
        "    y_train, y_test = y[train_index], y[test_index]\n",
        "\n",
        "    # Your training and testing code goes here\n",
        "    random_forest.fit(X_train, y_train)\n",
        "    accuracy = random_forest.score(X_test, y_test)\n",
        "    y_pred =random_forest.predict(X_test)\n",
        "    print(f'Accuracy: {accuracy}')\n",
        "\n",
        "    # Calculate recall and F1 score\n",
        "    recall = recall_score(y_test, y_pred)\n",
        "    f1 = f1_score(y_test, y_pred)\n",
        "\n",
        "    # Append scores to lists\n",
        "    recall_scores.append(recall)\n",
        "    f1_scores.append(f1)\n",
        "\n",
        "    # Print scores for each fold\n",
        "    print(f'Fold - Recall: {recall:.4f}, F1 Score: {f1:.4f}')\n",
        "\n"
      ],
      "metadata": {
        "execution": {
          "iopub.status.busy": "2024-01-17T18:51:20.748717Z",
          "iopub.execute_input": "2024-01-17T18:51:20.749064Z",
          "iopub.status.idle": "2024-01-17T18:51:23.200002Z",
          "shell.execute_reply.started": "2024-01-17T18:51:20.749033Z",
          "shell.execute_reply": "2024-01-17T18:51:23.198709Z"
        },
        "trusted": true,
        "id": "2YmxLaQRzxwT",
        "colab": {
          "base_uri": "https://localhost:8080/"
        },
        "outputId": "dc44eb62-8a21-4103-e6ab-8e93abe3a829"
      },
      "execution_count": 41,
      "outputs": [
        {
          "output_type": "stream",
          "name": "stdout",
          "text": [
            "Accuracy: 0.9871244635193133\n",
            "Fold - Recall: 0.9871, F1 Score: 0.9871\n",
            "Accuracy: 0.990343347639485\n",
            "Fold - Recall: 0.9957, F1 Score: 0.9904\n",
            "Accuracy: 0.9828326180257511\n",
            "Fold - Recall: 0.9785, F1 Score: 0.9828\n",
            "Accuracy: 0.9892588614393125\n",
            "Fold - Recall: 0.9871, F1 Score: 0.9892\n",
            "Accuracy: 0.99140708915145\n",
            "Fold - Recall: 0.9978, F1 Score: 0.9915\n"
          ]
        }
      ]
    },
    {
      "cell_type": "code",
      "source": [
        "joblib.dump(random_forest, 'stratified_random_forest.joblib')"
      ],
      "metadata": {
        "execution": {
          "iopub.status.busy": "2024-01-17T18:51:23.201576Z",
          "iopub.execute_input": "2024-01-17T18:51:23.202019Z",
          "iopub.status.idle": "2024-01-17T18:51:23.268681Z",
          "shell.execute_reply.started": "2024-01-17T18:51:23.201975Z",
          "shell.execute_reply": "2024-01-17T18:51:23.267507Z"
        },
        "trusted": true,
        "id": "IuUd28LQzxwU",
        "colab": {
          "base_uri": "https://localhost:8080/"
        },
        "outputId": "aae03b33-c4d0-48d4-cd9b-8d526c8c25d5"
      },
      "execution_count": 42,
      "outputs": [
        {
          "output_type": "execute_result",
          "data": {
            "text/plain": [
              "['stratified_random_forest.joblib']"
            ]
          },
          "metadata": {},
          "execution_count": 42
        }
      ]
    },
    {
      "cell_type": "markdown",
      "source": [
        "# **LSTM**"
      ],
      "metadata": {
        "id": "94mxCdkjzxwV"
      }
    },
    {
      "cell_type": "code",
      "source": [
        "scaler = StandardScaler().fit(X_train)\n",
        "X_train = scaler.transform(X_train)\n",
        "X_test = scaler.transform(X_test)"
      ],
      "metadata": {
        "execution": {
          "iopub.status.busy": "2024-01-17T18:51:23.270172Z",
          "iopub.execute_input": "2024-01-17T18:51:23.270932Z",
          "iopub.status.idle": "2024-01-17T18:51:23.280149Z",
          "shell.execute_reply.started": "2024-01-17T18:51:23.270892Z",
          "shell.execute_reply": "2024-01-17T18:51:23.278772Z"
        },
        "trusted": true,
        "id": "8C06qQ8KzxwV"
      },
      "execution_count": 43,
      "outputs": []
    },
    {
      "cell_type": "code",
      "source": [
        "from sklearn.preprocessing import MinMaxScaler\n",
        "from keras.models import Sequential\n",
        "from keras.layers import LSTM, Dense, Dropout\n",
        "from keras.optimizers import Adam\n",
        "from keras.callbacks import EarlyStopping\n",
        "\n",
        "# Assuming X_train, y_train, X_val, and y_val are defined elsewhere in your code\n",
        "\n",
        "# Preprocess data\n",
        "scaler = MinMaxScaler()\n",
        "X_train_scaled = scaler.fit_transform(X_train)\n",
        "joblib.dump(scaler, 'scaler.joblib')\n",
        "\n",
        "\n",
        "\n",
        "# Reshape data for LSTM\n",
        "X_train_reshaped = X_train_scaled.reshape(X_train_scaled.shape[0], 1, X_train_scaled.shape[1])\n",
        "# Build LSTM model\n",
        "lstm_model=Sequential()\n",
        "lstm_model.add(LSTM(units=100, return_sequences=True, input_shape=(X_train_reshaped.shape[1], X_train_reshaped.shape[2])))\n",
        "lstm_model.add(LSTM(units=100))\n",
        "lstm_model.add(Dropout(0.2))  # Adding dropout for regularization\n",
        "lstm_model.add(Dense(1, activation='sigmoid'))\n",
        "\n",
        "# Compile the model with an adaptive learning rate\n",
        "optimizer = Adam(learning_rate=0.001)\n",
        "lstm_model.compile(optimizer=optimizer, loss='binary_crossentropy', metrics=['accuracy'])\n",
        "\n",
        "# Implement early stopping\n",
        "early_stopping = EarlyStopping(monitor='val_loss', patience=5, restore_best_weights=True)\n",
        "\n",
        "# Train the LSTM model\n",
        "start_time = time.time()\n",
        "history = lstm_model.fit(X_train_reshaped, y_train, epochs=100, batch_size=32, callbacks=[early_stopping])\n",
        "end_time = time.time()\n",
        "\n",
        "# Evaluate the model on the test set\n",
        "X_test_scaled = scaler.transform(X_test)\n",
        "X_test_reshaped = X_test_scaled.reshape(X_test_scaled.shape[0], 1, X_test_scaled.shape[1])\n",
        "\n",
        "test_loss, test_accuracy = lstm_model.evaluate(X_test_reshaped, y_test)\n",
        "\n",
        "# Calculate additional metrics\n",
        "y_pred = lstm_model.predict(X_test_reshaped)\n",
        "y_pred_binary = (y_pred > 0.5).astype(int)  # Assuming binary classification\n",
        "precision = precision_score(y_test, y_pred_binary)\n",
        "recall = recall_score(y_test, y_pred_binary)\n",
        "\n",
        "\n"
      ],
      "metadata": {
        "execution": {
          "iopub.status.busy": "2024-01-17T18:51:23.281561Z",
          "iopub.execute_input": "2024-01-17T18:51:23.282022Z",
          "iopub.status.idle": "2024-01-17T18:52:51.078133Z",
          "shell.execute_reply.started": "2024-01-17T18:51:23.281982Z",
          "shell.execute_reply": "2024-01-17T18:52:51.076751Z"
        },
        "trusted": true,
        "id": "e9oQv0HEzxwW",
        "colab": {
          "base_uri": "https://localhost:8080/"
        },
        "outputId": "de265607-97c5-4ef1-8f83-910a63ce2866"
      },
      "execution_count": 44,
      "outputs": [
        {
          "output_type": "stream",
          "name": "stdout",
          "text": [
            "Epoch 1/100\n",
            "111/117 [===========================>..] - ETA: 0s - loss: 0.4864 - accuracy: 0.8376"
          ]
        },
        {
          "output_type": "stream",
          "name": "stderr",
          "text": [
            "WARNING:tensorflow:Early stopping conditioned on metric `val_loss` which is not available. Available metrics are: loss,accuracy\n"
          ]
        },
        {
          "output_type": "stream",
          "name": "stdout",
          "text": [
            "\b\b\b\b\b\b\b\b\b\b\b\b\b\b\b\b\b\b\b\b\b\b\b\b\b\b\b\b\b\b\b\b\b\b\b\b\b\b\b\b\b\b\b\b\b\b\b\b\b\b\b\b\b\b\b\b\b\b\b\b\b\b\b\b\b\b\b\b\b\b\b\b\b\b\b\b\b\b\b\b\b\b\b\b\r117/117 [==============================] - 4s 5ms/step - loss: 0.4798 - accuracy: 0.8377\n",
            "Epoch 2/100\n",
            "111/117 [===========================>..] - ETA: 0s - loss: 0.2591 - accuracy: 0.8781"
          ]
        },
        {
          "output_type": "stream",
          "name": "stderr",
          "text": [
            "WARNING:tensorflow:Early stopping conditioned on metric `val_loss` which is not available. Available metrics are: loss,accuracy\n"
          ]
        },
        {
          "output_type": "stream",
          "name": "stdout",
          "text": [
            "\b\b\b\b\b\b\b\b\b\b\b\b\b\b\b\b\b\b\b\b\b\b\b\b\b\b\b\b\b\b\b\b\b\b\b\b\b\b\b\b\b\b\b\b\b\b\b\b\b\b\b\b\b\b\b\b\b\b\b\b\b\b\b\b\b\b\b\b\b\b\b\b\b\b\b\b\b\b\b\b\b\b\b\b\r117/117 [==============================] - 1s 5ms/step - loss: 0.2575 - accuracy: 0.8795\n",
            "Epoch 3/100\n",
            "115/117 [============================>.] - ETA: 0s - loss: 0.2110 - accuracy: 0.9057"
          ]
        },
        {
          "output_type": "stream",
          "name": "stderr",
          "text": [
            "WARNING:tensorflow:Early stopping conditioned on metric `val_loss` which is not available. Available metrics are: loss,accuracy\n"
          ]
        },
        {
          "output_type": "stream",
          "name": "stdout",
          "text": [
            "\b\b\b\b\b\b\b\b\b\b\b\b\b\b\b\b\b\b\b\b\b\b\b\b\b\b\b\b\b\b\b\b\b\b\b\b\b\b\b\b\b\b\b\b\b\b\b\b\b\b\b\b\b\b\b\b\b\b\b\b\b\b\b\b\b\b\b\b\b\b\b\b\b\b\b\b\b\b\b\b\b\b\b\b\r117/117 [==============================] - 1s 5ms/step - loss: 0.2114 - accuracy: 0.9056\n",
            "Epoch 4/100\n",
            "112/117 [===========================>..] - ETA: 0s - loss: 0.1858 - accuracy: 0.9194"
          ]
        },
        {
          "output_type": "stream",
          "name": "stderr",
          "text": [
            "WARNING:tensorflow:Early stopping conditioned on metric `val_loss` which is not available. Available metrics are: loss,accuracy\n"
          ]
        },
        {
          "output_type": "stream",
          "name": "stdout",
          "text": [
            "\b\b\b\b\b\b\b\b\b\b\b\b\b\b\b\b\b\b\b\b\b\b\b\b\b\b\b\b\b\b\b\b\b\b\b\b\b\b\b\b\b\b\b\b\b\b\b\b\b\b\b\b\b\b\b\b\b\b\b\b\b\b\b\b\b\b\b\b\b\b\b\b\b\b\b\b\b\b\b\b\b\b\b\b\r117/117 [==============================] - 1s 6ms/step - loss: 0.1857 - accuracy: 0.9190\n",
            "Epoch 5/100\n",
            "111/117 [===========================>..] - ETA: 0s - loss: 0.1755 - accuracy: 0.9291"
          ]
        },
        {
          "output_type": "stream",
          "name": "stderr",
          "text": [
            "WARNING:tensorflow:Early stopping conditioned on metric `val_loss` which is not available. Available metrics are: loss,accuracy\n"
          ]
        },
        {
          "output_type": "stream",
          "name": "stdout",
          "text": [
            "\b\b\b\b\b\b\b\b\b\b\b\b\b\b\b\b\b\b\b\b\b\b\b\b\b\b\b\b\b\b\b\b\b\b\b\b\b\b\b\b\b\b\b\b\b\b\b\b\b\b\b\b\b\b\b\b\b\b\b\b\b\b\b\b\b\b\b\b\b\b\b\b\b\b\b\b\b\b\b\b\b\b\b\b\r117/117 [==============================] - 1s 6ms/step - loss: 0.1758 - accuracy: 0.9273\n",
            "Epoch 6/100\n",
            "114/117 [============================>.] - ETA: 0s - loss: 0.1660 - accuracy: 0.9361"
          ]
        },
        {
          "output_type": "stream",
          "name": "stderr",
          "text": [
            "WARNING:tensorflow:Early stopping conditioned on metric `val_loss` which is not available. Available metrics are: loss,accuracy\n"
          ]
        },
        {
          "output_type": "stream",
          "name": "stdout",
          "text": [
            "\b\b\b\b\b\b\b\b\b\b\b\b\b\b\b\b\b\b\b\b\b\b\b\b\b\b\b\b\b\b\b\b\b\b\b\b\b\b\b\b\b\b\b\b\b\b\b\b\b\b\b\b\b\b\b\b\b\b\b\b\b\b\b\b\b\b\b\b\b\b\b\b\b\b\b\b\b\b\b\b\b\b\b\b\r117/117 [==============================] - 1s 7ms/step - loss: 0.1656 - accuracy: 0.9364\n",
            "Epoch 7/100\n",
            "116/117 [============================>.] - ETA: 0s - loss: 0.1611 - accuracy: 0.9345"
          ]
        },
        {
          "output_type": "stream",
          "name": "stderr",
          "text": [
            "WARNING:tensorflow:Early stopping conditioned on metric `val_loss` which is not available. Available metrics are: loss,accuracy\n"
          ]
        },
        {
          "output_type": "stream",
          "name": "stdout",
          "text": [
            "\b\b\b\b\b\b\b\b\b\b\b\b\b\b\b\b\b\b\b\b\b\b\b\b\b\b\b\b\b\b\b\b\b\b\b\b\b\b\b\b\b\b\b\b\b\b\b\b\b\b\b\b\b\b\b\b\b\b\b\b\b\b\b\b\b\b\b\b\b\b\b\b\b\b\b\b\b\b\b\b\b\b\b\b\r117/117 [==============================] - 1s 6ms/step - loss: 0.1607 - accuracy: 0.9345\n",
            "Epoch 8/100\n",
            "113/117 [===========================>..] - ETA: 0s - loss: 0.1608 - accuracy: 0.9403"
          ]
        },
        {
          "output_type": "stream",
          "name": "stderr",
          "text": [
            "WARNING:tensorflow:Early stopping conditioned on metric `val_loss` which is not available. Available metrics are: loss,accuracy\n"
          ]
        },
        {
          "output_type": "stream",
          "name": "stdout",
          "text": [
            "\b\b\b\b\b\b\b\b\b\b\b\b\b\b\b\b\b\b\b\b\b\b\b\b\b\b\b\b\b\b\b\b\b\b\b\b\b\b\b\b\b\b\b\b\b\b\b\b\b\b\b\b\b\b\b\b\b\b\b\b\b\b\b\b\b\b\b\b\b\b\b\b\b\b\b\b\b\b\b\b\b\b\b\b\r117/117 [==============================] - 1s 5ms/step - loss: 0.1604 - accuracy: 0.9404\n",
            "Epoch 9/100\n",
            "112/117 [===========================>..] - ETA: 0s - loss: 0.1542 - accuracy: 0.9408"
          ]
        },
        {
          "output_type": "stream",
          "name": "stderr",
          "text": [
            "WARNING:tensorflow:Early stopping conditioned on metric `val_loss` which is not available. Available metrics are: loss,accuracy\n"
          ]
        },
        {
          "output_type": "stream",
          "name": "stdout",
          "text": [
            "\b\b\b\b\b\b\b\b\b\b\b\b\b\b\b\b\b\b\b\b\b\b\b\b\b\b\b\b\b\b\b\b\b\b\b\b\b\b\b\b\b\b\b\b\b\b\b\b\b\b\b\b\b\b\b\b\b\b\b\b\b\b\b\b\b\b\b\b\b\b\b\b\b\b\b\b\b\b\b\b\b\b\b\b\r117/117 [==============================] - 1s 5ms/step - loss: 0.1572 - accuracy: 0.9399\n",
            "Epoch 10/100\n",
            "112/117 [===========================>..] - ETA: 0s - loss: 0.1523 - accuracy: 0.9450"
          ]
        },
        {
          "output_type": "stream",
          "name": "stderr",
          "text": [
            "WARNING:tensorflow:Early stopping conditioned on metric `val_loss` which is not available. Available metrics are: loss,accuracy\n"
          ]
        },
        {
          "output_type": "stream",
          "name": "stdout",
          "text": [
            "\b\b\b\b\b\b\b\b\b\b\b\b\b\b\b\b\b\b\b\b\b\b\b\b\b\b\b\b\b\b\b\b\b\b\b\b\b\b\b\b\b\b\b\b\b\b\b\b\b\b\b\b\b\b\b\b\b\b\b\b\b\b\b\b\b\b\b\b\b\b\b\b\b\b\b\b\b\b\b\b\b\b\b\b\r117/117 [==============================] - 1s 5ms/step - loss: 0.1547 - accuracy: 0.9442\n",
            "Epoch 11/100\n",
            "114/117 [============================>.] - ETA: 0s - loss: 0.1540 - accuracy: 0.9408"
          ]
        },
        {
          "output_type": "stream",
          "name": "stderr",
          "text": [
            "WARNING:tensorflow:Early stopping conditioned on metric `val_loss` which is not available. Available metrics are: loss,accuracy\n"
          ]
        },
        {
          "output_type": "stream",
          "name": "stdout",
          "text": [
            "\b\b\b\b\b\b\b\b\b\b\b\b\b\b\b\b\b\b\b\b\b\b\b\b\b\b\b\b\b\b\b\b\b\b\b\b\b\b\b\b\b\b\b\b\b\b\b\b\b\b\b\b\b\b\b\b\b\b\b\b\b\b\b\b\b\b\b\b\b\b\b\b\b\b\b\b\b\b\b\b\b\b\b\b\r117/117 [==============================] - 1s 5ms/step - loss: 0.1524 - accuracy: 0.9412\n",
            "Epoch 12/100\n",
            "109/117 [==========================>...] - ETA: 0s - loss: 0.1548 - accuracy: 0.9429"
          ]
        },
        {
          "output_type": "stream",
          "name": "stderr",
          "text": [
            "WARNING:tensorflow:Early stopping conditioned on metric `val_loss` which is not available. Available metrics are: loss,accuracy\n"
          ]
        },
        {
          "output_type": "stream",
          "name": "stdout",
          "text": [
            "\b\b\b\b\b\b\b\b\b\b\b\b\b\b\b\b\b\b\b\b\b\b\b\b\b\b\b\b\b\b\b\b\b\b\b\b\b\b\b\b\b\b\b\b\b\b\b\b\b\b\b\b\b\b\b\b\b\b\b\b\b\b\b\b\b\b\b\b\b\b\b\b\b\b\b\b\b\b\b\b\b\b\b\b\r117/117 [==============================] - 1s 5ms/step - loss: 0.1526 - accuracy: 0.9431\n",
            "Epoch 13/100\n",
            "116/117 [============================>.] - ETA: 0s - loss: 0.1500 - accuracy: 0.9423"
          ]
        },
        {
          "output_type": "stream",
          "name": "stderr",
          "text": [
            "WARNING:tensorflow:Early stopping conditioned on metric `val_loss` which is not available. Available metrics are: loss,accuracy\n"
          ]
        },
        {
          "output_type": "stream",
          "name": "stdout",
          "text": [
            "\b\b\b\b\b\b\b\b\b\b\b\b\b\b\b\b\b\b\b\b\b\b\b\b\b\b\b\b\b\b\b\b\b\b\b\b\b\b\b\b\b\b\b\b\b\b\b\b\b\b\b\b\b\b\b\b\b\b\b\b\b\b\b\b\b\b\b\b\b\b\b\b\b\b\b\b\b\b\b\b\b\b\b\b\r117/117 [==============================] - 1s 5ms/step - loss: 0.1498 - accuracy: 0.9426\n",
            "Epoch 14/100\n",
            "113/117 [===========================>..] - ETA: 0s - loss: 0.1498 - accuracy: 0.9422"
          ]
        },
        {
          "output_type": "stream",
          "name": "stderr",
          "text": [
            "WARNING:tensorflow:Early stopping conditioned on metric `val_loss` which is not available. Available metrics are: loss,accuracy\n"
          ]
        },
        {
          "output_type": "stream",
          "name": "stdout",
          "text": [
            "\b\b\b\b\b\b\b\b\b\b\b\b\b\b\b\b\b\b\b\b\b\b\b\b\b\b\b\b\b\b\b\b\b\b\b\b\b\b\b\b\b\b\b\b\b\b\b\b\b\b\b\b\b\b\b\b\b\b\b\b\b\b\b\b\b\b\b\b\b\b\b\b\b\b\b\b\b\b\b\b\b\b\b\b\r117/117 [==============================] - 1s 5ms/step - loss: 0.1478 - accuracy: 0.9434\n",
            "Epoch 15/100\n",
            "107/117 [==========================>...] - ETA: 0s - loss: 0.1482 - accuracy: 0.9430"
          ]
        },
        {
          "output_type": "stream",
          "name": "stderr",
          "text": [
            "WARNING:tensorflow:Early stopping conditioned on metric `val_loss` which is not available. Available metrics are: loss,accuracy\n"
          ]
        },
        {
          "output_type": "stream",
          "name": "stdout",
          "text": [
            "\b\b\b\b\b\b\b\b\b\b\b\b\b\b\b\b\b\b\b\b\b\b\b\b\b\b\b\b\b\b\b\b\b\b\b\b\b\b\b\b\b\b\b\b\b\b\b\b\b\b\b\b\b\b\b\b\b\b\b\b\b\b\b\b\b\b\b\b\b\b\b\b\b\b\b\b\b\b\b\b\b\b\b\b\r117/117 [==============================] - 1s 5ms/step - loss: 0.1467 - accuracy: 0.9439\n",
            "Epoch 16/100\n",
            "110/117 [===========================>..] - ETA: 0s - loss: 0.1467 - accuracy: 0.9412"
          ]
        },
        {
          "output_type": "stream",
          "name": "stderr",
          "text": [
            "WARNING:tensorflow:Early stopping conditioned on metric `val_loss` which is not available. Available metrics are: loss,accuracy\n"
          ]
        },
        {
          "output_type": "stream",
          "name": "stdout",
          "text": [
            "\b\b\b\b\b\b\b\b\b\b\b\b\b\b\b\b\b\b\b\b\b\b\b\b\b\b\b\b\b\b\b\b\b\b\b\b\b\b\b\b\b\b\b\b\b\b\b\b\b\b\b\b\b\b\b\b\b\b\b\b\b\b\b\b\b\b\b\b\b\b\b\b\b\b\b\b\b\b\b\b\b\b\b\b\r117/117 [==============================] - 1s 5ms/step - loss: 0.1437 - accuracy: 0.9428\n",
            "Epoch 17/100\n",
            "116/117 [============================>.] - ETA: 0s - loss: 0.1399 - accuracy: 0.9485"
          ]
        },
        {
          "output_type": "stream",
          "name": "stderr",
          "text": [
            "WARNING:tensorflow:Early stopping conditioned on metric `val_loss` which is not available. Available metrics are: loss,accuracy\n"
          ]
        },
        {
          "output_type": "stream",
          "name": "stdout",
          "text": [
            "\b\b\b\b\b\b\b\b\b\b\b\b\b\b\b\b\b\b\b\b\b\b\b\b\b\b\b\b\b\b\b\b\b\b\b\b\b\b\b\b\b\b\b\b\b\b\b\b\b\b\b\b\b\b\b\b\b\b\b\b\b\b\b\b\b\b\b\b\b\b\b\b\b\b\b\b\b\b\b\b\b\b\b\b\r117/117 [==============================] - 0s 4ms/step - loss: 0.1397 - accuracy: 0.9485\n",
            "Epoch 18/100\n",
            "113/117 [===========================>..] - ETA: 0s - loss: 0.1389 - accuracy: 0.9463"
          ]
        },
        {
          "output_type": "stream",
          "name": "stderr",
          "text": [
            "WARNING:tensorflow:Early stopping conditioned on metric `val_loss` which is not available. Available metrics are: loss,accuracy\n"
          ]
        },
        {
          "output_type": "stream",
          "name": "stdout",
          "text": [
            "\b\b\b\b\b\b\b\b\b\b\b\b\b\b\b\b\b\b\b\b\b\b\b\b\b\b\b\b\b\b\b\b\b\b\b\b\b\b\b\b\b\b\b\b\b\b\b\b\b\b\b\b\b\b\b\b\b\b\b\b\b\b\b\b\b\b\b\b\b\b\b\b\b\b\b\b\b\b\b\b\b\b\b\b\r117/117 [==============================] - 1s 5ms/step - loss: 0.1399 - accuracy: 0.9463\n",
            "Epoch 19/100\n",
            "108/117 [==========================>...] - ETA: 0s - loss: 0.1382 - accuracy: 0.9491"
          ]
        },
        {
          "output_type": "stream",
          "name": "stderr",
          "text": [
            "WARNING:tensorflow:Early stopping conditioned on metric `val_loss` which is not available. Available metrics are: loss,accuracy\n"
          ]
        },
        {
          "output_type": "stream",
          "name": "stdout",
          "text": [
            "\b\b\b\b\b\b\b\b\b\b\b\b\b\b\b\b\b\b\b\b\b\b\b\b\b\b\b\b\b\b\b\b\b\b\b\b\b\b\b\b\b\b\b\b\b\b\b\b\b\b\b\b\b\b\b\b\b\b\b\b\b\b\b\b\b\b\b\b\b\b\b\b\b\b\b\b\b\b\b\b\b\b\b\b\r117/117 [==============================] - 1s 5ms/step - loss: 0.1358 - accuracy: 0.9493\n",
            "Epoch 20/100\n",
            "112/117 [===========================>..] - ETA: 0s - loss: 0.1330 - accuracy: 0.9501"
          ]
        },
        {
          "output_type": "stream",
          "name": "stderr",
          "text": [
            "WARNING:tensorflow:Early stopping conditioned on metric `val_loss` which is not available. Available metrics are: loss,accuracy\n"
          ]
        },
        {
          "output_type": "stream",
          "name": "stdout",
          "text": [
            "\b\b\b\b\b\b\b\b\b\b\b\b\b\b\b\b\b\b\b\b\b\b\b\b\b\b\b\b\b\b\b\b\b\b\b\b\b\b\b\b\b\b\b\b\b\b\b\b\b\b\b\b\b\b\b\b\b\b\b\b\b\b\b\b\b\b\b\b\b\b\b\b\b\b\b\b\b\b\b\b\b\b\b\b\r117/117 [==============================] - 1s 5ms/step - loss: 0.1333 - accuracy: 0.9504\n",
            "Epoch 21/100\n",
            "115/117 [============================>.] - ETA: 0s - loss: 0.1307 - accuracy: 0.9500"
          ]
        },
        {
          "output_type": "stream",
          "name": "stderr",
          "text": [
            "WARNING:tensorflow:Early stopping conditioned on metric `val_loss` which is not available. Available metrics are: loss,accuracy\n"
          ]
        },
        {
          "output_type": "stream",
          "name": "stdout",
          "text": [
            "\b\b\b\b\b\b\b\b\b\b\b\b\b\b\b\b\b\b\b\b\b\b\b\b\b\b\b\b\b\b\b\b\b\b\b\b\b\b\b\b\b\b\b\b\b\b\b\b\b\b\b\b\b\b\b\b\b\b\b\b\b\b\b\b\b\b\b\b\b\b\b\b\b\b\b\b\b\b\b\b\b\b\b\b\r117/117 [==============================] - 1s 5ms/step - loss: 0.1302 - accuracy: 0.9501\n",
            "Epoch 22/100\n",
            "111/117 [===========================>..] - ETA: 0s - loss: 0.1312 - accuracy: 0.9496"
          ]
        },
        {
          "output_type": "stream",
          "name": "stderr",
          "text": [
            "WARNING:tensorflow:Early stopping conditioned on metric `val_loss` which is not available. Available metrics are: loss,accuracy\n"
          ]
        },
        {
          "output_type": "stream",
          "name": "stdout",
          "text": [
            "\b\b\b\b\b\b\b\b\b\b\b\b\b\b\b\b\b\b\b\b\b\b\b\b\b\b\b\b\b\b\b\b\b\b\b\b\b\b\b\b\b\b\b\b\b\b\b\b\b\b\b\b\b\b\b\b\b\b\b\b\b\b\b\b\b\b\b\b\b\b\b\b\b\b\b\b\b\b\b\b\b\b\b\b\r117/117 [==============================] - 1s 4ms/step - loss: 0.1305 - accuracy: 0.9493\n",
            "Epoch 23/100\n",
            "111/117 [===========================>..] - ETA: 0s - loss: 0.1266 - accuracy: 0.9527"
          ]
        },
        {
          "output_type": "stream",
          "name": "stderr",
          "text": [
            "WARNING:tensorflow:Early stopping conditioned on metric `val_loss` which is not available. Available metrics are: loss,accuracy\n"
          ]
        },
        {
          "output_type": "stream",
          "name": "stdout",
          "text": [
            "\b\b\b\b\b\b\b\b\b\b\b\b\b\b\b\b\b\b\b\b\b\b\b\b\b\b\b\b\b\b\b\b\b\b\b\b\b\b\b\b\b\b\b\b\b\b\b\b\b\b\b\b\b\b\b\b\b\b\b\b\b\b\b\b\b\b\b\b\b\b\b\b\b\b\b\b\b\b\b\b\b\b\b\b\r117/117 [==============================] - 1s 4ms/step - loss: 0.1296 - accuracy: 0.9514\n",
            "Epoch 24/100\n",
            "117/117 [==============================] - ETA: 0s - loss: 0.1233 - accuracy: 0.9549"
          ]
        },
        {
          "output_type": "stream",
          "name": "stderr",
          "text": [
            "WARNING:tensorflow:Early stopping conditioned on metric `val_loss` which is not available. Available metrics are: loss,accuracy\n"
          ]
        },
        {
          "output_type": "stream",
          "name": "stdout",
          "text": [
            "\b\b\b\b\b\b\b\b\b\b\b\b\b\b\b\b\b\b\b\b\b\b\b\b\b\b\b\b\b\b\b\b\b\b\b\b\b\b\b\b\b\b\b\b\b\b\b\b\b\b\b\b\b\b\b\b\b\b\b\b\b\b\b\b\b\b\b\b\b\b\b\b\b\b\b\b\b\b\b\b\b\b\b\b\r117/117 [==============================] - 1s 5ms/step - loss: 0.1233 - accuracy: 0.9549\n",
            "Epoch 25/100\n",
            "116/117 [============================>.] - ETA: 0s - loss: 0.1211 - accuracy: 0.9526"
          ]
        },
        {
          "output_type": "stream",
          "name": "stderr",
          "text": [
            "WARNING:tensorflow:Early stopping conditioned on metric `val_loss` which is not available. Available metrics are: loss,accuracy\n"
          ]
        },
        {
          "output_type": "stream",
          "name": "stdout",
          "text": [
            "\b\b\b\b\b\b\b\b\b\b\b\b\b\b\b\b\b\b\b\b\b\b\b\b\b\b\b\b\b\b\b\b\b\b\b\b\b\b\b\b\b\b\b\b\b\b\b\b\b\b\b\b\b\b\b\b\b\b\b\b\b\b\b\b\b\b\b\b\b\b\b\b\b\b\b\b\b\b\b\b\b\b\b\b\r117/117 [==============================] - 1s 7ms/step - loss: 0.1211 - accuracy: 0.9522\n",
            "Epoch 26/100\n",
            "113/117 [===========================>..] - ETA: 0s - loss: 0.1184 - accuracy: 0.9549"
          ]
        },
        {
          "output_type": "stream",
          "name": "stderr",
          "text": [
            "WARNING:tensorflow:Early stopping conditioned on metric `val_loss` which is not available. Available metrics are: loss,accuracy\n"
          ]
        },
        {
          "output_type": "stream",
          "name": "stdout",
          "text": [
            "\b\b\b\b\b\b\b\b\b\b\b\b\b\b\b\b\b\b\b\b\b\b\b\b\b\b\b\b\b\b\b\b\b\b\b\b\b\b\b\b\b\b\b\b\b\b\b\b\b\b\b\b\b\b\b\b\b\b\b\b\b\b\b\b\b\b\b\b\b\b\b\b\b\b\b\b\b\b\b\b\b\b\b\b\r117/117 [==============================] - 1s 6ms/step - loss: 0.1187 - accuracy: 0.9544\n",
            "Epoch 27/100\n",
            "114/117 [============================>.] - ETA: 0s - loss: 0.1132 - accuracy: 0.9567"
          ]
        },
        {
          "output_type": "stream",
          "name": "stderr",
          "text": [
            "WARNING:tensorflow:Early stopping conditioned on metric `val_loss` which is not available. Available metrics are: loss,accuracy\n"
          ]
        },
        {
          "output_type": "stream",
          "name": "stdout",
          "text": [
            "\b\b\b\b\b\b\b\b\b\b\b\b\b\b\b\b\b\b\b\b\b\b\b\b\b\b\b\b\b\b\b\b\b\b\b\b\b\b\b\b\b\b\b\b\b\b\b\b\b\b\b\b\b\b\b\b\b\b\b\b\b\b\b\b\b\b\b\b\b\b\b\b\b\b\b\b\b\b\b\b\b\b\b\b\r117/117 [==============================] - 1s 7ms/step - loss: 0.1138 - accuracy: 0.9565\n",
            "Epoch 28/100\n",
            "110/117 [===========================>..] - ETA: 0s - loss: 0.1132 - accuracy: 0.9557"
          ]
        },
        {
          "output_type": "stream",
          "name": "stderr",
          "text": [
            "WARNING:tensorflow:Early stopping conditioned on metric `val_loss` which is not available. Available metrics are: loss,accuracy\n"
          ]
        },
        {
          "output_type": "stream",
          "name": "stdout",
          "text": [
            "\b\b\b\b\b\b\b\b\b\b\b\b\b\b\b\b\b\b\b\b\b\b\b\b\b\b\b\b\b\b\b\b\b\b\b\b\b\b\b\b\b\b\b\b\b\b\b\b\b\b\b\b\b\b\b\b\b\b\b\b\b\b\b\b\b\b\b\b\b\b\b\b\b\b\b\b\b\b\b\b\b\b\b\b\r117/117 [==============================] - 1s 5ms/step - loss: 0.1136 - accuracy: 0.9555\n",
            "Epoch 29/100\n",
            "109/117 [==========================>...] - ETA: 0s - loss: 0.1107 - accuracy: 0.9570"
          ]
        },
        {
          "output_type": "stream",
          "name": "stderr",
          "text": [
            "WARNING:tensorflow:Early stopping conditioned on metric `val_loss` which is not available. Available metrics are: loss,accuracy\n"
          ]
        },
        {
          "output_type": "stream",
          "name": "stdout",
          "text": [
            "\b\b\b\b\b\b\b\b\b\b\b\b\b\b\b\b\b\b\b\b\b\b\b\b\b\b\b\b\b\b\b\b\b\b\b\b\b\b\b\b\b\b\b\b\b\b\b\b\b\b\b\b\b\b\b\b\b\b\b\b\b\b\b\b\b\b\b\b\b\b\b\b\b\b\b\b\b\b\b\b\b\b\b\b\r117/117 [==============================] - 1s 5ms/step - loss: 0.1130 - accuracy: 0.9565\n",
            "Epoch 30/100\n",
            "115/117 [============================>.] - ETA: 0s - loss: 0.1089 - accuracy: 0.9573"
          ]
        },
        {
          "output_type": "stream",
          "name": "stderr",
          "text": [
            "WARNING:tensorflow:Early stopping conditioned on metric `val_loss` which is not available. Available metrics are: loss,accuracy\n"
          ]
        },
        {
          "output_type": "stream",
          "name": "stdout",
          "text": [
            "\b\b\b\b\b\b\b\b\b\b\b\b\b\b\b\b\b\b\b\b\b\b\b\b\b\b\b\b\b\b\b\b\b\b\b\b\b\b\b\b\b\b\b\b\b\b\b\b\b\b\b\b\b\b\b\b\b\b\b\b\b\b\b\b\b\b\b\b\b\b\b\b\b\b\b\b\b\b\b\b\b\b\b\b\r117/117 [==============================] - 1s 5ms/step - loss: 0.1095 - accuracy: 0.9565\n",
            "Epoch 31/100\n",
            "110/117 [===========================>..] - ETA: 0s - loss: 0.1168 - accuracy: 0.9528"
          ]
        },
        {
          "output_type": "stream",
          "name": "stderr",
          "text": [
            "WARNING:tensorflow:Early stopping conditioned on metric `val_loss` which is not available. Available metrics are: loss,accuracy\n"
          ]
        },
        {
          "output_type": "stream",
          "name": "stdout",
          "text": [
            "\b\b\b\b\b\b\b\b\b\b\b\b\b\b\b\b\b\b\b\b\b\b\b\b\b\b\b\b\b\b\b\b\b\b\b\b\b\b\b\b\b\b\b\b\b\b\b\b\b\b\b\b\b\b\b\b\b\b\b\b\b\b\b\b\b\b\b\b\b\b\b\b\b\b\b\b\b\b\b\b\b\b\b\b\r117/117 [==============================] - 1s 5ms/step - loss: 0.1141 - accuracy: 0.9536\n",
            "Epoch 32/100\n",
            "108/117 [==========================>...] - ETA: 0s - loss: 0.1062 - accuracy: 0.9618"
          ]
        },
        {
          "output_type": "stream",
          "name": "stderr",
          "text": [
            "WARNING:tensorflow:Early stopping conditioned on metric `val_loss` which is not available. Available metrics are: loss,accuracy\n"
          ]
        },
        {
          "output_type": "stream",
          "name": "stdout",
          "text": [
            "\b\b\b\b\b\b\b\b\b\b\b\b\b\b\b\b\b\b\b\b\b\b\b\b\b\b\b\b\b\b\b\b\b\b\b\b\b\b\b\b\b\b\b\b\b\b\b\b\b\b\b\b\b\b\b\b\b\b\b\b\b\b\b\b\b\b\b\b\b\b\b\b\b\b\b\b\b\b\b\b\b\b\b\b\r117/117 [==============================] - 1s 4ms/step - loss: 0.1053 - accuracy: 0.9614\n",
            "Epoch 33/100\n",
            "117/117 [==============================] - ETA: 0s - loss: 0.1054 - accuracy: 0.9600"
          ]
        },
        {
          "output_type": "stream",
          "name": "stderr",
          "text": [
            "WARNING:tensorflow:Early stopping conditioned on metric `val_loss` which is not available. Available metrics are: loss,accuracy\n"
          ]
        },
        {
          "output_type": "stream",
          "name": "stdout",
          "text": [
            "\b\b\b\b\b\b\b\b\b\b\b\b\b\b\b\b\b\b\b\b\b\b\b\b\b\b\b\b\b\b\b\b\b\b\b\b\b\b\b\b\b\b\b\b\b\b\b\b\b\b\b\b\b\b\b\b\b\b\b\b\b\b\b\b\b\b\b\b\b\b\b\b\b\b\b\b\b\b\b\b\b\b\b\b\r117/117 [==============================] - 1s 5ms/step - loss: 0.1054 - accuracy: 0.9600\n",
            "Epoch 34/100\n",
            "111/117 [===========================>..] - ETA: 0s - loss: 0.1029 - accuracy: 0.9600"
          ]
        },
        {
          "output_type": "stream",
          "name": "stderr",
          "text": [
            "WARNING:tensorflow:Early stopping conditioned on metric `val_loss` which is not available. Available metrics are: loss,accuracy\n"
          ]
        },
        {
          "output_type": "stream",
          "name": "stdout",
          "text": [
            "\b\b\b\b\b\b\b\b\b\b\b\b\b\b\b\b\b\b\b\b\b\b\b\b\b\b\b\b\b\b\b\b\b\b\b\b\b\b\b\b\b\b\b\b\b\b\b\b\b\b\b\b\b\b\b\b\b\b\b\b\b\b\b\b\b\b\b\b\b\b\b\b\b\b\b\b\b\b\b\b\b\b\b\b\r117/117 [==============================] - 1s 4ms/step - loss: 0.1044 - accuracy: 0.9592\n",
            "Epoch 35/100\n",
            "112/117 [===========================>..] - ETA: 0s - loss: 0.1026 - accuracy: 0.9601"
          ]
        },
        {
          "output_type": "stream",
          "name": "stderr",
          "text": [
            "WARNING:tensorflow:Early stopping conditioned on metric `val_loss` which is not available. Available metrics are: loss,accuracy\n"
          ]
        },
        {
          "output_type": "stream",
          "name": "stdout",
          "text": [
            "\b\b\b\b\b\b\b\b\b\b\b\b\b\b\b\b\b\b\b\b\b\b\b\b\b\b\b\b\b\b\b\b\b\b\b\b\b\b\b\b\b\b\b\b\b\b\b\b\b\b\b\b\b\b\b\b\b\b\b\b\b\b\b\b\b\b\b\b\b\b\b\b\b\b\b\b\b\b\b\b\b\b\b\b\r117/117 [==============================] - 1s 5ms/step - loss: 0.1017 - accuracy: 0.9608\n",
            "Epoch 36/100\n",
            "113/117 [===========================>..] - ETA: 0s - loss: 0.1032 - accuracy: 0.9607"
          ]
        },
        {
          "output_type": "stream",
          "name": "stderr",
          "text": [
            "WARNING:tensorflow:Early stopping conditioned on metric `val_loss` which is not available. Available metrics are: loss,accuracy\n"
          ]
        },
        {
          "output_type": "stream",
          "name": "stdout",
          "text": [
            "\b\b\b\b\b\b\b\b\b\b\b\b\b\b\b\b\b\b\b\b\b\b\b\b\b\b\b\b\b\b\b\b\b\b\b\b\b\b\b\b\b\b\b\b\b\b\b\b\b\b\b\b\b\b\b\b\b\b\b\b\b\b\b\b\b\b\b\b\b\b\b\b\b\b\b\b\b\b\b\b\b\b\b\b\r117/117 [==============================] - 1s 7ms/step - loss: 0.1031 - accuracy: 0.9603\n",
            "Epoch 37/100\n",
            "117/117 [==============================] - ETA: 0s - loss: 0.1013 - accuracy: 0.9622"
          ]
        },
        {
          "output_type": "stream",
          "name": "stderr",
          "text": [
            "WARNING:tensorflow:Early stopping conditioned on metric `val_loss` which is not available. Available metrics are: loss,accuracy\n"
          ]
        },
        {
          "output_type": "stream",
          "name": "stdout",
          "text": [
            "\b\b\b\b\b\b\b\b\b\b\b\b\b\b\b\b\b\b\b\b\b\b\b\b\b\b\b\b\b\b\b\b\b\b\b\b\b\b\b\b\b\b\b\b\b\b\b\b\b\b\b\b\b\b\b\b\b\b\b\b\b\b\b\b\b\b\b\b\b\b\b\b\b\b\b\b\b\b\b\b\b\b\b\b\r117/117 [==============================] - 1s 7ms/step - loss: 0.1013 - accuracy: 0.9622\n",
            "Epoch 38/100\n",
            "113/117 [===========================>..] - ETA: 0s - loss: 0.1029 - accuracy: 0.9613"
          ]
        },
        {
          "output_type": "stream",
          "name": "stderr",
          "text": [
            "WARNING:tensorflow:Early stopping conditioned on metric `val_loss` which is not available. Available metrics are: loss,accuracy\n"
          ]
        },
        {
          "output_type": "stream",
          "name": "stdout",
          "text": [
            "\b\b\b\b\b\b\b\b\b\b\b\b\b\b\b\b\b\b\b\b\b\b\b\b\b\b\b\b\b\b\b\b\b\b\b\b\b\b\b\b\b\b\b\b\b\b\b\b\b\b\b\b\b\b\b\b\b\b\b\b\b\b\b\b\b\b\b\b\b\b\b\b\b\b\b\b\b\b\b\b\b\b\b\b\r117/117 [==============================] - 1s 6ms/step - loss: 0.1013 - accuracy: 0.9622\n",
            "Epoch 39/100\n",
            "107/117 [==========================>...] - ETA: 0s - loss: 0.1008 - accuracy: 0.9609"
          ]
        },
        {
          "output_type": "stream",
          "name": "stderr",
          "text": [
            "WARNING:tensorflow:Early stopping conditioned on metric `val_loss` which is not available. Available metrics are: loss,accuracy\n"
          ]
        },
        {
          "output_type": "stream",
          "name": "stdout",
          "text": [
            "\b\b\b\b\b\b\b\b\b\b\b\b\b\b\b\b\b\b\b\b\b\b\b\b\b\b\b\b\b\b\b\b\b\b\b\b\b\b\b\b\b\b\b\b\b\b\b\b\b\b\b\b\b\b\b\b\b\b\b\b\b\b\b\b\b\b\b\b\b\b\b\b\b\b\b\b\b\b\b\b\b\b\b\b\r117/117 [==============================] - 1s 5ms/step - loss: 0.0988 - accuracy: 0.9616\n",
            "Epoch 40/100\n",
            "108/117 [==========================>...] - ETA: 0s - loss: 0.0969 - accuracy: 0.9621"
          ]
        },
        {
          "output_type": "stream",
          "name": "stderr",
          "text": [
            "WARNING:tensorflow:Early stopping conditioned on metric `val_loss` which is not available. Available metrics are: loss,accuracy\n"
          ]
        },
        {
          "output_type": "stream",
          "name": "stdout",
          "text": [
            "\b\b\b\b\b\b\b\b\b\b\b\b\b\b\b\b\b\b\b\b\b\b\b\b\b\b\b\b\b\b\b\b\b\b\b\b\b\b\b\b\b\b\b\b\b\b\b\b\b\b\b\b\b\b\b\b\b\b\b\b\b\b\b\b\b\b\b\b\b\b\b\b\b\b\b\b\b\b\b\b\b\b\b\b\r117/117 [==============================] - 1s 5ms/step - loss: 0.0964 - accuracy: 0.9632\n",
            "Epoch 41/100\n",
            "109/117 [==========================>...] - ETA: 0s - loss: 0.0969 - accuracy: 0.9633"
          ]
        },
        {
          "output_type": "stream",
          "name": "stderr",
          "text": [
            "WARNING:tensorflow:Early stopping conditioned on metric `val_loss` which is not available. Available metrics are: loss,accuracy\n"
          ]
        },
        {
          "output_type": "stream",
          "name": "stdout",
          "text": [
            "\b\b\b\b\b\b\b\b\b\b\b\b\b\b\b\b\b\b\b\b\b\b\b\b\b\b\b\b\b\b\b\b\b\b\b\b\b\b\b\b\b\b\b\b\b\b\b\b\b\b\b\b\b\b\b\b\b\b\b\b\b\b\b\b\b\b\b\b\b\b\b\b\b\b\b\b\b\b\b\b\b\b\b\b\r117/117 [==============================] - 1s 5ms/step - loss: 0.0948 - accuracy: 0.9640\n",
            "Epoch 42/100\n",
            "117/117 [==============================] - ETA: 0s - loss: 0.0988 - accuracy: 0.9614"
          ]
        },
        {
          "output_type": "stream",
          "name": "stderr",
          "text": [
            "WARNING:tensorflow:Early stopping conditioned on metric `val_loss` which is not available. Available metrics are: loss,accuracy\n"
          ]
        },
        {
          "output_type": "stream",
          "name": "stdout",
          "text": [
            "\b\b\b\b\b\b\b\b\b\b\b\b\b\b\b\b\b\b\b\b\b\b\b\b\b\b\b\b\b\b\b\b\b\b\b\b\b\b\b\b\b\b\b\b\b\b\b\b\b\b\b\b\b\b\b\b\b\b\b\b\b\b\b\b\b\b\b\b\b\b\b\b\b\b\b\b\b\b\b\b\b\b\b\b\r117/117 [==============================] - 1s 5ms/step - loss: 0.0988 - accuracy: 0.9614\n",
            "Epoch 43/100\n",
            "114/117 [============================>.] - ETA: 0s - loss: 0.0937 - accuracy: 0.9619"
          ]
        },
        {
          "output_type": "stream",
          "name": "stderr",
          "text": [
            "WARNING:tensorflow:Early stopping conditioned on metric `val_loss` which is not available. Available metrics are: loss,accuracy\n"
          ]
        },
        {
          "output_type": "stream",
          "name": "stdout",
          "text": [
            "\b\b\b\b\b\b\b\b\b\b\b\b\b\b\b\b\b\b\b\b\b\b\b\b\b\b\b\b\b\b\b\b\b\b\b\b\b\b\b\b\b\b\b\b\b\b\b\b\b\b\b\b\b\b\b\b\b\b\b\b\b\b\b\b\b\b\b\b\b\b\b\b\b\b\b\b\b\b\b\b\b\b\b\b\r117/117 [==============================] - 1s 5ms/step - loss: 0.0938 - accuracy: 0.9619\n",
            "Epoch 44/100\n",
            "108/117 [==========================>...] - ETA: 0s - loss: 0.0865 - accuracy: 0.9661"
          ]
        },
        {
          "output_type": "stream",
          "name": "stderr",
          "text": [
            "WARNING:tensorflow:Early stopping conditioned on metric `val_loss` which is not available. Available metrics are: loss,accuracy\n"
          ]
        },
        {
          "output_type": "stream",
          "name": "stdout",
          "text": [
            "\b\b\b\b\b\b\b\b\b\b\b\b\b\b\b\b\b\b\b\b\b\b\b\b\b\b\b\b\b\b\b\b\b\b\b\b\b\b\b\b\b\b\b\b\b\b\b\b\b\b\b\b\b\b\b\b\b\b\b\b\b\b\b\b\b\b\b\b\b\b\b\b\b\b\b\b\b\b\b\b\b\b\b\b\r117/117 [==============================] - 1s 6ms/step - loss: 0.0916 - accuracy: 0.9643\n",
            "Epoch 45/100\n",
            "116/117 [============================>.] - ETA: 0s - loss: 0.0920 - accuracy: 0.9644"
          ]
        },
        {
          "output_type": "stream",
          "name": "stderr",
          "text": [
            "WARNING:tensorflow:Early stopping conditioned on metric `val_loss` which is not available. Available metrics are: loss,accuracy\n"
          ]
        },
        {
          "output_type": "stream",
          "name": "stdout",
          "text": [
            "\b\b\b\b\b\b\b\b\b\b\b\b\b\b\b\b\b\b\b\b\b\b\b\b\b\b\b\b\b\b\b\b\b\b\b\b\b\b\b\b\b\b\b\b\b\b\b\b\b\b\b\b\b\b\b\b\b\b\b\b\b\b\b\b\b\b\b\b\b\b\b\b\b\b\b\b\b\b\b\b\b\b\b\b\r117/117 [==============================] - 1s 6ms/step - loss: 0.0919 - accuracy: 0.9646\n",
            "Epoch 46/100\n",
            "114/117 [============================>.] - ETA: 0s - loss: 0.0923 - accuracy: 0.9655"
          ]
        },
        {
          "output_type": "stream",
          "name": "stderr",
          "text": [
            "WARNING:tensorflow:Early stopping conditioned on metric `val_loss` which is not available. Available metrics are: loss,accuracy\n"
          ]
        },
        {
          "output_type": "stream",
          "name": "stdout",
          "text": [
            "\b\b\b\b\b\b\b\b\b\b\b\b\b\b\b\b\b\b\b\b\b\b\b\b\b\b\b\b\b\b\b\b\b\b\b\b\b\b\b\b\b\b\b\b\b\b\b\b\b\b\b\b\b\b\b\b\b\b\b\b\b\b\b\b\b\b\b\b\b\b\b\b\b\b\b\b\b\b\b\b\b\b\b\b\r117/117 [==============================] - 1s 7ms/step - loss: 0.0934 - accuracy: 0.9651\n",
            "Epoch 47/100\n",
            "111/117 [===========================>..] - ETA: 0s - loss: 0.0907 - accuracy: 0.9631"
          ]
        },
        {
          "output_type": "stream",
          "name": "stderr",
          "text": [
            "WARNING:tensorflow:Early stopping conditioned on metric `val_loss` which is not available. Available metrics are: loss,accuracy\n"
          ]
        },
        {
          "output_type": "stream",
          "name": "stdout",
          "text": [
            "\b\b\b\b\b\b\b\b\b\b\b\b\b\b\b\b\b\b\b\b\b\b\b\b\b\b\b\b\b\b\b\b\b\b\b\b\b\b\b\b\b\b\b\b\b\b\b\b\b\b\b\b\b\b\b\b\b\b\b\b\b\b\b\b\b\b\b\b\b\b\b\b\b\b\b\b\b\b\b\b\b\b\b\b\r117/117 [==============================] - 0s 3ms/step - loss: 0.0924 - accuracy: 0.9624\n",
            "Epoch 48/100\n",
            "106/117 [==========================>...] - ETA: 0s - loss: 0.0903 - accuracy: 0.9658"
          ]
        },
        {
          "output_type": "stream",
          "name": "stderr",
          "text": [
            "WARNING:tensorflow:Early stopping conditioned on metric `val_loss` which is not available. Available metrics are: loss,accuracy\n"
          ]
        },
        {
          "output_type": "stream",
          "name": "stdout",
          "text": [
            "\b\b\b\b\b\b\b\b\b\b\b\b\b\b\b\b\b\b\b\b\b\b\b\b\b\b\b\b\b\b\b\b\b\b\b\b\b\b\b\b\b\b\b\b\b\b\b\b\b\b\b\b\b\b\b\b\b\b\b\b\b\b\b\b\b\b\b\b\b\b\b\b\b\b\b\b\b\b\b\b\b\b\b\b\r117/117 [==============================] - 0s 4ms/step - loss: 0.0879 - accuracy: 0.9662\n",
            "Epoch 49/100\n",
            "111/117 [===========================>..] - ETA: 0s - loss: 0.0912 - accuracy: 0.9657"
          ]
        },
        {
          "output_type": "stream",
          "name": "stderr",
          "text": [
            "WARNING:tensorflow:Early stopping conditioned on metric `val_loss` which is not available. Available metrics are: loss,accuracy\n"
          ]
        },
        {
          "output_type": "stream",
          "name": "stdout",
          "text": [
            "\b\b\b\b\b\b\b\b\b\b\b\b\b\b\b\b\b\b\b\b\b\b\b\b\b\b\b\b\b\b\b\b\b\b\b\b\b\b\b\b\b\b\b\b\b\b\b\b\b\b\b\b\b\b\b\b\b\b\b\b\b\b\b\b\b\b\b\b\b\b\b\b\b\b\b\b\b\b\b\b\b\b\b\b\r117/117 [==============================] - 0s 3ms/step - loss: 0.0914 - accuracy: 0.9651\n",
            "Epoch 50/100\n",
            "114/117 [============================>.] - ETA: 0s - loss: 0.0943 - accuracy: 0.9638"
          ]
        },
        {
          "output_type": "stream",
          "name": "stderr",
          "text": [
            "WARNING:tensorflow:Early stopping conditioned on metric `val_loss` which is not available. Available metrics are: loss,accuracy\n"
          ]
        },
        {
          "output_type": "stream",
          "name": "stdout",
          "text": [
            "\b\b\b\b\b\b\b\b\b\b\b\b\b\b\b\b\b\b\b\b\b\b\b\b\b\b\b\b\b\b\b\b\b\b\b\b\b\b\b\b\b\b\b\b\b\b\b\b\b\b\b\b\b\b\b\b\b\b\b\b\b\b\b\b\b\b\b\b\b\b\b\b\b\b\b\b\b\b\b\b\b\b\b\b\r117/117 [==============================] - 0s 4ms/step - loss: 0.0937 - accuracy: 0.9640\n",
            "Epoch 51/100\n",
            "110/117 [===========================>..] - ETA: 0s - loss: 0.0909 - accuracy: 0.9639"
          ]
        },
        {
          "output_type": "stream",
          "name": "stderr",
          "text": [
            "WARNING:tensorflow:Early stopping conditioned on metric `val_loss` which is not available. Available metrics are: loss,accuracy\n"
          ]
        },
        {
          "output_type": "stream",
          "name": "stdout",
          "text": [
            "\b\b\b\b\b\b\b\b\b\b\b\b\b\b\b\b\b\b\b\b\b\b\b\b\b\b\b\b\b\b\b\b\b\b\b\b\b\b\b\b\b\b\b\b\b\b\b\b\b\b\b\b\b\b\b\b\b\b\b\b\b\b\b\b\b\b\b\b\b\b\b\b\b\b\b\b\b\b\b\b\b\b\b\b\r117/117 [==============================] - 0s 4ms/step - loss: 0.0926 - accuracy: 0.9635\n",
            "Epoch 52/100\n",
            "115/117 [============================>.] - ETA: 0s - loss: 0.0881 - accuracy: 0.9658"
          ]
        },
        {
          "output_type": "stream",
          "name": "stderr",
          "text": [
            "WARNING:tensorflow:Early stopping conditioned on metric `val_loss` which is not available. Available metrics are: loss,accuracy\n"
          ]
        },
        {
          "output_type": "stream",
          "name": "stdout",
          "text": [
            "\b\b\b\b\b\b\b\b\b\b\b\b\b\b\b\b\b\b\b\b\b\b\b\b\b\b\b\b\b\b\b\b\b\b\b\b\b\b\b\b\b\b\b\b\b\b\b\b\b\b\b\b\b\b\b\b\b\b\b\b\b\b\b\b\b\b\b\b\b\b\b\b\b\b\b\b\b\b\b\b\b\b\b\b\r117/117 [==============================] - 0s 4ms/step - loss: 0.0873 - accuracy: 0.9662\n",
            "Epoch 53/100\n",
            "113/117 [===========================>..] - ETA: 0s - loss: 0.0879 - accuracy: 0.9665"
          ]
        },
        {
          "output_type": "stream",
          "name": "stderr",
          "text": [
            "WARNING:tensorflow:Early stopping conditioned on metric `val_loss` which is not available. Available metrics are: loss,accuracy\n"
          ]
        },
        {
          "output_type": "stream",
          "name": "stdout",
          "text": [
            "\b\b\b\b\b\b\b\b\b\b\b\b\b\b\b\b\b\b\b\b\b\b\b\b\b\b\b\b\b\b\b\b\b\b\b\b\b\b\b\b\b\b\b\b\b\b\b\b\b\b\b\b\b\b\b\b\b\b\b\b\b\b\b\b\b\b\b\b\b\b\b\b\b\b\b\b\b\b\b\b\b\b\b\b\r117/117 [==============================] - 0s 4ms/step - loss: 0.0877 - accuracy: 0.9662\n",
            "Epoch 54/100\n",
            "107/117 [==========================>...] - ETA: 0s - loss: 0.0882 - accuracy: 0.9655"
          ]
        },
        {
          "output_type": "stream",
          "name": "stderr",
          "text": [
            "WARNING:tensorflow:Early stopping conditioned on metric `val_loss` which is not available. Available metrics are: loss,accuracy\n"
          ]
        },
        {
          "output_type": "stream",
          "name": "stdout",
          "text": [
            "\b\b\b\b\b\b\b\b\b\b\b\b\b\b\b\b\b\b\b\b\b\b\b\b\b\b\b\b\b\b\b\b\b\b\b\b\b\b\b\b\b\b\b\b\b\b\b\b\b\b\b\b\b\b\b\b\b\b\b\b\b\b\b\b\b\b\b\b\b\b\b\b\b\b\b\b\b\b\b\b\b\b\b\b\r117/117 [==============================] - 0s 4ms/step - loss: 0.0878 - accuracy: 0.9654\n",
            "Epoch 55/100\n",
            "115/117 [============================>.] - ETA: 0s - loss: 0.0853 - accuracy: 0.9660"
          ]
        },
        {
          "output_type": "stream",
          "name": "stderr",
          "text": [
            "WARNING:tensorflow:Early stopping conditioned on metric `val_loss` which is not available. Available metrics are: loss,accuracy\n"
          ]
        },
        {
          "output_type": "stream",
          "name": "stdout",
          "text": [
            "\b\b\b\b\b\b\b\b\b\b\b\b\b\b\b\b\b\b\b\b\b\b\b\b\b\b\b\b\b\b\b\b\b\b\b\b\b\b\b\b\b\b\b\b\b\b\b\b\b\b\b\b\b\b\b\b\b\b\b\b\b\b\b\b\b\b\b\b\b\b\b\b\b\b\b\b\b\b\b\b\b\b\b\b\r117/117 [==============================] - 0s 4ms/step - loss: 0.0851 - accuracy: 0.9662\n",
            "Epoch 56/100\n",
            "105/117 [=========================>....] - ETA: 0s - loss: 0.0860 - accuracy: 0.9682"
          ]
        },
        {
          "output_type": "stream",
          "name": "stderr",
          "text": [
            "WARNING:tensorflow:Early stopping conditioned on metric `val_loss` which is not available. Available metrics are: loss,accuracy\n"
          ]
        },
        {
          "output_type": "stream",
          "name": "stdout",
          "text": [
            "\b\b\b\b\b\b\b\b\b\b\b\b\b\b\b\b\b\b\b\b\b\b\b\b\b\b\b\b\b\b\b\b\b\b\b\b\b\b\b\b\b\b\b\b\b\b\b\b\b\b\b\b\b\b\b\b\b\b\b\b\b\b\b\b\b\b\b\b\b\b\b\b\b\b\b\b\b\b\b\b\b\b\b\b\r117/117 [==============================] - 1s 4ms/step - loss: 0.0848 - accuracy: 0.9686\n",
            "Epoch 57/100\n",
            "116/117 [============================>.] - ETA: 0s - loss: 0.0829 - accuracy: 0.9677"
          ]
        },
        {
          "output_type": "stream",
          "name": "stderr",
          "text": [
            "WARNING:tensorflow:Early stopping conditioned on metric `val_loss` which is not available. Available metrics are: loss,accuracy\n"
          ]
        },
        {
          "output_type": "stream",
          "name": "stdout",
          "text": [
            "\b\b\b\b\b\b\b\b\b\b\b\b\b\b\b\b\b\b\b\b\b\b\b\b\b\b\b\b\b\b\b\b\b\b\b\b\b\b\b\b\b\b\b\b\b\b\b\b\b\b\b\b\b\b\b\b\b\b\b\b\b\b\b\b\b\b\b\b\b\b\b\b\b\b\b\b\b\b\b\b\b\b\b\b\r117/117 [==============================] - 0s 4ms/step - loss: 0.0829 - accuracy: 0.9675\n",
            "Epoch 58/100\n",
            "112/117 [===========================>..] - ETA: 0s - loss: 0.0833 - accuracy: 0.9685"
          ]
        },
        {
          "output_type": "stream",
          "name": "stderr",
          "text": [
            "WARNING:tensorflow:Early stopping conditioned on metric `val_loss` which is not available. Available metrics are: loss,accuracy\n"
          ]
        },
        {
          "output_type": "stream",
          "name": "stdout",
          "text": [
            "\b\b\b\b\b\b\b\b\b\b\b\b\b\b\b\b\b\b\b\b\b\b\b\b\b\b\b\b\b\b\b\b\b\b\b\b\b\b\b\b\b\b\b\b\b\b\b\b\b\b\b\b\b\b\b\b\b\b\b\b\b\b\b\b\b\b\b\b\b\b\b\b\b\b\b\b\b\b\b\b\b\b\b\b\r117/117 [==============================] - 1s 4ms/step - loss: 0.0842 - accuracy: 0.9683\n",
            "Epoch 59/100\n",
            "114/117 [============================>.] - ETA: 0s - loss: 0.0852 - accuracy: 0.9671"
          ]
        },
        {
          "output_type": "stream",
          "name": "stderr",
          "text": [
            "WARNING:tensorflow:Early stopping conditioned on metric `val_loss` which is not available. Available metrics are: loss,accuracy\n"
          ]
        },
        {
          "output_type": "stream",
          "name": "stdout",
          "text": [
            "\b\b\b\b\b\b\b\b\b\b\b\b\b\b\b\b\b\b\b\b\b\b\b\b\b\b\b\b\b\b\b\b\b\b\b\b\b\b\b\b\b\b\b\b\b\b\b\b\b\b\b\b\b\b\b\b\b\b\b\b\b\b\b\b\b\b\b\b\b\b\b\b\b\b\b\b\b\b\b\b\b\b\b\b\r117/117 [==============================] - 0s 4ms/step - loss: 0.0843 - accuracy: 0.9678\n",
            "Epoch 60/100\n",
            "111/117 [===========================>..] - ETA: 0s - loss: 0.0798 - accuracy: 0.9693"
          ]
        },
        {
          "output_type": "stream",
          "name": "stderr",
          "text": [
            "WARNING:tensorflow:Early stopping conditioned on metric `val_loss` which is not available. Available metrics are: loss,accuracy\n"
          ]
        },
        {
          "output_type": "stream",
          "name": "stdout",
          "text": [
            "\b\b\b\b\b\b\b\b\b\b\b\b\b\b\b\b\b\b\b\b\b\b\b\b\b\b\b\b\b\b\b\b\b\b\b\b\b\b\b\b\b\b\b\b\b\b\b\b\b\b\b\b\b\b\b\b\b\b\b\b\b\b\b\b\b\b\b\b\b\b\b\b\b\b\b\b\b\b\b\b\b\b\b\b\r117/117 [==============================] - 0s 4ms/step - loss: 0.0806 - accuracy: 0.9691\n",
            "Epoch 61/100\n",
            "110/117 [===========================>..] - ETA: 0s - loss: 0.0831 - accuracy: 0.9651"
          ]
        },
        {
          "output_type": "stream",
          "name": "stderr",
          "text": [
            "WARNING:tensorflow:Early stopping conditioned on metric `val_loss` which is not available. Available metrics are: loss,accuracy\n"
          ]
        },
        {
          "output_type": "stream",
          "name": "stdout",
          "text": [
            "\b\b\b\b\b\b\b\b\b\b\b\b\b\b\b\b\b\b\b\b\b\b\b\b\b\b\b\b\b\b\b\b\b\b\b\b\b\b\b\b\b\b\b\b\b\b\b\b\b\b\b\b\b\b\b\b\b\b\b\b\b\b\b\b\b\b\b\b\b\b\b\b\b\b\b\b\b\b\b\b\b\b\b\b\r117/117 [==============================] - 0s 4ms/step - loss: 0.0820 - accuracy: 0.9651\n",
            "Epoch 62/100\n",
            "116/117 [============================>.] - ETA: 0s - loss: 0.0811 - accuracy: 0.9685"
          ]
        },
        {
          "output_type": "stream",
          "name": "stderr",
          "text": [
            "WARNING:tensorflow:Early stopping conditioned on metric `val_loss` which is not available. Available metrics are: loss,accuracy\n"
          ]
        },
        {
          "output_type": "stream",
          "name": "stdout",
          "text": [
            "\b\b\b\b\b\b\b\b\b\b\b\b\b\b\b\b\b\b\b\b\b\b\b\b\b\b\b\b\b\b\b\b\b\b\b\b\b\b\b\b\b\b\b\b\b\b\b\b\b\b\b\b\b\b\b\b\b\b\b\b\b\b\b\b\b\b\b\b\b\b\b\b\b\b\b\b\b\b\b\b\b\b\b\b\r117/117 [==============================] - 0s 4ms/step - loss: 0.0810 - accuracy: 0.9686\n",
            "Epoch 63/100\n",
            "111/117 [===========================>..] - ETA: 0s - loss: 0.0835 - accuracy: 0.9673"
          ]
        },
        {
          "output_type": "stream",
          "name": "stderr",
          "text": [
            "WARNING:tensorflow:Early stopping conditioned on metric `val_loss` which is not available. Available metrics are: loss,accuracy\n"
          ]
        },
        {
          "output_type": "stream",
          "name": "stdout",
          "text": [
            "\b\b\b\b\b\b\b\b\b\b\b\b\b\b\b\b\b\b\b\b\b\b\b\b\b\b\b\b\b\b\b\b\b\b\b\b\b\b\b\b\b\b\b\b\b\b\b\b\b\b\b\b\b\b\b\b\b\b\b\b\b\b\b\b\b\b\b\b\b\b\b\b\b\b\b\b\b\b\b\b\b\b\b\b\r117/117 [==============================] - 1s 4ms/step - loss: 0.0816 - accuracy: 0.9681\n",
            "Epoch 64/100\n",
            "109/117 [==========================>...] - ETA: 0s - loss: 0.0800 - accuracy: 0.9679"
          ]
        },
        {
          "output_type": "stream",
          "name": "stderr",
          "text": [
            "WARNING:tensorflow:Early stopping conditioned on metric `val_loss` which is not available. Available metrics are: loss,accuracy\n"
          ]
        },
        {
          "output_type": "stream",
          "name": "stdout",
          "text": [
            "\b\b\b\b\b\b\b\b\b\b\b\b\b\b\b\b\b\b\b\b\b\b\b\b\b\b\b\b\b\b\b\b\b\b\b\b\b\b\b\b\b\b\b\b\b\b\b\b\b\b\b\b\b\b\b\b\b\b\b\b\b\b\b\b\b\b\b\b\b\b\b\b\b\b\b\b\b\b\b\b\b\b\b\b\r117/117 [==============================] - 0s 4ms/step - loss: 0.0789 - accuracy: 0.9678\n",
            "Epoch 65/100\n",
            "112/117 [===========================>..] - ETA: 0s - loss: 0.0794 - accuracy: 0.9707"
          ]
        },
        {
          "output_type": "stream",
          "name": "stderr",
          "text": [
            "WARNING:tensorflow:Early stopping conditioned on metric `val_loss` which is not available. Available metrics are: loss,accuracy\n"
          ]
        },
        {
          "output_type": "stream",
          "name": "stdout",
          "text": [
            "\b\b\b\b\b\b\b\b\b\b\b\b\b\b\b\b\b\b\b\b\b\b\b\b\b\b\b\b\b\b\b\b\b\b\b\b\b\b\b\b\b\b\b\b\b\b\b\b\b\b\b\b\b\b\b\b\b\b\b\b\b\b\b\b\b\b\b\b\b\b\b\b\b\b\b\b\b\b\b\b\b\b\b\b\r117/117 [==============================] - 1s 5ms/step - loss: 0.0798 - accuracy: 0.9705\n",
            "Epoch 66/100\n",
            "116/117 [============================>.] - ETA: 0s - loss: 0.0768 - accuracy: 0.9723"
          ]
        },
        {
          "output_type": "stream",
          "name": "stderr",
          "text": [
            "WARNING:tensorflow:Early stopping conditioned on metric `val_loss` which is not available. Available metrics are: loss,accuracy\n"
          ]
        },
        {
          "output_type": "stream",
          "name": "stdout",
          "text": [
            "\b\b\b\b\b\b\b\b\b\b\b\b\b\b\b\b\b\b\b\b\b\b\b\b\b\b\b\b\b\b\b\b\b\b\b\b\b\b\b\b\b\b\b\b\b\b\b\b\b\b\b\b\b\b\b\b\b\b\b\b\b\b\b\b\b\b\b\b\b\b\b\b\b\b\b\b\b\b\b\b\b\b\b\b\r117/117 [==============================] - 0s 4ms/step - loss: 0.0787 - accuracy: 0.9716\n",
            "Epoch 67/100\n",
            "106/117 [==========================>...] - ETA: 0s - loss: 0.0747 - accuracy: 0.9732"
          ]
        },
        {
          "output_type": "stream",
          "name": "stderr",
          "text": [
            "WARNING:tensorflow:Early stopping conditioned on metric `val_loss` which is not available. Available metrics are: loss,accuracy\n"
          ]
        },
        {
          "output_type": "stream",
          "name": "stdout",
          "text": [
            "\b\b\b\b\b\b\b\b\b\b\b\b\b\b\b\b\b\b\b\b\b\b\b\b\b\b\b\b\b\b\b\b\b\b\b\b\b\b\b\b\b\b\b\b\b\b\b\b\b\b\b\b\b\b\b\b\b\b\b\b\b\b\b\b\b\b\b\b\b\b\b\b\b\b\b\b\b\b\b\b\b\b\b\b\r117/117 [==============================] - 0s 4ms/step - loss: 0.0773 - accuracy: 0.9718\n",
            "Epoch 68/100\n",
            "115/117 [============================>.] - ETA: 0s - loss: 0.0774 - accuracy: 0.9698"
          ]
        },
        {
          "output_type": "stream",
          "name": "stderr",
          "text": [
            "WARNING:tensorflow:Early stopping conditioned on metric `val_loss` which is not available. Available metrics are: loss,accuracy\n"
          ]
        },
        {
          "output_type": "stream",
          "name": "stdout",
          "text": [
            "\b\b\b\b\b\b\b\b\b\b\b\b\b\b\b\b\b\b\b\b\b\b\b\b\b\b\b\b\b\b\b\b\b\b\b\b\b\b\b\b\b\b\b\b\b\b\b\b\b\b\b\b\b\b\b\b\b\b\b\b\b\b\b\b\b\b\b\b\b\b\b\b\b\b\b\b\b\b\b\b\b\b\b\b\r117/117 [==============================] - 1s 6ms/step - loss: 0.0771 - accuracy: 0.9699\n",
            "Epoch 69/100\n",
            "115/117 [============================>.] - ETA: 0s - loss: 0.0759 - accuracy: 0.9701"
          ]
        },
        {
          "output_type": "stream",
          "name": "stderr",
          "text": [
            "WARNING:tensorflow:Early stopping conditioned on metric `val_loss` which is not available. Available metrics are: loss,accuracy\n"
          ]
        },
        {
          "output_type": "stream",
          "name": "stdout",
          "text": [
            "\b\b\b\b\b\b\b\b\b\b\b\b\b\b\b\b\b\b\b\b\b\b\b\b\b\b\b\b\b\b\b\b\b\b\b\b\b\b\b\b\b\b\b\b\b\b\b\b\b\b\b\b\b\b\b\b\b\b\b\b\b\b\b\b\b\b\b\b\b\b\b\b\b\b\b\b\b\b\b\b\b\b\b\b\r117/117 [==============================] - 1s 6ms/step - loss: 0.0757 - accuracy: 0.9705\n",
            "Epoch 70/100\n",
            "116/117 [============================>.] - ETA: 0s - loss: 0.0769 - accuracy: 0.9714"
          ]
        },
        {
          "output_type": "stream",
          "name": "stderr",
          "text": [
            "WARNING:tensorflow:Early stopping conditioned on metric `val_loss` which is not available. Available metrics are: loss,accuracy\n"
          ]
        },
        {
          "output_type": "stream",
          "name": "stdout",
          "text": [
            "\b\b\b\b\b\b\b\b\b\b\b\b\b\b\b\b\b\b\b\b\b\b\b\b\b\b\b\b\b\b\b\b\b\b\b\b\b\b\b\b\b\b\b\b\b\b\b\b\b\b\b\b\b\b\b\b\b\b\b\b\b\b\b\b\b\b\b\b\b\b\b\b\b\b\b\b\b\b\b\b\b\b\b\b\r117/117 [==============================] - 1s 5ms/step - loss: 0.0767 - accuracy: 0.9716\n",
            "Epoch 71/100\n",
            "113/117 [===========================>..] - ETA: 0s - loss: 0.0750 - accuracy: 0.9699"
          ]
        },
        {
          "output_type": "stream",
          "name": "stderr",
          "text": [
            "WARNING:tensorflow:Early stopping conditioned on metric `val_loss` which is not available. Available metrics are: loss,accuracy\n"
          ]
        },
        {
          "output_type": "stream",
          "name": "stdout",
          "text": [
            "\b\b\b\b\b\b\b\b\b\b\b\b\b\b\b\b\b\b\b\b\b\b\b\b\b\b\b\b\b\b\b\b\b\b\b\b\b\b\b\b\b\b\b\b\b\b\b\b\b\b\b\b\b\b\b\b\b\b\b\b\b\b\b\b\b\b\b\b\b\b\b\b\b\b\b\b\b\b\b\b\b\b\b\b\r117/117 [==============================] - 1s 6ms/step - loss: 0.0754 - accuracy: 0.9697\n",
            "Epoch 72/100\n",
            "112/117 [===========================>..] - ETA: 0s - loss: 0.0757 - accuracy: 0.9704"
          ]
        },
        {
          "output_type": "stream",
          "name": "stderr",
          "text": [
            "WARNING:tensorflow:Early stopping conditioned on metric `val_loss` which is not available. Available metrics are: loss,accuracy\n"
          ]
        },
        {
          "output_type": "stream",
          "name": "stdout",
          "text": [
            "\b\b\b\b\b\b\b\b\b\b\b\b\b\b\b\b\b\b\b\b\b\b\b\b\b\b\b\b\b\b\b\b\b\b\b\b\b\b\b\b\b\b\b\b\b\b\b\b\b\b\b\b\b\b\b\b\b\b\b\b\b\b\b\b\b\b\b\b\b\b\b\b\b\b\b\b\b\b\b\b\b\b\b\b\r117/117 [==============================] - 1s 5ms/step - loss: 0.0739 - accuracy: 0.9713\n",
            "Epoch 73/100\n",
            "107/117 [==========================>...] - ETA: 0s - loss: 0.0737 - accuracy: 0.9714"
          ]
        },
        {
          "output_type": "stream",
          "name": "stderr",
          "text": [
            "WARNING:tensorflow:Early stopping conditioned on metric `val_loss` which is not available. Available metrics are: loss,accuracy\n"
          ]
        },
        {
          "output_type": "stream",
          "name": "stdout",
          "text": [
            "\b\b\b\b\b\b\b\b\b\b\b\b\b\b\b\b\b\b\b\b\b\b\b\b\b\b\b\b\b\b\b\b\b\b\b\b\b\b\b\b\b\b\b\b\b\b\b\b\b\b\b\b\b\b\b\b\b\b\b\b\b\b\b\b\b\b\b\b\b\b\b\b\b\b\b\b\b\b\b\b\b\b\b\b\r117/117 [==============================] - 1s 5ms/step - loss: 0.0741 - accuracy: 0.9705\n",
            "Epoch 74/100\n",
            "112/117 [===========================>..] - ETA: 0s - loss: 0.0746 - accuracy: 0.9707"
          ]
        },
        {
          "output_type": "stream",
          "name": "stderr",
          "text": [
            "WARNING:tensorflow:Early stopping conditioned on metric `val_loss` which is not available. Available metrics are: loss,accuracy\n"
          ]
        },
        {
          "output_type": "stream",
          "name": "stdout",
          "text": [
            "\b\b\b\b\b\b\b\b\b\b\b\b\b\b\b\b\b\b\b\b\b\b\b\b\b\b\b\b\b\b\b\b\b\b\b\b\b\b\b\b\b\b\b\b\b\b\b\b\b\b\b\b\b\b\b\b\b\b\b\b\b\b\b\b\b\b\b\b\b\b\b\b\b\b\b\b\b\b\b\b\b\b\b\b\r117/117 [==============================] - 1s 4ms/step - loss: 0.0745 - accuracy: 0.9705\n",
            "Epoch 75/100\n",
            "115/117 [============================>.] - ETA: 0s - loss: 0.0751 - accuracy: 0.9715"
          ]
        },
        {
          "output_type": "stream",
          "name": "stderr",
          "text": [
            "WARNING:tensorflow:Early stopping conditioned on metric `val_loss` which is not available. Available metrics are: loss,accuracy\n"
          ]
        },
        {
          "output_type": "stream",
          "name": "stdout",
          "text": [
            "\b\b\b\b\b\b\b\b\b\b\b\b\b\b\b\b\b\b\b\b\b\b\b\b\b\b\b\b\b\b\b\b\b\b\b\b\b\b\b\b\b\b\b\b\b\b\b\b\b\b\b\b\b\b\b\b\b\b\b\b\b\b\b\b\b\b\b\b\b\b\b\b\b\b\b\b\b\b\b\b\b\b\b\b\r117/117 [==============================] - 1s 5ms/step - loss: 0.0743 - accuracy: 0.9718\n",
            "Epoch 76/100\n",
            "104/117 [=========================>....] - ETA: 0s - loss: 0.0702 - accuracy: 0.9718"
          ]
        },
        {
          "output_type": "stream",
          "name": "stderr",
          "text": [
            "WARNING:tensorflow:Early stopping conditioned on metric `val_loss` which is not available. Available metrics are: loss,accuracy\n"
          ]
        },
        {
          "output_type": "stream",
          "name": "stdout",
          "text": [
            "\b\b\b\b\b\b\b\b\b\b\b\b\b\b\b\b\b\b\b\b\b\b\b\b\b\b\b\b\b\b\b\b\b\b\b\b\b\b\b\b\b\b\b\b\b\b\b\b\b\b\b\b\b\b\b\b\b\b\b\b\b\b\b\b\b\b\b\b\b\b\b\b\b\b\b\b\b\b\b\b\b\b\b\b\r117/117 [==============================] - 1s 4ms/step - loss: 0.0712 - accuracy: 0.9716\n",
            "Epoch 77/100\n",
            "117/117 [==============================] - ETA: 0s - loss: 0.0747 - accuracy: 0.9732"
          ]
        },
        {
          "output_type": "stream",
          "name": "stderr",
          "text": [
            "WARNING:tensorflow:Early stopping conditioned on metric `val_loss` which is not available. Available metrics are: loss,accuracy\n"
          ]
        },
        {
          "output_type": "stream",
          "name": "stdout",
          "text": [
            "\b\b\b\b\b\b\b\b\b\b\b\b\b\b\b\b\b\b\b\b\b\b\b\b\b\b\b\b\b\b\b\b\b\b\b\b\b\b\b\b\b\b\b\b\b\b\b\b\b\b\b\b\b\b\b\b\b\b\b\b\b\b\b\b\b\b\b\b\b\b\b\b\b\b\b\b\b\b\b\b\b\b\b\b\r117/117 [==============================] - 0s 4ms/step - loss: 0.0747 - accuracy: 0.9732\n",
            "Epoch 78/100\n",
            "105/117 [=========================>....] - ETA: 0s - loss: 0.0722 - accuracy: 0.9696"
          ]
        },
        {
          "output_type": "stream",
          "name": "stderr",
          "text": [
            "WARNING:tensorflow:Early stopping conditioned on metric `val_loss` which is not available. Available metrics are: loss,accuracy\n"
          ]
        },
        {
          "output_type": "stream",
          "name": "stdout",
          "text": [
            "\b\b\b\b\b\b\b\b\b\b\b\b\b\b\b\b\b\b\b\b\b\b\b\b\b\b\b\b\b\b\b\b\b\b\b\b\b\b\b\b\b\b\b\b\b\b\b\b\b\b\b\b\b\b\b\b\b\b\b\b\b\b\b\b\b\b\b\b\b\b\b\b\b\b\b\b\b\b\b\b\b\b\b\b\r117/117 [==============================] - 0s 4ms/step - loss: 0.0707 - accuracy: 0.9710\n",
            "Epoch 79/100\n",
            "117/117 [==============================] - ETA: 0s - loss: 0.0757 - accuracy: 0.9713"
          ]
        },
        {
          "output_type": "stream",
          "name": "stderr",
          "text": [
            "WARNING:tensorflow:Early stopping conditioned on metric `val_loss` which is not available. Available metrics are: loss,accuracy\n"
          ]
        },
        {
          "output_type": "stream",
          "name": "stdout",
          "text": [
            "\b\b\b\b\b\b\b\b\b\b\b\b\b\b\b\b\b\b\b\b\b\b\b\b\b\b\b\b\b\b\b\b\b\b\b\b\b\b\b\b\b\b\b\b\b\b\b\b\b\b\b\b\b\b\b\b\b\b\b\b\b\b\b\b\b\b\b\b\b\b\b\b\b\b\b\b\b\b\b\b\b\b\b\b\r117/117 [==============================] - 0s 4ms/step - loss: 0.0757 - accuracy: 0.9713\n",
            "Epoch 80/100\n",
            "110/117 [===========================>..] - ETA: 0s - loss: 0.0707 - accuracy: 0.9716"
          ]
        },
        {
          "output_type": "stream",
          "name": "stderr",
          "text": [
            "WARNING:tensorflow:Early stopping conditioned on metric `val_loss` which is not available. Available metrics are: loss,accuracy\n"
          ]
        },
        {
          "output_type": "stream",
          "name": "stdout",
          "text": [
            "\b\b\b\b\b\b\b\b\b\b\b\b\b\b\b\b\b\b\b\b\b\b\b\b\b\b\b\b\b\b\b\b\b\b\b\b\b\b\b\b\b\b\b\b\b\b\b\b\b\b\b\b\b\b\b\b\b\b\b\b\b\b\b\b\b\b\b\b\b\b\b\b\b\b\b\b\b\b\b\b\b\b\b\b\r117/117 [==============================] - 0s 4ms/step - loss: 0.0704 - accuracy: 0.9718\n",
            "Epoch 81/100\n",
            "109/117 [==========================>...] - ETA: 0s - loss: 0.0711 - accuracy: 0.9713"
          ]
        },
        {
          "output_type": "stream",
          "name": "stderr",
          "text": [
            "WARNING:tensorflow:Early stopping conditioned on metric `val_loss` which is not available. Available metrics are: loss,accuracy\n"
          ]
        },
        {
          "output_type": "stream",
          "name": "stdout",
          "text": [
            "\b\b\b\b\b\b\b\b\b\b\b\b\b\b\b\b\b\b\b\b\b\b\b\b\b\b\b\b\b\b\b\b\b\b\b\b\b\b\b\b\b\b\b\b\b\b\b\b\b\b\b\b\b\b\b\b\b\b\b\b\b\b\b\b\b\b\b\b\b\b\b\b\b\b\b\b\b\b\b\b\b\b\b\b\r117/117 [==============================] - 0s 4ms/step - loss: 0.0703 - accuracy: 0.9716\n",
            "Epoch 82/100\n",
            "117/117 [==============================] - ETA: 0s - loss: 0.0678 - accuracy: 0.9750"
          ]
        },
        {
          "output_type": "stream",
          "name": "stderr",
          "text": [
            "WARNING:tensorflow:Early stopping conditioned on metric `val_loss` which is not available. Available metrics are: loss,accuracy\n"
          ]
        },
        {
          "output_type": "stream",
          "name": "stdout",
          "text": [
            "\b\b\b\b\b\b\b\b\b\b\b\b\b\b\b\b\b\b\b\b\b\b\b\b\b\b\b\b\b\b\b\b\b\b\b\b\b\b\b\b\b\b\b\b\b\b\b\b\b\b\b\b\b\b\b\b\b\b\b\b\b\b\b\b\b\b\b\b\b\b\b\b\b\b\b\b\b\b\b\b\b\b\b\b\r117/117 [==============================] - 0s 4ms/step - loss: 0.0678 - accuracy: 0.9750\n",
            "Epoch 83/100\n",
            "115/117 [============================>.] - ETA: 0s - loss: 0.0692 - accuracy: 0.9736"
          ]
        },
        {
          "output_type": "stream",
          "name": "stderr",
          "text": [
            "WARNING:tensorflow:Early stopping conditioned on metric `val_loss` which is not available. Available metrics are: loss,accuracy\n"
          ]
        },
        {
          "output_type": "stream",
          "name": "stdout",
          "text": [
            "\b\b\b\b\b\b\b\b\b\b\b\b\b\b\b\b\b\b\b\b\b\b\b\b\b\b\b\b\b\b\b\b\b\b\b\b\b\b\b\b\b\b\b\b\b\b\b\b\b\b\b\b\b\b\b\b\b\b\b\b\b\b\b\b\b\b\b\b\b\b\b\b\b\b\b\b\b\b\b\b\b\b\b\b\r117/117 [==============================] - 1s 5ms/step - loss: 0.0690 - accuracy: 0.9734\n",
            "Epoch 84/100\n",
            "105/117 [=========================>....] - ETA: 0s - loss: 0.0694 - accuracy: 0.9732"
          ]
        },
        {
          "output_type": "stream",
          "name": "stderr",
          "text": [
            "WARNING:tensorflow:Early stopping conditioned on metric `val_loss` which is not available. Available metrics are: loss,accuracy\n"
          ]
        },
        {
          "output_type": "stream",
          "name": "stdout",
          "text": [
            "\b\b\b\b\b\b\b\b\b\b\b\b\b\b\b\b\b\b\b\b\b\b\b\b\b\b\b\b\b\b\b\b\b\b\b\b\b\b\b\b\b\b\b\b\b\b\b\b\b\b\b\b\b\b\b\b\b\b\b\b\b\b\b\b\b\b\b\b\b\b\b\b\b\b\b\b\b\b\b\b\b\b\b\b\r117/117 [==============================] - 0s 4ms/step - loss: 0.0678 - accuracy: 0.9742\n",
            "Epoch 85/100\n",
            "109/117 [==========================>...] - ETA: 0s - loss: 0.0692 - accuracy: 0.9719"
          ]
        },
        {
          "output_type": "stream",
          "name": "stderr",
          "text": [
            "WARNING:tensorflow:Early stopping conditioned on metric `val_loss` which is not available. Available metrics are: loss,accuracy\n"
          ]
        },
        {
          "output_type": "stream",
          "name": "stdout",
          "text": [
            "\b\b\b\b\b\b\b\b\b\b\b\b\b\b\b\b\b\b\b\b\b\b\b\b\b\b\b\b\b\b\b\b\b\b\b\b\b\b\b\b\b\b\b\b\b\b\b\b\b\b\b\b\b\b\b\b\b\b\b\b\b\b\b\b\b\b\b\b\b\b\b\b\b\b\b\b\b\b\b\b\b\b\b\b\r117/117 [==============================] - 1s 5ms/step - loss: 0.0705 - accuracy: 0.9716\n",
            "Epoch 86/100\n",
            "114/117 [============================>.] - ETA: 0s - loss: 0.0642 - accuracy: 0.9742"
          ]
        },
        {
          "output_type": "stream",
          "name": "stderr",
          "text": [
            "WARNING:tensorflow:Early stopping conditioned on metric `val_loss` which is not available. Available metrics are: loss,accuracy\n"
          ]
        },
        {
          "output_type": "stream",
          "name": "stdout",
          "text": [
            "\b\b\b\b\b\b\b\b\b\b\b\b\b\b\b\b\b\b\b\b\b\b\b\b\b\b\b\b\b\b\b\b\b\b\b\b\b\b\b\b\b\b\b\b\b\b\b\b\b\b\b\b\b\b\b\b\b\b\b\b\b\b\b\b\b\b\b\b\b\b\b\b\b\b\b\b\b\b\b\b\b\b\b\b\r117/117 [==============================] - 0s 4ms/step - loss: 0.0681 - accuracy: 0.9732\n",
            "Epoch 87/100\n",
            "106/117 [==========================>...] - ETA: 0s - loss: 0.0688 - accuracy: 0.9732"
          ]
        },
        {
          "output_type": "stream",
          "name": "stderr",
          "text": [
            "WARNING:tensorflow:Early stopping conditioned on metric `val_loss` which is not available. Available metrics are: loss,accuracy\n"
          ]
        },
        {
          "output_type": "stream",
          "name": "stdout",
          "text": [
            "\b\b\b\b\b\b\b\b\b\b\b\b\b\b\b\b\b\b\b\b\b\b\b\b\b\b\b\b\b\b\b\b\b\b\b\b\b\b\b\b\b\b\b\b\b\b\b\b\b\b\b\b\b\b\b\b\b\b\b\b\b\b\b\b\b\b\b\b\b\b\b\b\b\b\b\b\b\b\b\b\b\b\b\b\r117/117 [==============================] - 0s 4ms/step - loss: 0.0674 - accuracy: 0.9732\n",
            "Epoch 88/100\n",
            "104/117 [=========================>....] - ETA: 0s - loss: 0.0674 - accuracy: 0.9739"
          ]
        },
        {
          "output_type": "stream",
          "name": "stderr",
          "text": [
            "WARNING:tensorflow:Early stopping conditioned on metric `val_loss` which is not available. Available metrics are: loss,accuracy\n"
          ]
        },
        {
          "output_type": "stream",
          "name": "stdout",
          "text": [
            "\b\b\b\b\b\b\b\b\b\b\b\b\b\b\b\b\b\b\b\b\b\b\b\b\b\b\b\b\b\b\b\b\b\b\b\b\b\b\b\b\b\b\b\b\b\b\b\b\b\b\b\b\b\b\b\b\b\b\b\b\b\b\b\b\b\b\b\b\b\b\b\b\b\b\b\b\b\b\b\b\b\b\b\b\r117/117 [==============================] - 0s 4ms/step - loss: 0.0670 - accuracy: 0.9729\n",
            "Epoch 89/100\n",
            "105/117 [=========================>....] - ETA: 0s - loss: 0.0635 - accuracy: 0.9747"
          ]
        },
        {
          "output_type": "stream",
          "name": "stderr",
          "text": [
            "WARNING:tensorflow:Early stopping conditioned on metric `val_loss` which is not available. Available metrics are: loss,accuracy\n"
          ]
        },
        {
          "output_type": "stream",
          "name": "stdout",
          "text": [
            "\b\b\b\b\b\b\b\b\b\b\b\b\b\b\b\b\b\b\b\b\b\b\b\b\b\b\b\b\b\b\b\b\b\b\b\b\b\b\b\b\b\b\b\b\b\b\b\b\b\b\b\b\b\b\b\b\b\b\b\b\b\b\b\b\b\b\b\b\b\b\b\b\b\b\b\b\b\b\b\b\b\b\b\b\r117/117 [==============================] - 0s 4ms/step - loss: 0.0667 - accuracy: 0.9734\n",
            "Epoch 90/100\n",
            "104/117 [=========================>....] - ETA: 0s - loss: 0.0691 - accuracy: 0.9742"
          ]
        },
        {
          "output_type": "stream",
          "name": "stderr",
          "text": [
            "WARNING:tensorflow:Early stopping conditioned on metric `val_loss` which is not available. Available metrics are: loss,accuracy\n"
          ]
        },
        {
          "output_type": "stream",
          "name": "stdout",
          "text": [
            "\b\b\b\b\b\b\b\b\b\b\b\b\b\b\b\b\b\b\b\b\b\b\b\b\b\b\b\b\b\b\b\b\b\b\b\b\b\b\b\b\b\b\b\b\b\b\b\b\b\b\b\b\b\b\b\b\b\b\b\b\b\b\b\b\b\b\b\b\b\b\b\b\b\b\b\b\b\b\b\b\b\b\b\b\r117/117 [==============================] - 0s 3ms/step - loss: 0.0682 - accuracy: 0.9742\n",
            "Epoch 91/100\n",
            "115/117 [============================>.] - ETA: 0s - loss: 0.0650 - accuracy: 0.9764"
          ]
        },
        {
          "output_type": "stream",
          "name": "stderr",
          "text": [
            "WARNING:tensorflow:Early stopping conditioned on metric `val_loss` which is not available. Available metrics are: loss,accuracy\n"
          ]
        },
        {
          "output_type": "stream",
          "name": "stdout",
          "text": [
            "\b\b\b\b\b\b\b\b\b\b\b\b\b\b\b\b\b\b\b\b\b\b\b\b\b\b\b\b\b\b\b\b\b\b\b\b\b\b\b\b\b\b\b\b\b\b\b\b\b\b\b\b\b\b\b\b\b\b\b\b\b\b\b\b\b\b\b\b\b\b\b\b\b\b\b\b\b\b\b\b\b\b\b\b\r117/117 [==============================] - 0s 3ms/step - loss: 0.0650 - accuracy: 0.9761\n",
            "Epoch 92/100\n",
            "110/117 [===========================>..] - ETA: 0s - loss: 0.0653 - accuracy: 0.9756"
          ]
        },
        {
          "output_type": "stream",
          "name": "stderr",
          "text": [
            "WARNING:tensorflow:Early stopping conditioned on metric `val_loss` which is not available. Available metrics are: loss,accuracy\n"
          ]
        },
        {
          "output_type": "stream",
          "name": "stdout",
          "text": [
            "\b\b\b\b\b\b\b\b\b\b\b\b\b\b\b\b\b\b\b\b\b\b\b\b\b\b\b\b\b\b\b\b\b\b\b\b\b\b\b\b\b\b\b\b\b\b\b\b\b\b\b\b\b\b\b\b\b\b\b\b\b\b\b\b\b\b\b\b\b\b\b\b\b\b\b\b\b\b\b\b\b\b\b\b\r117/117 [==============================] - 1s 4ms/step - loss: 0.0648 - accuracy: 0.9756\n",
            "Epoch 93/100\n",
            "117/117 [==============================] - ETA: 0s - loss: 0.0646 - accuracy: 0.9750"
          ]
        },
        {
          "output_type": "stream",
          "name": "stderr",
          "text": [
            "WARNING:tensorflow:Early stopping conditioned on metric `val_loss` which is not available. Available metrics are: loss,accuracy\n"
          ]
        },
        {
          "output_type": "stream",
          "name": "stdout",
          "text": [
            "\b\b\b\b\b\b\b\b\b\b\b\b\b\b\b\b\b\b\b\b\b\b\b\b\b\b\b\b\b\b\b\b\b\b\b\b\b\b\b\b\b\b\b\b\b\b\b\b\b\b\b\b\b\b\b\b\b\b\b\b\b\b\b\b\b\b\b\b\b\b\b\b\b\b\b\b\b\b\b\b\b\b\b\b\r117/117 [==============================] - 1s 6ms/step - loss: 0.0646 - accuracy: 0.9750\n",
            "Epoch 94/100\n",
            "108/117 [==========================>...] - ETA: 0s - loss: 0.0655 - accuracy: 0.9751"
          ]
        },
        {
          "output_type": "stream",
          "name": "stderr",
          "text": [
            "WARNING:tensorflow:Early stopping conditioned on metric `val_loss` which is not available. Available metrics are: loss,accuracy\n"
          ]
        },
        {
          "output_type": "stream",
          "name": "stdout",
          "text": [
            "\b\b\b\b\b\b\b\b\b\b\b\b\b\b\b\b\b\b\b\b\b\b\b\b\b\b\b\b\b\b\b\b\b\b\b\b\b\b\b\b\b\b\b\b\b\b\b\b\b\b\b\b\b\b\b\b\b\b\b\b\b\b\b\b\b\b\b\b\b\b\b\b\b\b\b\b\b\b\b\b\b\b\b\b\r117/117 [==============================] - 1s 5ms/step - loss: 0.0643 - accuracy: 0.9756\n",
            "Epoch 95/100\n",
            "112/117 [===========================>..] - ETA: 0s - loss: 0.0680 - accuracy: 0.9729"
          ]
        },
        {
          "output_type": "stream",
          "name": "stderr",
          "text": [
            "WARNING:tensorflow:Early stopping conditioned on metric `val_loss` which is not available. Available metrics are: loss,accuracy\n"
          ]
        },
        {
          "output_type": "stream",
          "name": "stdout",
          "text": [
            "\b\b\b\b\b\b\b\b\b\b\b\b\b\b\b\b\b\b\b\b\b\b\b\b\b\b\b\b\b\b\b\b\b\b\b\b\b\b\b\b\b\b\b\b\b\b\b\b\b\b\b\b\b\b\b\b\b\b\b\b\b\b\b\b\b\b\b\b\b\b\b\b\b\b\b\b\b\b\b\b\b\b\b\b\r117/117 [==============================] - 1s 6ms/step - loss: 0.0677 - accuracy: 0.9729\n",
            "Epoch 96/100\n",
            "111/117 [===========================>..] - ETA: 0s - loss: 0.0646 - accuracy: 0.9758"
          ]
        },
        {
          "output_type": "stream",
          "name": "stderr",
          "text": [
            "WARNING:tensorflow:Early stopping conditioned on metric `val_loss` which is not available. Available metrics are: loss,accuracy\n"
          ]
        },
        {
          "output_type": "stream",
          "name": "stdout",
          "text": [
            "\b\b\b\b\b\b\b\b\b\b\b\b\b\b\b\b\b\b\b\b\b\b\b\b\b\b\b\b\b\b\b\b\b\b\b\b\b\b\b\b\b\b\b\b\b\b\b\b\b\b\b\b\b\b\b\b\b\b\b\b\b\b\b\b\b\b\b\b\b\b\b\b\b\b\b\b\b\b\b\b\b\b\b\b\r117/117 [==============================] - 0s 4ms/step - loss: 0.0637 - accuracy: 0.9764\n",
            "Epoch 97/100\n",
            "114/117 [============================>.] - ETA: 0s - loss: 0.0629 - accuracy: 0.9759"
          ]
        },
        {
          "output_type": "stream",
          "name": "stderr",
          "text": [
            "WARNING:tensorflow:Early stopping conditioned on metric `val_loss` which is not available. Available metrics are: loss,accuracy\n"
          ]
        },
        {
          "output_type": "stream",
          "name": "stdout",
          "text": [
            "\b\b\b\b\b\b\b\b\b\b\b\b\b\b\b\b\b\b\b\b\b\b\b\b\b\b\b\b\b\b\b\b\b\b\b\b\b\b\b\b\b\b\b\b\b\b\b\b\b\b\b\b\b\b\b\b\b\b\b\b\b\b\b\b\b\b\b\b\b\b\b\b\b\b\b\b\b\b\b\b\b\b\b\b\r117/117 [==============================] - 0s 4ms/step - loss: 0.0623 - accuracy: 0.9761\n",
            "Epoch 98/100\n",
            "115/117 [============================>.] - ETA: 0s - loss: 0.0633 - accuracy: 0.9750"
          ]
        },
        {
          "output_type": "stream",
          "name": "stderr",
          "text": [
            "WARNING:tensorflow:Early stopping conditioned on metric `val_loss` which is not available. Available metrics are: loss,accuracy\n"
          ]
        },
        {
          "output_type": "stream",
          "name": "stdout",
          "text": [
            "\b\b\b\b\b\b\b\b\b\b\b\b\b\b\b\b\b\b\b\b\b\b\b\b\b\b\b\b\b\b\b\b\b\b\b\b\b\b\b\b\b\b\b\b\b\b\b\b\b\b\b\b\b\b\b\b\b\b\b\b\b\b\b\b\b\b\b\b\b\b\b\b\b\b\b\b\b\b\b\b\b\b\b\b\r117/117 [==============================] - 0s 3ms/step - loss: 0.0628 - accuracy: 0.9750\n",
            "Epoch 99/100\n",
            "105/117 [=========================>....] - ETA: 0s - loss: 0.0624 - accuracy: 0.9747"
          ]
        },
        {
          "output_type": "stream",
          "name": "stderr",
          "text": [
            "WARNING:tensorflow:Early stopping conditioned on metric `val_loss` which is not available. Available metrics are: loss,accuracy\n"
          ]
        },
        {
          "output_type": "stream",
          "name": "stdout",
          "text": [
            "\b\b\b\b\b\b\b\b\b\b\b\b\b\b\b\b\b\b\b\b\b\b\b\b\b\b\b\b\b\b\b\b\b\b\b\b\b\b\b\b\b\b\b\b\b\b\b\b\b\b\b\b\b\b\b\b\b\b\b\b\b\b\b\b\b\b\b\b\b\b\b\b\b\b\b\b\b\b\b\b\b\b\b\b\r117/117 [==============================] - 0s 4ms/step - loss: 0.0605 - accuracy: 0.9759\n",
            "Epoch 100/100\n",
            "117/117 [==============================] - ETA: 0s - loss: 0.0609 - accuracy: 0.9769"
          ]
        },
        {
          "output_type": "stream",
          "name": "stderr",
          "text": [
            "WARNING:tensorflow:Early stopping conditioned on metric `val_loss` which is not available. Available metrics are: loss,accuracy\n"
          ]
        },
        {
          "output_type": "stream",
          "name": "stdout",
          "text": [
            "117/117 [==============================] - 0s 4ms/step - loss: 0.0609 - accuracy: 0.9769\n",
            "30/30 [==============================] - 1s 2ms/step - loss: 0.0677 - accuracy: 0.9699\n",
            "30/30 [==============================] - 1s 1ms/step\n"
          ]
        }
      ]
    },
    {
      "cell_type": "code",
      "source": [
        "# Save the trained LSTM model to a file\n",
        "model_filename = 'lstm_model.h5'\n",
        "lstm_model.save(model_filename)\n",
        "print(f\"Trained LSTM model saved to {model_filename}\")\n",
        "from keras.models import load_model\n",
        "\n",
        "# Load the saved LSTM model\n",
        "loaded_model = load_model('lstm_model.h5')\n",
        "loaded_scaler = joblib.load('scaler.joblib')\n"
      ],
      "metadata": {
        "execution": {
          "iopub.status.busy": "2024-01-17T18:52:51.079856Z",
          "iopub.execute_input": "2024-01-17T18:52:51.081012Z",
          "iopub.status.idle": "2024-01-17T18:52:51.751806Z",
          "shell.execute_reply.started": "2024-01-17T18:52:51.080963Z",
          "shell.execute_reply": "2024-01-17T18:52:51.750718Z"
        },
        "trusted": true,
        "id": "txFa2aABzxwW",
        "colab": {
          "base_uri": "https://localhost:8080/"
        },
        "outputId": "f9736222-ff99-4c17-bb93-541f5d8edcb7"
      },
      "execution_count": 45,
      "outputs": [
        {
          "output_type": "stream",
          "name": "stdout",
          "text": [
            "Trained LSTM model saved to lstm_model.h5\n"
          ]
        },
        {
          "output_type": "stream",
          "name": "stderr",
          "text": [
            "/usr/local/lib/python3.10/dist-packages/keras/src/engine/training.py:3103: UserWarning: You are saving your model as an HDF5 file via `model.save()`. This file format is considered legacy. We recommend using instead the native Keras format, e.g. `model.save('my_model.keras')`.\n",
            "  saving_api.save_model(\n"
          ]
        }
      ]
    },
    {
      "cell_type": "code",
      "source": [
        "# Confusion Matrix\n",
        "conf_matrix = confusion_matrix(y_test, y_pred_binary)\n",
        "\n",
        "metrics_df = pd.DataFrame({\n",
        "    'Metric': ['Accuracy', 'Precision', 'Recall'],\n",
        "    'Score': [accuracy, precision, recall]\n",
        "})\n",
        "\n",
        "# Display Confusion Matrix\n",
        "plt.figure(figsize=(6, 6))\n",
        "sns.heatmap(conf_matrix, annot=True, fmt=\"d\", cmap=\"Blues\", xticklabels=[\"0\", \"1\"], yticklabels=[\"0\", \"1\"])\n",
        "plt.title(\"Confusion Matrix\")\n",
        "plt.xlabel(\"Predicted\")\n",
        "plt.ylabel(\"True\")\n",
        "plt.show()\n",
        "print(\"Metrics:\")\n",
        "print(metrics_df)"
      ],
      "metadata": {
        "execution": {
          "iopub.status.busy": "2024-01-17T18:52:51.752986Z",
          "iopub.execute_input": "2024-01-17T18:52:51.75337Z",
          "iopub.status.idle": "2024-01-17T18:52:52.055074Z",
          "shell.execute_reply.started": "2024-01-17T18:52:51.753337Z",
          "shell.execute_reply": "2024-01-17T18:52:52.053914Z"
        },
        "trusted": true,
        "id": "jkDiNHovzxwX",
        "colab": {
          "base_uri": "https://localhost:8080/",
          "height": 645
        },
        "outputId": "1e4cc8c9-d58c-40a1-a740-7040323b3e3e"
      },
      "execution_count": 46,
      "outputs": [
        {
          "output_type": "display_data",
          "data": {
            "text/plain": [
              "<Figure size 600x600 with 2 Axes>"
            ],
            "image/png": "[encoded data removed]"
          },
          "metadata": {}
        },
        {
          "output_type": "stream",
          "name": "stdout",
          "text": [
            "Metrics:\n",
            "      Metric     Score\n",
            "0   Accuracy  0.991407\n",
            "1  Precision  0.971922\n",
            "2     Recall  0.967742\n"
          ]
        }
      ]
    },
    {
      "cell_type": "markdown",
      "source": [
        "# **MLP**"
      ],
      "metadata": {
        "id": "BDqzM3v3zxwX"
      }
    },
    {
      "cell_type": "code",
      "source": [
        "from tensorflow.keras.layers import Dense\n",
        "\n",
        "# Assuming you have already loaded your data into X_train, y_train, X_test, and y_test\n",
        "# X_train and X_test have shape (number_of_samples, number_of_features)\n",
        "# Build the MLP model\n",
        "MLP = Sequential()\n",
        "MLP.add(Dense(128, input_dim=X_train.shape[1], activation='relu'))\n",
        "MLP.add(Dense(64, activation='relu'))\n",
        "MLP.add(Dense(1, activation='sigmoid'))\n",
        "\n",
        "# Compile the model\n",
        "MLP.compile(optimizer=Adam(learning_rate=0.001), loss='binary_crossentropy', metrics=['accuracy'])\n",
        "\n",
        "# Define early stopping to prevent overfitting\n",
        "early_stopping = EarlyStopping(monitor='val_loss', patience=5, restore_best_weights=True)\n",
        "\n",
        "# Train the model\n",
        "history = MLP.fit(X_train, y_train, epochs=50, batch_size=32, validation_split=0.2, callbacks=[early_stopping])\n",
        "\n",
        "# Evaluate the model on the test set\n",
        "y_pred_prob = MLP.predict(X_test)\n",
        "y_pred_binary = (y_pred_prob > 0.5).astype(int)\n",
        "\n",
        "# Calculate metrics\n",
        "accuracy = accuracy_score(y_test, y_pred_binary)\n",
        "precision = precision_score(y_test, y_pred_binary)\n",
        "recall = recall_score(y_test, y_pred_binary)\n",
        "models['MLP']=MLP\n",
        "# Confusion Matrix\n",
        "conf_matrix = confusion_matrix(y_test, y_pred_binary)\n",
        "\n",
        "# Display metrics\n",
        "print(f\"Accuracy: {accuracy}\")\n",
        "print(f\"Precision: {precision}\")\n",
        "print(f\"Recall: {recall}\")\n",
        "\n",
        "# Display Confusion Matrix\n",
        "plt.figure(figsize=(6, 6))\n",
        "sns.heatmap(conf_matrix, annot=True, fmt=\"d\", cmap=\"Blues\", xticklabels=[\"0\", \"1\"], yticklabels=[\"0\", \"1\"])\n",
        "plt.title(\"Confusion Matrix\")\n",
        "plt.xlabel(\"Predicted\")\n",
        "plt.ylabel(\"True\")\n",
        "plt.show()\n"
      ],
      "metadata": {
        "execution": {
          "iopub.status.busy": "2024-01-17T18:52:52.056413Z",
          "iopub.execute_input": "2024-01-17T18:52:52.05675Z",
          "iopub.status.idle": "2024-01-17T18:52:58.823187Z",
          "shell.execute_reply.started": "2024-01-17T18:52:52.056718Z",
          "shell.execute_reply": "2024-01-17T18:52:58.821875Z"
        },
        "trusted": true,
        "id": "lR_R_hZFzxwY",
        "colab": {
          "base_uri": "https://localhost:8080/",
          "height": 1000
        },
        "outputId": "ee87cacd-9209-42e5-f9ea-a7585da5b1c4"
      },
      "execution_count": 47,
      "outputs": [
        {
          "output_type": "stream",
          "name": "stdout",
          "text": [
            "Epoch 1/50\n",
            "94/94 [==============================] - 1s 4ms/step - loss: 0.3062 - accuracy: 0.8672 - val_loss: 0.1767 - val_accuracy: 0.9303\n",
            "Epoch 2/50\n",
            "94/94 [==============================] - 0s 2ms/step - loss: 0.1477 - accuracy: 0.9443 - val_loss: 0.1259 - val_accuracy: 0.9531\n",
            "Epoch 3/50\n",
            "94/94 [==============================] - 0s 2ms/step - loss: 0.1181 - accuracy: 0.9584 - val_loss: 0.1138 - val_accuracy: 0.9531\n",
            "Epoch 4/50\n",
            "94/94 [==============================] - 0s 2ms/step - loss: 0.1061 - accuracy: 0.9591 - val_loss: 0.1037 - val_accuracy: 0.9558\n",
            "Epoch 5/50\n",
            "94/94 [==============================] - 0s 2ms/step - loss: 0.0924 - accuracy: 0.9678 - val_loss: 0.0959 - val_accuracy: 0.9611\n",
            "Epoch 6/50\n",
            "94/94 [==============================] - 0s 2ms/step - loss: 0.0843 - accuracy: 0.9698 - val_loss: 0.0893 - val_accuracy: 0.9611\n",
            "Epoch 7/50\n",
            "94/94 [==============================] - 0s 2ms/step - loss: 0.0773 - accuracy: 0.9698 - val_loss: 0.0954 - val_accuracy: 0.9611\n",
            "Epoch 8/50\n",
            "94/94 [==============================] - 0s 3ms/step - loss: 0.0748 - accuracy: 0.9712 - val_loss: 0.0921 - val_accuracy: 0.9584\n",
            "Epoch 9/50\n",
            "94/94 [==============================] - 0s 3ms/step - loss: 0.0661 - accuracy: 0.9755 - val_loss: 0.0865 - val_accuracy: 0.9638\n",
            "Epoch 10/50\n",
            "94/94 [==============================] - 0s 3ms/step - loss: 0.0650 - accuracy: 0.9765 - val_loss: 0.0843 - val_accuracy: 0.9611\n",
            "Epoch 11/50\n",
            "94/94 [==============================] - 0s 3ms/step - loss: 0.0620 - accuracy: 0.9779 - val_loss: 0.0836 - val_accuracy: 0.9651\n",
            "Epoch 12/50\n",
            "94/94 [==============================] - 0s 3ms/step - loss: 0.0580 - accuracy: 0.9799 - val_loss: 0.0791 - val_accuracy: 0.9625\n",
            "Epoch 13/50\n",
            "94/94 [==============================] - 0s 3ms/step - loss: 0.0547 - accuracy: 0.9795 - val_loss: 0.0770 - val_accuracy: 0.9705\n",
            "Epoch 14/50\n",
            "94/94 [==============================] - 0s 3ms/step - loss: 0.0545 - accuracy: 0.9805 - val_loss: 0.0805 - val_accuracy: 0.9678\n",
            "Epoch 15/50\n",
            "94/94 [==============================] - 0s 3ms/step - loss: 0.0494 - accuracy: 0.9832 - val_loss: 0.0759 - val_accuracy: 0.9651\n",
            "Epoch 16/50\n",
            "94/94 [==============================] - 0s 3ms/step - loss: 0.0504 - accuracy: 0.9839 - val_loss: 0.0785 - val_accuracy: 0.9678\n",
            "Epoch 17/50\n",
            "94/94 [==============================] - 0s 2ms/step - loss: 0.0524 - accuracy: 0.9822 - val_loss: 0.0820 - val_accuracy: 0.9665\n",
            "Epoch 18/50\n",
            "94/94 [==============================] - 0s 2ms/step - loss: 0.0463 - accuracy: 0.9836 - val_loss: 0.0776 - val_accuracy: 0.9692\n",
            "Epoch 19/50\n",
            "94/94 [==============================] - 0s 2ms/step - loss: 0.0437 - accuracy: 0.9849 - val_loss: 0.0767 - val_accuracy: 0.9705\n",
            "Epoch 20/50\n",
            "94/94 [==============================] - 0s 2ms/step - loss: 0.0481 - accuracy: 0.9839 - val_loss: 0.0778 - val_accuracy: 0.9692\n",
            "30/30 [==============================] - 0s 884us/step\n",
            "Accuracy: 0.9806659505907627\n",
            "Precision: 0.9806451612903225\n",
            "Recall: 0.9806451612903225\n"
          ]
        },
        {
          "output_type": "display_data",
          "data": {
            "text/plain": [
              "<Figure size 600x600 with 2 Axes>"
            ],
            "image/png": "[encoded data removed]"
          },
          "metadata": {}
        }
      ]
    },
    {
      "cell_type": "code",
      "source": [
        "from joblib import dump, load\n",
        "model_filename = 'random_forest_model.joblib'\n",
        "dump(models[rfc_rfe], model_filename)\n",
        "print(f\"Model saved as {model_filename}\")"
      ],
      "metadata": {
        "execution": {
          "iopub.status.busy": "2024-01-17T18:52:58.824739Z",
          "iopub.execute_input": "2024-01-17T18:52:58.825705Z",
          "iopub.status.idle": "2024-01-17T18:52:58.899165Z",
          "shell.execute_reply.started": "2024-01-17T18:52:58.825659Z",
          "shell.execute_reply": "2024-01-17T18:52:58.897086Z"
        },
        "trusted": true,
        "id": "xFMMqwg8zxwY",
        "colab": {
          "base_uri": "https://localhost:8080/"
        },
        "outputId": "04178867-c84c-4b7e-bdaa-f3b5a45f851e"
      },
      "execution_count": 48,
      "outputs": [
        {
          "output_type": "stream",
          "name": "stdout",
          "text": [
            "Model saved as random_forest_model.joblib\n"
          ]
        }
      ]
    }
  ]
}